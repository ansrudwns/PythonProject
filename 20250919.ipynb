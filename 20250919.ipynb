{
 "cells": [
  {
   "cell_type": "markdown",
   "id": "cce30b2b",
   "metadata": {},
   "source": [
    "# 2025-09-19"
   ]
  },
  {
   "cell_type": "code",
   "execution_count": 1,
   "id": "56375d4f",
   "metadata": {},
   "outputs": [
    {
     "name": "stdout",
     "output_type": "stream",
     "text": [
      "안녕 이제 파이썬을 시작하려고 해\n"
     ]
    }
   ],
   "source": [
    "print(\"안녕 이제 파이썬을 시작하려고 해\")"
   ]
  },
  {
   "cell_type": "code",
   "execution_count": null,
   "id": "2cd32f3c",
   "metadata": {},
   "outputs": [],
   "source": [
    "\"Hello\" #문자열 데이터 string"
   ]
  },
  {
   "cell_type": "code",
   "execution_count": 2,
   "id": "dfbb309b",
   "metadata": {},
   "outputs": [
    {
     "data": {
      "text/plain": [
       "'Hello'"
      ]
     },
     "execution_count": 2,
     "metadata": {},
     "output_type": "execute_result"
    }
   ],
   "source": [
    "'Hello'"
   ]
  },
  {
   "cell_type": "code",
   "execution_count": 3,
   "id": "717ffb96",
   "metadata": {},
   "outputs": [
    {
     "data": {
      "text/plain": [
       "'123'"
      ]
     },
     "execution_count": 3,
     "metadata": {},
     "output_type": "execute_result"
    }
   ],
   "source": [
    "'123'"
   ]
  },
  {
   "cell_type": "code",
   "execution_count": null,
   "id": "2fc70a8d",
   "metadata": {},
   "outputs": [],
   "source": [
    "123 #정수형 데이터 integer"
   ]
  },
  {
   "cell_type": "code",
   "execution_count": null,
   "id": "9a5b9de8",
   "metadata": {},
   "outputs": [
    {
     "data": {
      "text/plain": [
       "36.5"
      ]
     },
     "execution_count": 4,
     "metadata": {},
     "output_type": "execute_result"
    }
   ],
   "source": [
    "36.5 #실수형 데이터 float"
   ]
  },
  {
   "cell_type": "code",
   "execution_count": null,
   "id": "02d774d6",
   "metadata": {},
   "outputs": [],
   "source": [
    "True, False #논리 데이터 boolean, 참/거짓"
   ]
  },
  {
   "cell_type": "code",
   "execution_count": 5,
   "id": "fef1aa44",
   "metadata": {},
   "outputs": [
    {
     "name": "stdout",
     "output_type": "stream",
     "text": [
      "Hello\n"
     ]
    }
   ],
   "source": [
    "print(\"Hello\")"
   ]
  },
  {
   "cell_type": "code",
   "execution_count": 6,
   "id": "ddb1a5ce",
   "metadata": {},
   "outputs": [
    {
     "name": "stdout",
     "output_type": "stream",
     "text": [
      "32\n"
     ]
    }
   ],
   "source": [
    "print(29+3)"
   ]
  },
  {
   "cell_type": "code",
   "execution_count": 7,
   "id": "85075641",
   "metadata": {},
   "outputs": [
    {
     "name": "stdout",
     "output_type": "stream",
     "text": [
      "True\n"
     ]
    }
   ],
   "source": [
    "print(True)"
   ]
  },
  {
   "cell_type": "code",
   "execution_count": 8,
   "id": "57e9fe8a",
   "metadata": {},
   "outputs": [
    {
     "ename": "NameError",
     "evalue": "name 'hello' is not defined",
     "output_type": "error",
     "traceback": [
      "\u001b[1;31m---------------------------------------------------------------------------\u001b[0m",
      "\u001b[1;31mNameError\u001b[0m                                 Traceback (most recent call last)",
      "Cell \u001b[1;32mIn[8], line 1\u001b[0m\n\u001b[1;32m----> 1\u001b[0m \u001b[43mhello\u001b[49m\n",
      "\u001b[1;31mNameError\u001b[0m: name 'hello' is not defined"
     ]
    }
   ],
   "source": [
    "hello"
   ]
  },
  {
   "cell_type": "code",
   "execution_count": 9,
   "id": "efdef44e",
   "metadata": {},
   "outputs": [
    {
     "ename": "SyntaxError",
     "evalue": "unterminated string literal (detected at line 1) (210020672.py, line 1)",
     "output_type": "error",
     "traceback": [
      "\u001b[1;36m  Cell \u001b[1;32mIn[9], line 1\u001b[1;36m\u001b[0m\n\u001b[1;33m    print('Hello\")\u001b[0m\n\u001b[1;37m          ^\u001b[0m\n\u001b[1;31mSyntaxError\u001b[0m\u001b[1;31m:\u001b[0m unterminated string literal (detected at line 1)\n"
     ]
    }
   ],
   "source": [
    "print('Hello\")"
   ]
  },
  {
   "cell_type": "code",
   "execution_count": 10,
   "id": "14e9e316",
   "metadata": {},
   "outputs": [
    {
     "ename": "SyntaxError",
     "evalue": "incomplete input (1103635973.py, line 1)",
     "output_type": "error",
     "traceback": [
      "\u001b[1;36m  Cell \u001b[1;32mIn[10], line 1\u001b[1;36m\u001b[0m\n\u001b[1;33m    print('Hello'\u001b[0m\n\u001b[1;37m                 ^\u001b[0m\n\u001b[1;31mSyntaxError\u001b[0m\u001b[1;31m:\u001b[0m incomplete input\n"
     ]
    }
   ],
   "source": [
    "print('Hello'"
   ]
  },
  {
   "cell_type": "code",
   "execution_count": 11,
   "id": "ff03e9d2",
   "metadata": {},
   "outputs": [
    {
     "ename": "NameError",
     "evalue": "name 'Print' is not defined",
     "output_type": "error",
     "traceback": [
      "\u001b[1;31m---------------------------------------------------------------------------\u001b[0m",
      "\u001b[1;31mNameError\u001b[0m                                 Traceback (most recent call last)",
      "Cell \u001b[1;32mIn[11], line 1\u001b[0m\n\u001b[1;32m----> 1\u001b[0m \u001b[43mPrint\u001b[49m(\u001b[38;5;124m'\u001b[39m\u001b[38;5;124mHello\u001b[39m\u001b[38;5;124m'\u001b[39m)\n",
      "\u001b[1;31mNameError\u001b[0m: name 'Print' is not defined"
     ]
    }
   ],
   "source": [
    "Print('Hello')"
   ]
  },
  {
   "cell_type": "code",
   "execution_count": 13,
   "id": "5b8d60c4",
   "metadata": {},
   "outputs": [
    {
     "name": "stdout",
     "output_type": "stream",
     "text": [
      "20\n"
     ]
    }
   ],
   "source": [
    "print(10+10)"
   ]
  },
  {
   "cell_type": "code",
   "execution_count": 14,
   "id": "30141c6e",
   "metadata": {},
   "outputs": [
    {
     "name": "stdout",
     "output_type": "stream",
     "text": [
      "10+10\n"
     ]
    }
   ],
   "source": [
    "print('10+10')"
   ]
  },
  {
   "cell_type": "code",
   "execution_count": 15,
   "id": "ec849fdb",
   "metadata": {},
   "outputs": [
    {
     "data": {
      "text/plain": [
       "str"
      ]
     },
     "execution_count": 15,
     "metadata": {},
     "output_type": "execute_result"
    }
   ],
   "source": [
    "type('Hello World')"
   ]
  },
  {
   "cell_type": "code",
   "execution_count": 16,
   "id": "ebfc0118",
   "metadata": {},
   "outputs": [
    {
     "data": {
      "text/plain": [
       "str"
      ]
     },
     "execution_count": 16,
     "metadata": {},
     "output_type": "execute_result"
    }
   ],
   "source": [
    "type('100')"
   ]
  },
  {
   "cell_type": "code",
   "execution_count": 17,
   "id": "4e59c721",
   "metadata": {},
   "outputs": [
    {
     "data": {
      "text/plain": [
       "int"
      ]
     },
     "execution_count": 17,
     "metadata": {},
     "output_type": "execute_result"
    }
   ],
   "source": [
    "type(100)"
   ]
  },
  {
   "cell_type": "code",
   "execution_count": 18,
   "id": "6452c59d",
   "metadata": {},
   "outputs": [
    {
     "data": {
      "text/plain": [
       "float"
      ]
     },
     "execution_count": 18,
     "metadata": {},
     "output_type": "execute_result"
    }
   ],
   "source": [
    "type(3.14)"
   ]
  },
  {
   "cell_type": "code",
   "execution_count": 19,
   "id": "02640169",
   "metadata": {},
   "outputs": [
    {
     "data": {
      "text/plain": [
       "bool"
      ]
     },
     "execution_count": 19,
     "metadata": {},
     "output_type": "execute_result"
    }
   ],
   "source": [
    "type(True)"
   ]
  },
  {
   "cell_type": "markdown",
   "id": "321ea9d9",
   "metadata": {},
   "source": [
    "#### 변수"
   ]
  },
  {
   "cell_type": "code",
   "execution_count": 21,
   "id": "ab861064",
   "metadata": {},
   "outputs": [],
   "source": [
    "mynumber = 100"
   ]
  },
  {
   "cell_type": "code",
   "execution_count": 22,
   "id": "2b31a2a7",
   "metadata": {},
   "outputs": [
    {
     "data": {
      "text/plain": [
       "100"
      ]
     },
     "execution_count": 22,
     "metadata": {},
     "output_type": "execute_result"
    }
   ],
   "source": [
    "mynumber"
   ]
  },
  {
   "cell_type": "code",
   "execution_count": null,
   "id": "ca413940",
   "metadata": {},
   "outputs": [
    {
     "data": {
      "text/plain": [
       "110"
      ]
     },
     "execution_count": 23,
     "metadata": {},
     "output_type": "execute_result"
    }
   ],
   "source": [
    "mynumber + 10"
   ]
  },
  {
   "cell_type": "code",
   "execution_count": 24,
   "id": "0f4e4599",
   "metadata": {},
   "outputs": [
    {
     "data": {
      "text/plain": [
       "int"
      ]
     },
     "execution_count": 24,
     "metadata": {},
     "output_type": "execute_result"
    }
   ],
   "source": [
    "type(mynumber)"
   ]
  },
  {
   "cell_type": "markdown",
   "id": "a2e30dc2",
   "metadata": {},
   "source": [
    "### 연산자"
   ]
  },
  {
   "cell_type": "code",
   "execution_count": null,
   "id": "ca04f004",
   "metadata": {},
   "outputs": [],
   "source": [
    "# 산술연산자\n",
    "+, -, *, /, //, %, **"
   ]
  },
  {
   "cell_type": "code",
   "execution_count": 25,
   "id": "739dba13",
   "metadata": {},
   "outputs": [],
   "source": [
    "num1 = 7\n",
    "num2 = 3"
   ]
  },
  {
   "cell_type": "code",
   "execution_count": 26,
   "id": "6588ffa1",
   "metadata": {},
   "outputs": [
    {
     "data": {
      "text/plain": [
       "10"
      ]
     },
     "execution_count": 26,
     "metadata": {},
     "output_type": "execute_result"
    }
   ],
   "source": [
    "num1 + num2"
   ]
  },
  {
   "cell_type": "code",
   "execution_count": 27,
   "id": "9277b395",
   "metadata": {},
   "outputs": [
    {
     "data": {
      "text/plain": [
       "4"
      ]
     },
     "execution_count": 27,
     "metadata": {},
     "output_type": "execute_result"
    }
   ],
   "source": [
    "num1 - num2"
   ]
  },
  {
   "cell_type": "code",
   "execution_count": 28,
   "id": "aa91bf7b",
   "metadata": {},
   "outputs": [
    {
     "data": {
      "text/plain": [
       "21"
      ]
     },
     "execution_count": 28,
     "metadata": {},
     "output_type": "execute_result"
    }
   ],
   "source": [
    "num1 * num2"
   ]
  },
  {
   "cell_type": "code",
   "execution_count": 29,
   "id": "31fb0af6",
   "metadata": {},
   "outputs": [
    {
     "data": {
      "text/plain": [
       "2.3333333333333335"
      ]
     },
     "execution_count": 29,
     "metadata": {},
     "output_type": "execute_result"
    }
   ],
   "source": [
    "num1 / num2"
   ]
  },
  {
   "cell_type": "code",
   "execution_count": 30,
   "id": "58a5e664",
   "metadata": {},
   "outputs": [
    {
     "data": {
      "text/plain": [
       "2"
      ]
     },
     "execution_count": 30,
     "metadata": {},
     "output_type": "execute_result"
    }
   ],
   "source": [
    "num1 // num2"
   ]
  },
  {
   "cell_type": "code",
   "execution_count": 34,
   "id": "08eeffdf",
   "metadata": {},
   "outputs": [
    {
     "data": {
      "text/plain": [
       "1"
      ]
     },
     "execution_count": 34,
     "metadata": {},
     "output_type": "execute_result"
    }
   ],
   "source": [
    "num1 % num2"
   ]
  },
  {
   "cell_type": "code",
   "execution_count": 32,
   "id": "cb5937db",
   "metadata": {},
   "outputs": [
    {
     "data": {
      "text/plain": [
       "343"
      ]
     },
     "execution_count": 32,
     "metadata": {},
     "output_type": "execute_result"
    }
   ],
   "source": [
    "num1 ** num2"
   ]
  },
  {
   "cell_type": "code",
   "execution_count": 36,
   "id": "9ebf3f04",
   "metadata": {},
   "outputs": [],
   "source": [
    "str1 = \"Hello\"\n",
    "str2 = \"World\""
   ]
  },
  {
   "cell_type": "code",
   "execution_count": 37,
   "id": "ea85b4be",
   "metadata": {},
   "outputs": [
    {
     "data": {
      "text/plain": [
       "'HelloWorld'"
      ]
     },
     "execution_count": 37,
     "metadata": {},
     "output_type": "execute_result"
    }
   ],
   "source": [
    "str1 + str2"
   ]
  },
  {
   "cell_type": "code",
   "execution_count": 39,
   "id": "af31c9cf",
   "metadata": {},
   "outputs": [
    {
     "data": {
      "text/plain": [
       "'HelloWorld'"
      ]
     },
     "execution_count": 39,
     "metadata": {},
     "output_type": "execute_result"
    }
   ],
   "source": [
    "\"Hello\" + \"World\""
   ]
  },
  {
   "cell_type": "code",
   "execution_count": 40,
   "id": "ba2dd2a6",
   "metadata": {},
   "outputs": [
    {
     "data": {
      "text/plain": [
       "'HelloHelloHelloHelloHelloHelloHello'"
      ]
     },
     "execution_count": 40,
     "metadata": {},
     "output_type": "execute_result"
    }
   ],
   "source": [
    "str1 * num1"
   ]
  },
  {
   "cell_type": "code",
   "execution_count": 41,
   "id": "ab8e8931",
   "metadata": {},
   "outputs": [
    {
     "data": {
      "text/plain": [
       "'HelloHelloHelloHelloHelloHelloHello'"
      ]
     },
     "execution_count": 41,
     "metadata": {},
     "output_type": "execute_result"
    }
   ],
   "source": [
    "num1 * str1"
   ]
  },
  {
   "cell_type": "code",
   "execution_count": 42,
   "id": "32d72bfd",
   "metadata": {},
   "outputs": [
    {
     "ename": "TypeError",
     "evalue": "can only concatenate str (not \"int\") to str",
     "output_type": "error",
     "traceback": [
      "\u001b[1;31m---------------------------------------------------------------------------\u001b[0m",
      "\u001b[1;31mTypeError\u001b[0m                                 Traceback (most recent call last)",
      "Cell \u001b[1;32mIn[42], line 1\u001b[0m\n\u001b[1;32m----> 1\u001b[0m \u001b[43mstr1\u001b[49m\u001b[43m \u001b[49m\u001b[38;5;241;43m+\u001b[39;49m\u001b[43m \u001b[49m\u001b[43mnum1\u001b[49m\n",
      "\u001b[1;31mTypeError\u001b[0m: can only concatenate str (not \"int\") to str"
     ]
    }
   ],
   "source": [
    "str1 + num1"
   ]
  },
  {
   "cell_type": "markdown",
   "id": "5b206fb1",
   "metadata": {},
   "source": [
    "#### 비교연산자"
   ]
  },
  {
   "cell_type": "code",
   "execution_count": 43,
   "id": "8ca7511a",
   "metadata": {},
   "outputs": [],
   "source": [
    "mynumber = 100"
   ]
  },
  {
   "cell_type": "code",
   "execution_count": null,
   "id": "8b2d9480",
   "metadata": {},
   "outputs": [],
   "source": [
    "같다, 다르다, 크다, 작다\n",
    "==,  !=,  >, <, >=, <="
   ]
  },
  {
   "cell_type": "code",
   "execution_count": null,
   "id": "9ab0f3cc",
   "metadata": {},
   "outputs": [
    {
     "data": {
      "text/plain": [
       "False"
      ]
     },
     "execution_count": 44,
     "metadata": {},
     "output_type": "execute_result"
    }
   ],
   "source": [
    "5 == 3"
   ]
  },
  {
   "cell_type": "code",
   "execution_count": 45,
   "id": "6c94444e",
   "metadata": {},
   "outputs": [
    {
     "data": {
      "text/plain": [
       "True"
      ]
     },
     "execution_count": 45,
     "metadata": {},
     "output_type": "execute_result"
    }
   ],
   "source": [
    "5 != 3"
   ]
  },
  {
   "cell_type": "code",
   "execution_count": 46,
   "id": "bb7df07e",
   "metadata": {},
   "outputs": [
    {
     "data": {
      "text/plain": [
       "True"
      ]
     },
     "execution_count": 46,
     "metadata": {},
     "output_type": "execute_result"
    }
   ],
   "source": [
    "5 > 3"
   ]
  },
  {
   "cell_type": "code",
   "execution_count": 47,
   "id": "e129d5ba",
   "metadata": {},
   "outputs": [
    {
     "data": {
      "text/plain": [
       "False"
      ]
     },
     "execution_count": 47,
     "metadata": {},
     "output_type": "execute_result"
    }
   ],
   "source": [
    "5 < 3"
   ]
  },
  {
   "cell_type": "code",
   "execution_count": 49,
   "id": "6304d8a9",
   "metadata": {},
   "outputs": [
    {
     "name": "stdout",
     "output_type": "stream",
     "text": [
      "Hello World\n"
     ]
    }
   ],
   "source": [
    "print(str1 + \" \" + str2)"
   ]
  },
  {
   "cell_type": "code",
   "execution_count": 50,
   "id": "871fd2bf",
   "metadata": {},
   "outputs": [
    {
     "name": "stdout",
     "output_type": "stream",
     "text": [
      "Hello World\n"
     ]
    }
   ],
   "source": [
    "print(str1, str2)"
   ]
  },
  {
   "cell_type": "markdown",
   "id": "68d02d1e",
   "metadata": {},
   "source": [
    "#### 사용자입력"
   ]
  },
  {
   "cell_type": "code",
   "execution_count": 53,
   "id": "b60be102",
   "metadata": {},
   "outputs": [
    {
     "name": "stdout",
     "output_type": "stream",
     "text": [
      "이름은 문경준 입니다\n"
     ]
    }
   ],
   "source": [
    "name = input(\"이름을 입력하세요: \")\n",
    "print(\"이름은\", name, \"입니다\")"
   ]
  },
  {
   "cell_type": "code",
   "execution_count": null,
   "id": "8dd63be8",
   "metadata": {},
   "outputs": [],
   "source": [
    "num1 = 7\n",
    "num2 = 3"
   ]
  },
  {
   "cell_type": "markdown",
   "id": "b98301eb",
   "metadata": {},
   "source": [
    "#### 형변환"
   ]
  },
  {
   "cell_type": "code",
   "execution_count": null,
   "id": "f8cbf030",
   "metadata": {},
   "outputs": [],
   "source": [
    "# 미션\n",
    "# 사용자로부터 숫자 입력을 받아서 +, -, *, / 연산 결과를 출력해주세요"
   ]
  },
  {
   "cell_type": "code",
   "execution_count": null,
   "id": "215cd7ad",
   "metadata": {},
   "outputs": [
    {
     "name": "stdout",
     "output_type": "stream",
     "text": [
      "num1+num2 =  12\n",
      "num1-num2 =  4\n",
      "num1*num2 =  32\n",
      "num1/num2 =  2.0\n"
     ]
    }
   ],
   "source": [
    "number1 = int(input(\"숫자1을 입력하세요: \"))\n",
    "number2 = int(input(\"숫자2를 입력하세요: \"))\n",
    "\n",
    "print(\"num1+num2 = \", number1+number2)\n",
    "print(\"num1-num2 = \", number1-number2)\n",
    "print(\"num1*num2 = \", number1*number2)\n",
    "print(\"num1/num2 = \", number1/number2)"
   ]
  },
  {
   "cell_type": "code",
   "execution_count": 78,
   "id": "56844b0e",
   "metadata": {},
   "outputs": [
    {
     "name": "stdout",
     "output_type": "stream",
     "text": [
      "7 + 3 = 10\n",
      "더하기의 결과: 7 + 3 = 10\n"
     ]
    }
   ],
   "source": [
    "# f-string\n",
    "num1 = 7\n",
    "num2 = 3\n",
    "\n",
    "print(num1, \"+\", num2, \"=\", num1 + num2)\n",
    "print(f\"더하기의 결과: {num1} + {num2} = {num1 + num2}\")"
   ]
  },
  {
   "cell_type": "code",
   "execution_count": null,
   "id": "beb12a26",
   "metadata": {},
   "outputs": [],
   "source": []
  },
  {
   "cell_type": "code",
   "execution_count": null,
   "id": "304f08dd",
   "metadata": {},
   "outputs": [],
   "source": [
    "int(), float(), str()"
   ]
  },
  {
   "cell_type": "code",
   "execution_count": 57,
   "id": "7d42fca9",
   "metadata": {},
   "outputs": [
    {
     "data": {
      "text/plain": [
       "7"
      ]
     },
     "execution_count": 57,
     "metadata": {},
     "output_type": "execute_result"
    }
   ],
   "source": [
    "int('7')"
   ]
  },
  {
   "cell_type": "code",
   "execution_count": 58,
   "id": "ab5503c9",
   "metadata": {},
   "outputs": [
    {
     "data": {
      "text/plain": [
       "3.14"
      ]
     },
     "execution_count": 58,
     "metadata": {},
     "output_type": "execute_result"
    }
   ],
   "source": [
    "float('3.14')"
   ]
  },
  {
   "cell_type": "code",
   "execution_count": null,
   "id": "fa39b8f0",
   "metadata": {},
   "outputs": [],
   "source": [
    "mynumber\n",
    "my_number\n",
    "myNumber"
   ]
  },
  {
   "cell_type": "code",
   "execution_count": null,
   "id": "c2dd3c1a",
   "metadata": {},
   "outputs": [
    {
     "name": "stdout",
     "output_type": "stream",
     "text": [
      "Hello\n",
      "Hello\n"
     ]
    }
   ],
   "source": [
    "print(\"Hello\")\n",
    "print('Hello')"
   ]
  },
  {
   "cell_type": "code",
   "execution_count": 62,
   "id": "01bf9b9a",
   "metadata": {},
   "outputs": [
    {
     "name": "stdout",
     "output_type": "stream",
     "text": [
      "\"안녕\"이라고 말했다.\n",
      "\"안녕\"이라고 말했다.\n",
      "순간 '바본가'라고 생각했다.\n"
     ]
    }
   ],
   "source": [
    "print('\"안녕\"이라고 말했다.')\n",
    "print(\"\\\"안녕\\\"이라고 말했다.\")\n",
    "print(\"순간 '바본가'라고 생각했다.\")"
   ]
  },
  {
   "cell_type": "code",
   "execution_count": 63,
   "id": "407b0fde",
   "metadata": {},
   "outputs": [],
   "source": [
    "sentence = \"\"\" \n",
    "안녕\n",
    "반가워\n",
    "추워\n",
    "\"\"\""
   ]
  },
  {
   "cell_type": "code",
   "execution_count": 64,
   "id": "5f598d15",
   "metadata": {},
   "outputs": [
    {
     "name": "stdout",
     "output_type": "stream",
     "text": [
      " \n",
      "안녕\n",
      "반가워\n",
      "추워\n",
      "\n"
     ]
    }
   ],
   "source": [
    "print(sentence)"
   ]
  },
  {
   "cell_type": "code",
   "execution_count": 65,
   "id": "3aa4d64a",
   "metadata": {},
   "outputs": [
    {
     "name": "stdout",
     "output_type": "stream",
     "text": [
      "'낮말'은 새가 듣고 '밤말'은 쥐가 듣는다. \n"
     ]
    }
   ],
   "source": [
    "print(\"'낮말'은 새가 듣고 '밤말'은 쥐가 듣는다. \")"
   ]
  },
  {
   "cell_type": "code",
   "execution_count": 70,
   "id": "ecf08a4d",
   "metadata": {},
   "outputs": [
    {
     "name": "stdout",
     "output_type": "stream",
     "text": [
      "HelloHelloHelloHelloHello\n"
     ]
    }
   ],
   "source": [
    "print(\"Hello\" * 5)"
   ]
  },
  {
   "cell_type": "code",
   "execution_count": null,
   "id": "a9d64fa4",
   "metadata": {},
   "outputs": [],
   "source": [
    "print()"
   ]
  },
  {
   "cell_type": "code",
   "execution_count": 75,
   "id": "5ab30316",
   "metadata": {},
   "outputs": [
    {
     "name": "stdout",
     "output_type": "stream",
     "text": [
      "Hello,Hello,Hello,Hello,Hello "
     ]
    }
   ],
   "source": [
    "print(\"Hello\", \"Hello\", \"Hello\", \"Hello\", \"Hello\", end=\" \", sep=\",\")"
   ]
  },
  {
   "cell_type": "markdown",
   "id": "a6b5f7b1",
   "metadata": {},
   "source": [
    "#### 자료형"
   ]
  },
  {
   "cell_type": "code",
   "execution_count": null,
   "id": "909aae69",
   "metadata": {},
   "outputs": [],
   "source": [
    "True 참, False 거짓"
   ]
  },
  {
   "cell_type": "code",
   "execution_count": 80,
   "id": "53e6b2d2",
   "metadata": {},
   "outputs": [
    {
     "data": {
      "text/plain": [
       "True"
      ]
     },
     "execution_count": 80,
     "metadata": {},
     "output_type": "execute_result"
    }
   ],
   "source": [
    "1 == 1"
   ]
  },
  {
   "cell_type": "code",
   "execution_count": 81,
   "id": "a5931abf",
   "metadata": {},
   "outputs": [
    {
     "name": "stdout",
     "output_type": "stream",
     "text": [
      "<class 'bool'>\n"
     ]
    }
   ],
   "source": [
    "print(type(True))"
   ]
  },
  {
   "cell_type": "code",
   "execution_count": null,
   "id": "be7c00ec",
   "metadata": {},
   "outputs": [],
   "source": [
    "int(), str(), float(), bool()"
   ]
  },
  {
   "cell_type": "code",
   "execution_count": 82,
   "id": "40fb8b0d",
   "metadata": {},
   "outputs": [
    {
     "data": {
      "text/plain": [
       "False"
      ]
     },
     "execution_count": 82,
     "metadata": {},
     "output_type": "execute_result"
    }
   ],
   "source": [
    "bool(0)"
   ]
  },
  {
   "cell_type": "code",
   "execution_count": 83,
   "id": "f96cf575",
   "metadata": {},
   "outputs": [
    {
     "data": {
      "text/plain": [
       "True"
      ]
     },
     "execution_count": 83,
     "metadata": {},
     "output_type": "execute_result"
    }
   ],
   "source": [
    "bool(1)"
   ]
  },
  {
   "cell_type": "code",
   "execution_count": 84,
   "id": "2a822c77",
   "metadata": {},
   "outputs": [
    {
     "data": {
      "text/plain": [
       "True"
      ]
     },
     "execution_count": 84,
     "metadata": {},
     "output_type": "execute_result"
    }
   ],
   "source": [
    "bool(-1)"
   ]
  },
  {
   "cell_type": "code",
   "execution_count": 85,
   "id": "0c5b6757",
   "metadata": {},
   "outputs": [
    {
     "data": {
      "text/plain": [
       "True"
      ]
     },
     "execution_count": 85,
     "metadata": {},
     "output_type": "execute_result"
    }
   ],
   "source": [
    "bool(100)"
   ]
  },
  {
   "cell_type": "code",
   "execution_count": 86,
   "id": "fc0a0aaa",
   "metadata": {},
   "outputs": [
    {
     "data": {
      "text/plain": [
       "False"
      ]
     },
     "execution_count": 86,
     "metadata": {},
     "output_type": "execute_result"
    }
   ],
   "source": [
    "bool('')"
   ]
  },
  {
   "cell_type": "code",
   "execution_count": 87,
   "id": "3b35378c",
   "metadata": {},
   "outputs": [
    {
     "data": {
      "text/plain": [
       "True"
      ]
     },
     "execution_count": 87,
     "metadata": {},
     "output_type": "execute_result"
    }
   ],
   "source": [
    "bool('python')"
   ]
  },
  {
   "cell_type": "code",
   "execution_count": null,
   "id": "c348f608",
   "metadata": {},
   "outputs": [
    {
     "name": "stdout",
     "output_type": "stream",
     "text": [
      "지불하실 금액은 14500원 입니다.\n"
     ]
    }
   ],
   "source": [
    "\n",
    "num1 = int(input(\"김밥주문갯수 : \"))\n",
    "num2 = int(input(\"떡볶이주문갯수 : \"))\n",
    "num3 = int(input(\"라면주문갯수 : \"))\n",
    "\n",
    "result = num1*3000 + num2*3500 + num3*2500\n",
    "\n",
    "print(f\"지불하실 금액은 {result}원 입니다.\")"
   ]
  },
  {
   "cell_type": "code",
   "execution_count": 92,
   "id": "2ca18c13",
   "metadata": {},
   "outputs": [
    {
     "name": "stdout",
     "output_type": "stream",
     "text": [
      "김밥주문갯수 :  2\n",
      "떡볶이주문갯수 :  1\n",
      "라면주문갯수 :  2\n",
      "지불하실 금액은 14500원 입니다.\n"
     ]
    }
   ],
   "source": [
    "kim = 3000\n",
    "TTeok = 3500\n",
    "Ram = 2500\n",
    "\n",
    "\n",
    "num1 = int(input(\"김밥주문갯수 : \"))\n",
    "num2 = int(input(\"떡볶이주문갯수 : \"))\n",
    "num3 = int(input(\"라면주문갯수 : \"))\n",
    "\n",
    "result = num1*kim + num2*TTeok + num3*Ram\n",
    "\n",
    "print(\"김밥주문갯수 : \", num1)\n",
    "print(\"떡볶이주문갯수 : \", num2)\n",
    "print(\"라면주문갯수 : \", num3)\n",
    "print(f\"지불하실 금액은 {result}원 입니다.\")"
   ]
  },
  {
   "cell_type": "markdown",
   "id": "407a30a8",
   "metadata": {},
   "source": [
    "### 조건문"
   ]
  },
  {
   "cell_type": "code",
   "execution_count": null,
   "id": "9c40241a",
   "metadata": {},
   "outputs": [],
   "source": [
    "# 조건에 따라서 명령어의 실행여부가 결정\n",
    "\n",
    "if 조건:\n",
    "    실행할명령\n",
    "\n",
    "조건문밖의명령어"
   ]
  },
  {
   "cell_type": "code",
   "execution_count": 98,
   "id": "8ee16eba",
   "metadata": {},
   "outputs": [
    {
     "name": "stdout",
     "output_type": "stream",
     "text": [
      "택시를 탄다\n",
      "조건문종료\n"
     ]
    }
   ],
   "source": [
    "money = False\n",
    "\n",
    "if money:\n",
    "    print(\"스테이크를 먹는다\")\n",
    "    print(\"커피를 마신다\")\n",
    "    \n",
    "print(\"택시를 탄다\")\n",
    "print('조건문종료')"
   ]
  },
  {
   "cell_type": "code",
   "execution_count": 99,
   "id": "9d8892f4",
   "metadata": {},
   "outputs": [
    {
     "ename": "IndentationError",
     "evalue": "unexpected indent (2685509575.py, line 6)",
     "output_type": "error",
     "traceback": [
      "\u001b[1;36m  Cell \u001b[1;32mIn[99], line 6\u001b[1;36m\u001b[0m\n\u001b[1;33m    print(\"택시를 탄다\")\u001b[0m\n\u001b[1;37m    ^\u001b[0m\n\u001b[1;31mIndentationError\u001b[0m\u001b[1;31m:\u001b[0m unexpected indent\n"
     ]
    }
   ],
   "source": [
    "money = False\n",
    "\n",
    "if money:\n",
    "    print(\"스테이크를 먹는다\")\n",
    "print(\"커피를 마신다\")\n",
    "    print(\"택시를 탄다\")\n",
    "print('조건문종료')"
   ]
  },
  {
   "cell_type": "code",
   "execution_count": null,
   "id": "85423d98",
   "metadata": {},
   "outputs": [],
   "source": [
    "if 조건:\n",
    "    수행할명령\n",
    "else:\n",
    "    다른명령"
   ]
  },
  {
   "cell_type": "code",
   "execution_count": null,
   "id": "ca647e90",
   "metadata": {},
   "outputs": [],
   "source": [
    "if 조건:\n",
    "    수행할명령\n",
    "elif 조건2:\n",
    "    수행할명령2\n",
    "elif 조건3:\n",
    "    수행할명령3\n",
    "......\n"
   ]
  },
  {
   "cell_type": "code",
   "execution_count": 101,
   "id": "a56c9266",
   "metadata": {},
   "outputs": [
    {
     "name": "stdout",
     "output_type": "stream",
     "text": [
      "홀수\n"
     ]
    }
   ],
   "source": [
    "# 짝수홀수구분\n",
    "\n",
    "#num % 2 == 0  -> 짝수\n",
    "\n",
    "num = 3\n",
    "\n",
    "if num % 2 == 0:\n",
    "    print('짝수')\n",
    "else:\n",
    "    print('홀수')"
   ]
  },
  {
   "cell_type": "code",
   "execution_count": 102,
   "id": "0eb64ce0",
   "metadata": {},
   "outputs": [
    {
     "name": "stdout",
     "output_type": "stream",
     "text": [
      "작아요\n"
     ]
    }
   ],
   "source": [
    "num = 10\n",
    "\n",
    "if num > 100:\n",
    "    print('커요')\n",
    "else:\n",
    "    print('작아요')"
   ]
  },
  {
   "cell_type": "code",
   "execution_count": null,
   "id": "bc7eadbe",
   "metadata": {},
   "outputs": [],
   "source": [
    "and, or"
   ]
  },
  {
   "cell_type": "code",
   "execution_count": 103,
   "id": "7c93af93",
   "metadata": {},
   "outputs": [
    {
     "name": "stdout",
     "output_type": "stream",
     "text": [
      "좀 더 노력하세요\n"
     ]
    }
   ],
   "source": [
    "eng = 80\n",
    "math = 100\n",
    "\n",
    "\n",
    "if eng >= 90 and math >= 90:\n",
    "    print('스티커')\n",
    "else:\n",
    "    print('좀 더 노력하세요')"
   ]
  },
  {
   "cell_type": "code",
   "execution_count": 104,
   "id": "c1619a1b",
   "metadata": {},
   "outputs": [
    {
     "name": "stdout",
     "output_type": "stream",
     "text": [
      "스티커\n"
     ]
    }
   ],
   "source": [
    "eng = 80\n",
    "math = 100\n",
    "\n",
    "\n",
    "if eng >= 90 or math >= 90:\n",
    "    print('스티커')\n",
    "else:\n",
    "    print('좀 더 노력하세요')"
   ]
  },
  {
   "cell_type": "code",
   "execution_count": null,
   "id": "cf4275bc",
   "metadata": {},
   "outputs": [],
   "source": [
    "eng = 80\n",
    "math = 100\n",
    "\n",
    "\n",
    "if eng >= 90:\n",
    "    if math >= 90:\n",
    "        print('둘다 성공')\n",
    "    else:\n",
    "        print('좀 더 노력')\n",
    "else:\n",
    "    print('많이 더 노력하세요')"
   ]
  },
  {
   "cell_type": "code",
   "execution_count": null,
   "id": "0b2674dc",
   "metadata": {},
   "outputs": [
    {
     "name": "stdout",
     "output_type": "stream",
     "text": [
      "홀수입니다.\n"
     ]
    }
   ],
   "source": [
    "#짝수홀수 구분\n",
    "\n",
    "num = int(input('숫자를 입력하세요: '))\n",
    "\n",
    "if num % 2 == 0:\n",
    "    print('짝수입니다.')\n",
    "else:\n",
    "    print('홀수입니다.')"
   ]
  },
  {
   "cell_type": "code",
   "execution_count": 107,
   "id": "fd89c82e",
   "metadata": {},
   "outputs": [
    {
     "name": "stdout",
     "output_type": "stream",
     "text": [
      "A\n"
     ]
    }
   ],
   "source": [
    "score = int(input('점수를 입력하세요: '))\n",
    "\n",
    "if score >= 90:\n",
    "    print('A')\n",
    "elif score >=80:\n",
    "    print('B')\n",
    "elif score >=70:\n",
    "    print('C') \n",
    "elif score >=60:\n",
    "    print('D')\n",
    "else:\n",
    "    print('F')          "
   ]
  },
  {
   "cell_type": "markdown",
   "id": "3b397759",
   "metadata": {},
   "source": [
    "### 반복문\n",
    "#### for, while"
   ]
  },
  {
   "cell_type": "code",
   "execution_count": null,
   "id": "a927c2ad",
   "metadata": {},
   "outputs": [],
   "source": [
    "for 변수 in 이터러블:\n",
    "    반복할문장"
   ]
  },
  {
   "cell_type": "code",
   "execution_count": 110,
   "id": "9892de86",
   "metadata": {},
   "outputs": [
    {
     "name": "stdout",
     "output_type": "stream",
     "text": [
      "1번째 Hello\n",
      "2번째 Hello\n",
      "3번째 Hello\n",
      "4번째 Hello\n",
      "5번째 Hello\n",
      "6번째 Hello\n",
      "7번째 Hello\n",
      "8번째 Hello\n",
      "9번째 Hello\n",
      "10번째 Hello\n"
     ]
    }
   ],
   "source": [
    "for i in range(10):\n",
    "    print(f\"{i+1}번째 Hello\")"
   ]
  },
  {
   "cell_type": "code",
   "execution_count": 112,
   "id": "c778e027",
   "metadata": {},
   "outputs": [
    {
     "name": "stdout",
     "output_type": "stream",
     "text": [
      "1번째 Hello\n",
      "2번째 Hello\n",
      "3번째 Hello\n",
      "4번째 Hello\n",
      "5번째 Hello\n",
      "6번째 Hello\n",
      "7번째 Hello\n",
      "8번째 Hello\n",
      "9번째 Hello\n",
      "10번째 Hello\n"
     ]
    }
   ],
   "source": [
    "for i in range(1, 11):\n",
    "    print(f\"{i}번째 Hello\")"
   ]
  },
  {
   "cell_type": "code",
   "execution_count": null,
   "id": "64b0f204",
   "metadata": {},
   "outputs": [
    {
     "name": "stdout",
     "output_type": "stream",
     "text": [
      "1번째 Hello\n",
      "3번째 Hello\n",
      "5번째 Hello\n",
      "7번째 Hello\n",
      "9번째 Hello\n"
     ]
    }
   ],
   "source": [
    "for i in range(1, 11, 2):   # start, end, step\n",
    "    print(f\"{i}번째 Hello\")"
   ]
  },
  {
   "cell_type": "code",
   "execution_count": 115,
   "id": "13329430",
   "metadata": {},
   "outputs": [
    {
     "name": "stdout",
     "output_type": "stream",
     "text": [
      "10번째 Hello\n",
      "9번째 Hello\n",
      "8번째 Hello\n",
      "7번째 Hello\n",
      "6번째 Hello\n",
      "5번째 Hello\n",
      "4번째 Hello\n",
      "3번째 Hello\n",
      "2번째 Hello\n",
      "1번째 Hello\n"
     ]
    }
   ],
   "source": [
    "for i in range(10, 0, -1):\n",
    "    print(f\"{i}번째 Hello\")"
   ]
  },
  {
   "cell_type": "code",
   "execution_count": 128,
   "id": "582693b9",
   "metadata": {},
   "outputs": [
    {
     "name": "stdout",
     "output_type": "stream",
     "text": [
      "55\n"
     ]
    }
   ],
   "source": [
    "# for 반복문과 range()함수를 사용해서 1부터 10까지의 합을 출력\n",
    "k = 0\n",
    "for i in range(1, 11):\n",
    "    k += i\n",
    "print(k)"
   ]
  },
  {
   "cell_type": "code",
   "execution_count": 131,
   "id": "ac1e8227",
   "metadata": {},
   "outputs": [
    {
     "name": "stdout",
     "output_type": "stream",
     "text": [
      "3628800\n"
     ]
    }
   ],
   "source": [
    "# for 반복문과 range()함수를 사용해서 1부터 10까지의 곱을 출력\n",
    "k = 1\n",
    "for i in range(1,11):\n",
    "    k *= i\n",
    "print(k)"
   ]
  },
  {
   "cell_type": "code",
   "execution_count": 134,
   "id": "ce3e90f2",
   "metadata": {},
   "outputs": [
    {
     "name": "stdout",
     "output_type": "stream",
     "text": [
      "5x1=5\n",
      "5x2=10\n",
      "5x3=15\n",
      "5x4=20\n",
      "5x5=25\n",
      "5x6=30\n",
      "5x7=35\n",
      "5x8=40\n",
      "5x9=45\n"
     ]
    }
   ],
   "source": [
    "# for 반복문과 range()함수를 사용해서 사용자로부터 입력받은 숫자에 해당하는 구구단을 출력\n",
    "\n",
    "num = int(input(\"숫자 1개를 입력하세요: \"))\n",
    "k=1\n",
    "for i in range(1,10):\n",
    "    k = num*i\n",
    "    print(f\"{num}x{i}={k}\")\n"
   ]
  },
  {
   "cell_type": "code",
   "execution_count": null,
   "id": "6095c368",
   "metadata": {},
   "outputs": [],
   "source": [
    "while 조건:\n",
    "    반복할문장들"
   ]
  },
  {
   "cell_type": "code",
   "execution_count": 133,
   "id": "83f1aa32",
   "metadata": {},
   "outputs": [
    {
     "name": "stdout",
     "output_type": "stream",
     "text": [
      "1번째 Hello\n",
      "2번째 Hello\n",
      "3번째 Hello\n",
      "4번째 Hello\n",
      "5번째 Hello\n"
     ]
    }
   ],
   "source": [
    "#print(\"Hello\") 5번 출력\n",
    "\n",
    "i = 1\n",
    "while i<= 5:\n",
    "    print(f\"{i}번째 Hello\")\n",
    "    i += 1"
   ]
  },
  {
   "cell_type": "code",
   "execution_count": 141,
   "id": "c64440cd",
   "metadata": {},
   "outputs": [
    {
     "name": "stdout",
     "output_type": "stream",
     "text": [
      "15\n"
     ]
    }
   ],
   "source": [
    "#while문을 이용해서 1부터 사용자로부터 입력받은 정수값까지의 합\n",
    "\n",
    "num = int(input(\"정수를 입력하세요: \"))\n",
    "\n",
    "sum=0\n",
    "i=1\n",
    "while i <= num:\n",
    "    sum+=i\n",
    "    i+=1\n",
    "    \n",
    "print(sum)"
   ]
  },
  {
   "cell_type": "code",
   "execution_count": 145,
   "id": "a2d831ef",
   "metadata": {},
   "outputs": [
    {
     "name": "stdout",
     "output_type": "stream",
     "text": [
      "3628800\n"
     ]
    }
   ],
   "source": [
    "#while문을 사용해서 1부터 10까지의 곱을 출력\n",
    "result=1\n",
    "i=1\n",
    "\n",
    "while i <= 10:\n",
    "    result*=i\n",
    "    i+=1\n",
    "print(result)"
   ]
  },
  {
   "cell_type": "code",
   "execution_count": 147,
   "id": "0b34b213",
   "metadata": {},
   "outputs": [
    {
     "name": "stdout",
     "output_type": "stream",
     "text": [
      "5x1=5\n",
      "5x2=10\n",
      "5x3=15\n",
      "5x4=20\n",
      "5x5=25\n",
      "5x6=30\n",
      "5x7=35\n",
      "5x8=40\n",
      "5x9=45\n"
     ]
    }
   ],
   "source": [
    "#while문을 사용해서 사용자로부터 입력받은 숫자에 해당하는 구구단을 출력\n",
    "num = int(input(\"정수를 입력하세요: \"))\n",
    "\n",
    "i=1\n",
    "result=1\n",
    "\n",
    "while i<=9:\n",
    "    result=num*i\n",
    "    print(f\"{num}x{i}={result}\")\n",
    "    i+=1"
   ]
  },
  {
   "cell_type": "code",
   "execution_count": 148,
   "id": "cb86c357",
   "metadata": {},
   "outputs": [],
   "source": [
    "prompt = \"\"\" \n",
    "1. Add\n",
    "2. Del\n",
    "3. List\n",
    "4. Quit\n",
    "\n",
    "Enter number: \"\"\""
   ]
  },
  {
   "cell_type": "code",
   "execution_count": 150,
   "id": "84f558ef",
   "metadata": {},
   "outputs": [
    {
     "name": "stdout",
     "output_type": "stream",
     "text": [
      " \n",
      "1. Add\n",
      "2. Del\n",
      "3. List\n",
      "4. Quit\n",
      "\n",
      "Enter number: \n",
      " \n",
      "1. Add\n",
      "2. Del\n",
      "3. List\n",
      "4. Quit\n",
      "\n",
      "Enter number: \n",
      " \n",
      "1. Add\n",
      "2. Del\n",
      "3. List\n",
      "4. Quit\n",
      "\n",
      "Enter number: \n",
      " \n",
      "1. Add\n",
      "2. Del\n",
      "3. List\n",
      "4. Quit\n",
      "\n",
      "Enter number: \n"
     ]
    }
   ],
   "source": [
    "number = 0\n",
    "while number != 4:\n",
    "    print(prompt)\n",
    "    number = int(input(\"원하는 메뉴의 번호를 입력하세요: \"))"
   ]
  },
  {
   "cell_type": "markdown",
   "id": "ae6c7a34",
   "metadata": {},
   "source": [
    "#### break, continue"
   ]
  },
  {
   "cell_type": "code",
   "execution_count": 153,
   "id": "a34d73fa",
   "metadata": {},
   "outputs": [
    {
     "name": "stdout",
     "output_type": "stream",
     "text": [
      "정수: 6, 합계: 21\n",
      "21\n"
     ]
    }
   ],
   "source": [
    "# 1부터 10까지 더하되, 합이 20 이상이 되는 때의 정수값을 찾고 싶어\n",
    "\n",
    "k = 0\n",
    "for i in range(1, 11):\n",
    "    k += i\n",
    "    if k >= 20:\n",
    "        print(f\"정수: {i}, 합계: {k}\")\n",
    "        break\n",
    "print(k)    "
   ]
  },
  {
   "cell_type": "code",
   "execution_count": 154,
   "id": "12339095",
   "metadata": {},
   "outputs": [
    {
     "name": "stdout",
     "output_type": "stream",
     "text": [
      "1 2 4 5 7 8 "
     ]
    }
   ],
   "source": [
    "for i in range(10):\n",
    "    if i % 3 == 0:\n",
    "        continue\n",
    "    print(i, end=\" \")"
   ]
  },
  {
   "cell_type": "code",
   "execution_count": null,
   "id": "b583f9c3",
   "metadata": {},
   "outputs": [],
   "source": [
    "number = 0\n",
    "while True:\n",
    "    print(prompt)\n",
    "    number = int(input(\"원하는 메뉴의 번호를 입력하세요: \"))\n",
    "    if number == 4:\n",
    "        break"
   ]
  },
  {
   "cell_type": "code",
   "execution_count": null,
   "id": "7a19911b",
   "metadata": {},
   "outputs": [
    {
     "name": "stdout",
     "output_type": "stream",
     "text": [
      "40\n",
      "너무 작아요\n",
      "50\n",
      "너무 작아요\n",
      "60\n",
      "너무 작아요\n",
      "70\n",
      "너무 커요\n",
      "68\n",
      "너무 커요\n",
      "67\n",
      "너무 커요\n",
      "65\n",
      "너무 작아요\n",
      "66\n",
      "정답입니다.\n"
     ]
    }
   ],
   "source": [
    "#숫자 맞추기 게임\n",
    "import random\n",
    "answer = random.randint(1, 100)\n",
    "num = 0\n",
    "\n",
    "while True:\n",
    "    num = int(input(\"1부터 100사이의 숫자를 맞춰주세요: \"))\n",
    "    print(num)\n",
    "\n",
    "    if num < answer:\n",
    "        print(\"너무 작아요\")\n",
    "    elif num > answer:\n",
    "        print(\"너무 커요\")\n",
    "    else :\n",
    "        break\n",
    "\n",
    "print(\"정답입니다.\") \n"
   ]
  },
  {
   "cell_type": "code",
   "execution_count": 161,
   "id": "372fe4aa",
   "metadata": {},
   "outputs": [
    {
     "name": "stdout",
     "output_type": "stream",
     "text": [
      "1 2 4 7 8 11 13 14 16 17 19 "
     ]
    }
   ],
   "source": [
    "# 20보다 작은 정수 중에서 3의 배수와 5의 배수를 제외하고 출력\n",
    "# break, continue 사용\n",
    "# while True 구문 이용\n",
    "\n",
    "i=0\n",
    "\n",
    "while True:\n",
    "    i+=1\n",
    "    if i%3 == 0 or i%5 ==0:\n",
    "        continue\n",
    "    elif i>20:\n",
    "        break\n",
    "    else:\n",
    "        print(i, end=\" \")\n"
   ]
  },
  {
   "cell_type": "code",
   "execution_count": null,
   "id": "114a80f4",
   "metadata": {},
   "outputs": [
    {
     "name": "stdout",
     "output_type": "stream",
     "text": [
      "1 2 4 7 8 11 13 14 16 17 19 "
     ]
    }
   ],
   "source": [
    "# 20보다 작은 정수 중에서 3의 배수와 5의 배수를 제외하고 출력\n",
    "# break, continue 사용\n",
    "# while True 구문 이용\n",
    "# 정답코드\n",
    "\n",
    "i=0\n",
    "\n",
    "while True:\n",
    "    i+=1\n",
    "    if i>=20:\n",
    "        break\n",
    "    if i%3 == 0 or i%5 ==0:\n",
    "        continue\n",
    "    \n",
    "    print(i, end=\" \")\n"
   ]
  },
  {
   "cell_type": "code",
   "execution_count": 166,
   "id": "7f6835d5",
   "metadata": {},
   "outputs": [
    {
     "name": "stdout",
     "output_type": "stream",
     "text": [
      "2* 1 = 2\n",
      "2* 2 = 4\n",
      "2* 3 = 6\n",
      "2* 4 = 8\n",
      "2* 5 = 10\n",
      "2* 6 = 12\n",
      "2* 7 = 14\n",
      "2* 8 = 16\n",
      "2* 9 = 18\n",
      "3* 1 = 3\n",
      "3* 2 = 6\n",
      "3* 3 = 9\n",
      "3* 4 = 12\n",
      "3* 5 = 15\n",
      "3* 6 = 18\n",
      "3* 7 = 21\n",
      "3* 8 = 24\n",
      "3* 9 = 27\n",
      "4* 1 = 4\n",
      "4* 2 = 8\n",
      "4* 3 = 12\n",
      "4* 4 = 16\n",
      "4* 5 = 20\n",
      "4* 6 = 24\n",
      "4* 7 = 28\n",
      "4* 8 = 32\n",
      "4* 9 = 36\n",
      "5* 1 = 5\n",
      "5* 2 = 10\n",
      "5* 3 = 15\n",
      "5* 4 = 20\n",
      "5* 5 = 25\n",
      "5* 6 = 30\n",
      "5* 7 = 35\n",
      "5* 8 = 40\n",
      "5* 9 = 45\n",
      "6* 1 = 6\n",
      "6* 2 = 12\n",
      "6* 3 = 18\n",
      "6* 4 = 24\n",
      "6* 5 = 30\n",
      "6* 6 = 36\n",
      "6* 7 = 42\n",
      "6* 8 = 48\n",
      "6* 9 = 54\n",
      "7* 1 = 7\n",
      "7* 2 = 14\n",
      "7* 3 = 21\n",
      "7* 4 = 28\n",
      "7* 5 = 35\n",
      "7* 6 = 42\n",
      "7* 7 = 49\n",
      "7* 8 = 56\n",
      "7* 9 = 63\n",
      "8* 1 = 8\n",
      "8* 2 = 16\n",
      "8* 3 = 24\n",
      "8* 4 = 32\n",
      "8* 5 = 40\n",
      "8* 6 = 48\n",
      "8* 7 = 56\n",
      "8* 8 = 64\n",
      "8* 9 = 72\n",
      "9* 1 = 9\n",
      "9* 2 = 18\n",
      "9* 3 = 27\n",
      "9* 4 = 36\n",
      "9* 5 = 45\n",
      "9* 6 = 54\n",
      "9* 7 = 63\n",
      "9* 8 = 72\n",
      "9* 9 = 81\n"
     ]
    }
   ],
   "source": [
    "# 중첩반복문\n",
    "# 2단부터 9단까지 출력해주세요\n",
    "\n",
    "dan = 2\n",
    "\n",
    "for dan in range(2, 10):\n",
    "    for i in range(1, 10):\n",
    "        print(f\"{dan}* {i} = {dan*i}\")\n",
    "\n"
   ]
  },
  {
   "cell_type": "code",
   "execution_count": 2,
   "id": "800051a7",
   "metadata": {},
   "outputs": [
    {
     "name": "stdout",
     "output_type": "stream",
     "text": [
      "2x1=2\t2x2=4\t2x3=6\t2x4=8\t2x5=10\t2x6=12\t2x7=14\t2x8=16\t2x9=18\t\n",
      "3x1=3\t3x2=6\t3x3=9\t3x4=12\t3x5=15\t3x6=18\t3x7=21\t3x8=24\t3x9=27\t\n",
      "4x1=4\t4x2=8\t4x3=12\t4x4=16\t4x5=20\t4x6=24\t4x7=28\t4x8=32\t4x9=36\t\n",
      "5x1=5\t5x2=10\t5x3=15\t5x4=20\t5x5=25\t5x6=30\t5x7=35\t5x8=40\t5x9=45\t\n",
      "6x1=6\t6x2=12\t6x3=18\t6x4=24\t6x5=30\t6x6=36\t6x7=42\t6x8=48\t6x9=54\t\n",
      "7x1=7\t7x2=14\t7x3=21\t7x4=28\t7x5=35\t7x6=42\t7x7=49\t7x8=56\t7x9=63\t\n",
      "8x1=8\t8x2=16\t8x3=24\t8x4=32\t8x5=40\t8x6=48\t8x7=56\t8x8=64\t8x9=72\t\n",
      "9x1=9\t9x2=18\t9x3=27\t9x4=36\t9x5=45\t9x6=54\t9x7=63\t9x8=72\t9x9=81\t\n"
     ]
    }
   ],
   "source": [
    "dan = 2\n",
    "\n",
    "for dan in range(2,10):\n",
    "    for i in range(1,10):\n",
    "        print(f\"{dan}x{i}={dan*i}\", end=\"\\t\")\n",
    "    print()"
   ]
  },
  {
   "cell_type": "code",
   "execution_count": null,
   "id": "2f6aace6",
   "metadata": {},
   "outputs": [
    {
     "name": "stdout",
     "output_type": "stream",
     "text": [
      "*\n",
      "***\n",
      "*****\n",
      "*******\n",
      "*********\n",
      "***********\n",
      "*************\n",
      "***************\n",
      "*****************\n",
      "*******************\n"
     ]
    }
   ],
   "source": [
    "i=1\n",
    "\n",
    "for i in range(1,21,2):   \n",
    "    print(i*\"*\")\n",
    "    "
   ]
  },
  {
   "cell_type": "code",
   "execution_count": 193,
   "id": "b2350b95",
   "metadata": {},
   "outputs": [
    {
     "name": "stdout",
     "output_type": "stream",
     "text": [
      "*********************\n",
      "*******************\n",
      "*****************\n",
      "***************\n",
      "*************\n",
      "***********\n",
      "*********\n",
      "*******\n",
      "*****\n",
      "***\n",
      "*\n"
     ]
    }
   ],
   "source": [
    "k=0\n",
    "\n",
    "for k in range(21, 0, -2):   \n",
    "    print(k*\"*\")"
   ]
  },
  {
   "cell_type": "code",
   "execution_count": null,
   "id": "70177f5d",
   "metadata": {},
   "outputs": [
    {
     "name": "stdout",
     "output_type": "stream",
     "text": [
      "         *\n",
      "        ***\n",
      "       *****\n",
      "      *******\n",
      "     *********\n",
      "    ***********\n",
      "   *************\n",
      "  ***************\n",
      " *****************\n",
      "*******************\n",
      "층수 :  10\n"
     ]
    }
   ],
   "source": [
    "step = int(input(\"층 수를 입력하세요: \"))\n",
    "\n",
    "for i in range(1, step+1):\n",
    "    print(\" \"* (step-i), end=\"\")\n",
    "    print(\"*\"*(2 * i -1))\n",
    "print(\"층수 : \", i)"
   ]
  },
  {
   "cell_type": "code",
   "execution_count": 11,
   "id": "244ca40b",
   "metadata": {},
   "outputs": [
    {
     "name": "stdout",
     "output_type": "stream",
     "text": [
      "          *\n",
      "         ***\n",
      "        *****\n",
      "       *******\n",
      "      *********\n",
      "     ***********\n",
      "    *************\n",
      "   ***************\n",
      "  *****************\n",
      " *******************\n"
     ]
    }
   ],
   "source": [
    "i=0\n",
    "\n",
    "for i in range(1, 11):\n",
    "    print(\" \"* (10-i), end=\" \")\n",
    "    print(\"*\"*(2*i-1))"
   ]
  },
  {
   "cell_type": "code",
   "execution_count": null,
   "id": "a09da4c6",
   "metadata": {},
   "outputs": [],
   "source": []
  }
 ],
 "metadata": {
  "kernelspec": {
   "display_name": "Python 3",
   "language": "python",
   "name": "python3"
  },
  "language_info": {
   "codemirror_mode": {
    "name": "ipython",
    "version": 3
   },
   "file_extension": ".py",
   "mimetype": "text/x-python",
   "name": "python",
   "nbconvert_exporter": "python",
   "pygments_lexer": "ipython3",
   "version": "3.10.11"
  }
 },
 "nbformat": 4,
 "nbformat_minor": 5
}
