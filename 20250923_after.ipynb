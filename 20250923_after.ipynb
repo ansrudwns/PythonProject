{
 "cells": [
  {
   "cell_type": "code",
   "execution_count": 1,
   "id": "363809dd",
   "metadata": {},
   "outputs": [],
   "source": [
    "f = ('apple', 'banana', 'cherry', 'date')"
   ]
  },
  {
   "cell_type": "code",
   "execution_count": 2,
   "id": "0ec0b119",
   "metadata": {},
   "outputs": [
    {
     "data": {
      "text/plain": [
       "<enumerate at 0x1df0e5270c0>"
      ]
     },
     "execution_count": 2,
     "metadata": {},
     "output_type": "execute_result"
    }
   ],
   "source": [
    "enumerate(f)"
   ]
  },
  {
   "cell_type": "code",
   "execution_count": 3,
   "id": "e81f27b2",
   "metadata": {},
   "outputs": [
    {
     "data": {
      "text/plain": [
       "[(0, 'apple'), (1, 'banana'), (2, 'cherry'), (3, 'date')]"
      ]
     },
     "execution_count": 3,
     "metadata": {},
     "output_type": "execute_result"
    }
   ],
   "source": [
    "list(enumerate(f))"
   ]
  },
  {
   "cell_type": "code",
   "execution_count": 4,
   "id": "4b2bc3e2",
   "metadata": {},
   "outputs": [
    {
     "data": {
      "text/plain": [
       "[(1, 'apple'), (2, 'banana'), (3, 'cherry'), (4, 'date')]"
      ]
     },
     "execution_count": 4,
     "metadata": {},
     "output_type": "execute_result"
    }
   ],
   "source": [
    "list(enumerate(f, 1))"
   ]
  },
  {
   "cell_type": "code",
   "execution_count": 5,
   "id": "8bc77f03",
   "metadata": {},
   "outputs": [
    {
     "data": {
      "text/plain": [
       "[2, 3, 4, 5, 6]"
      ]
     },
     "execution_count": 5,
     "metadata": {},
     "output_type": "execute_result"
    }
   ],
   "source": [
    "mylist = [1, 2, 3, 4, 5]\n",
    "\n",
    "answer = []\n",
    "\n",
    "for i in mylist:\n",
    "    answer.append(i+1)\n",
    "\n",
    "answer"
   ]
  },
  {
   "cell_type": "code",
   "execution_count": 7,
   "id": "c9a26824",
   "metadata": {},
   "outputs": [
    {
     "data": {
      "text/plain": [
       "[2, 3, 4, 5, 6]"
      ]
     },
     "execution_count": 7,
     "metadata": {},
     "output_type": "execute_result"
    }
   ],
   "source": [
    "mylist = [1, 2, 3, 4, 5]\n",
    "\n",
    "def add_one(n):\n",
    "    return n+1\n",
    "\n",
    "result = list(map(add_one, mylist))\n",
    "result"
   ]
  },
  {
   "cell_type": "code",
   "execution_count": 8,
   "id": "a4c9f902",
   "metadata": {},
   "outputs": [
    {
     "data": {
      "text/plain": [
       "[3, -6, 100, 25]"
      ]
     },
     "execution_count": 8,
     "metadata": {},
     "output_type": "execute_result"
    }
   ],
   "source": [
    "mylist = [3.14, -5.6, 100.4, 25.0]\n",
    "\n",
    "result = list(map(round, mylist))\n",
    "result"
   ]
  },
  {
   "cell_type": "code",
   "execution_count": 9,
   "id": "39fa9973",
   "metadata": {},
   "outputs": [],
   "source": [
    "a = [8, 3, 2, 10, 15, 7, 1, 0, 11]"
   ]
  },
  {
   "cell_type": "code",
   "execution_count": 10,
   "id": "2ee46536",
   "metadata": {},
   "outputs": [
    {
     "data": {
      "text/plain": [
       "[8, 7]"
      ]
     },
     "execution_count": 10,
     "metadata": {},
     "output_type": "execute_result"
    }
   ],
   "source": [
    "def f(x):\n",
    "    return x>5 and x<10\n",
    "list(filter(f,a))"
   ]
  },
  {
   "cell_type": "code",
   "execution_count": 11,
   "id": "5e156ab7",
   "metadata": {},
   "outputs": [
    {
     "data": {
      "text/plain": [
       "[8, 7]"
      ]
     },
     "execution_count": 11,
     "metadata": {},
     "output_type": "execute_result"
    }
   ],
   "source": [
    "result = []\n",
    "for i in a:\n",
    "    if i >5 and i<10:\n",
    "        result.append(i)\n",
    "result"
   ]
  },
  {
   "cell_type": "code",
   "execution_count": 13,
   "id": "c07326b5",
   "metadata": {},
   "outputs": [
    {
     "data": {
      "text/plain": [
       "[8, 7]"
      ]
     },
     "execution_count": 13,
     "metadata": {},
     "output_type": "execute_result"
    }
   ],
   "source": [
    "list(filter(lambda x: x>5 and x<10, a))"
   ]
  },
  {
   "cell_type": "code",
   "execution_count": 12,
   "id": "bea292a2",
   "metadata": {},
   "outputs": [
    {
     "data": {
      "text/plain": [
       "[2, 3, 4, 5, 6]"
      ]
     },
     "execution_count": 12,
     "metadata": {},
     "output_type": "execute_result"
    }
   ],
   "source": [
    "mylist = [1,2,3,4,5]\n",
    "\n",
    "result = list(map(lambda x: x+1, mylist))\n",
    "result"
   ]
  },
  {
   "cell_type": "code",
   "execution_count": 15,
   "id": "0e4de9a6",
   "metadata": {},
   "outputs": [
    {
     "name": "stdout",
     "output_type": "stream",
     "text": [
      "[1, 4, 9, 16]\n"
     ]
    }
   ],
   "source": [
    "numbers = [1, 2, 3, 4]\n",
    "squared = list(map(lambda x: x**2, numbers))\n",
    "print(squared)"
   ]
  },
  {
   "cell_type": "code",
   "execution_count": 16,
   "id": "23f7c462",
   "metadata": {},
   "outputs": [
    {
     "name": "stdout",
     "output_type": "stream",
     "text": [
      "[2, 4]\n"
     ]
    }
   ],
   "source": [
    "numbers = [1, 2, 3, 4, 5]\n",
    "even_numbers = list(filter(lambda x: x%2 == 0, numbers))\n",
    "print(even_numbers)"
   ]
  },
  {
   "cell_type": "code",
   "execution_count": 18,
   "id": "520ad03f",
   "metadata": {},
   "outputs": [
    {
     "name": "stdout",
     "output_type": "stream",
     "text": [
      "[(4, 1), (5, 1), (1, 2), (3, 4)]\n"
     ]
    }
   ],
   "source": [
    "points = [(1,2), (3,4), (5,1), (4,1)]\n",
    "sorted_points = sorted(points, key = lambda x: (x[1], x[0]))\n",
    "print(sorted_points)\n"
   ]
  },
  {
   "cell_type": "code",
   "execution_count": 19,
   "id": "0eff75f7",
   "metadata": {},
   "outputs": [],
   "source": [
    "numbers = [1, 2, 3, 4, 5]\n",
    "my_numbers = sorted(numbers, reverse = True)"
   ]
  },
  {
   "cell_type": "code",
   "execution_count": 21,
   "id": "f1cb852f",
   "metadata": {},
   "outputs": [
    {
     "data": {
      "text/plain": [
       "[5, 4, 3, 2, 1]"
      ]
     },
     "execution_count": 21,
     "metadata": {},
     "output_type": "execute_result"
    }
   ],
   "source": [
    "my_numbers"
   ]
  },
  {
   "cell_type": "code",
   "execution_count": 22,
   "id": "97eb762f",
   "metadata": {},
   "outputs": [],
   "source": [
    "fruits = ['apple', 'banana', 'cherry', 'date']"
   ]
  },
  {
   "cell_type": "code",
   "execution_count": 24,
   "id": "5477cbd6",
   "metadata": {},
   "outputs": [
    {
     "data": {
      "text/plain": [
       "['date', 'apple', 'banana', 'cherry']"
      ]
     },
     "execution_count": 24,
     "metadata": {},
     "output_type": "execute_result"
    }
   ],
   "source": [
    "myfruits = sorted(fruits, key = len)\n",
    "myfruits"
   ]
  },
  {
   "cell_type": "code",
   "execution_count": 25,
   "id": "4155de1a",
   "metadata": {},
   "outputs": [
    {
     "data": {
      "text/plain": [
       "['banana', 'cherry', 'apple', 'date']"
      ]
     },
     "execution_count": 25,
     "metadata": {},
     "output_type": "execute_result"
    }
   ],
   "source": [
    "myfruits = sorted(fruits, key = len, reverse = True)\n",
    "myfruits"
   ]
  },
  {
   "cell_type": "code",
   "execution_count": 26,
   "id": "2940f0bb",
   "metadata": {},
   "outputs": [
    {
     "name": "stdout",
     "output_type": "stream",
     "text": [
      "[1, 2, 4, 3]\n"
     ]
    }
   ],
   "source": [
    "'''\n",
    "등수구하기 \n",
    "\n",
    "영어 점수와 수학 점수의 평균 점수를 기준으로 학생들의 등수를 매기려고 합니다. \n",
    "영어 점수와 수학 점수를 담은 2차원 리스트 score가 주어질 때, \n",
    "영어 점수와 수학 점수의 평균을 기준으로 매긴 등수를 담은 리스트를 return하도록 함수를 만들어주세요 \n",
    "\n",
    " \n",
    "\n",
    "[[80, 70], [90, 50], [40, 70], [50, 80]] -> [1, 2, 4, 3] \n",
    "\n",
    "[[80, 70], [70, 80], [30, 50], [90, 100], [100, 90], [100, 100], [10, 30]] -> [4, 4, 6, 2, 2, 1, 7] \n",
    "'''\n",
    "\n",
    "\n",
    "# 평균값 구하기\n",
    "# 내림차순 구하기\n",
    "# 비교해서 등수 처리\n",
    "\n",
    "result = []\n",
    "def rank(score):\n",
    "    avg = []\n",
    "\n",
    "    for i, j in score:\n",
    "        avg.append((i+j)/2)\n",
    "\n",
    "    avg_sort = sorted(avg, reverse = True)\n",
    "\n",
    "    for i in avg:\n",
    "        result.append(avg_sort.index(i)+1)\n",
    "    \n",
    "    return result\n",
    "score = [[80, 70], [90, 50], [40, 70], [50, 80]]\n",
    "print(rank(score))"
   ]
  },
  {
   "cell_type": "code",
   "execution_count": 27,
   "id": "caeb1108",
   "metadata": {},
   "outputs": [
    {
     "name": "stdout",
     "output_type": "stream",
     "text": [
      "[4, 4, 6, 2, 2, 1, 7]\n"
     ]
    }
   ],
   "source": [
    "# 리스트 컴프리헨션 사용 버전 등수 구하기\n",
    "\n",
    "def rank(score):\n",
    "    avg = [(i+j)/2 for i, j in score]\n",
    "\n",
    "    avg_sort = sorted(avg, reverse= True)\n",
    "\n",
    "    result = [avg_sort.index(i)+1 for i in avg]\n",
    "\n",
    "    return result\n",
    "\n",
    "score = [[80, 70], [70, 80], [30, 50], [90, 100], [100, 90], [100, 100], [10, 30]]\n",
    "print(rank(score))"
   ]
  },
  {
   "cell_type": "code",
   "execution_count": 32,
   "id": "53ebdca7",
   "metadata": {},
   "outputs": [
    {
     "data": {
      "text/plain": [
       "[True, False, False, False, False, False, False, False]"
      ]
     },
     "execution_count": 32,
     "metadata": {},
     "output_type": "execute_result"
    }
   ],
   "source": [
    "# 소수판별함수 is_prime()\n",
    "#[2, 3, 4, 5, 6, 7, 8, 9]\n",
    "\n",
    "def is_prime(num_list):\n",
    "    result = []\n",
    "    for num in num_list:\n",
    "        isprime= True\n",
    "        for i in range(2, num):\n",
    "            if i%2 == 0:\n",
    "                isprime = False\n",
    "                break\n",
    "        result.append(isprime)\n",
    "    return result\n",
    "\n",
    "is_prime([2, 3, 4, 5, 6, 7, 8, 9])"
   ]
  },
  {
   "cell_type": "code",
   "execution_count": 33,
   "id": "aa7d2631",
   "metadata": {},
   "outputs": [
    {
     "name": "stdout",
     "output_type": "stream",
     "text": [
      "[25, 23, 31, 13, 8, 11]\n"
     ]
    }
   ],
   "source": [
    "# 행운번호 추첨기 (무작위 생선된 6개의 숫자 출력)\n",
    "import random as r\n",
    "result = []\n",
    "\n",
    "while len(result)<6:\n",
    "    num = r.randint(1,45)\n",
    "    if num not in result:\n",
    "        result.append(num)\n",
    "print(result)"
   ]
  },
  {
   "cell_type": "code",
   "execution_count": null,
   "id": "6be417bc",
   "metadata": {},
   "outputs": [],
   "source": [
    "# 결제 시스템 예제: 신용카드 / 포인트 결제\n",
    "# 핵심 개념: 상속(inheritance), 메서드 오버라이드(override), 다형성(polymorphism)\n",
    "\n",
    "class PaymentMethod:\n",
    "    \"\"\"결제수단의 공통 인터페이스(부모 클래스).\n",
    "    실제 시스템에선 추상 메서드로 강제하는 게 일반적이지만,\n",
    "    여기선 데모용으로 기본 구현을 둠.\n",
    "    \"\"\"\n",
    "    def pay(self, amount):\n",
    "        # self: \"이 객체 자신\"을 가리키는 참조\n",
    "        print(f\"{amount}원 결제\")   # 데모 출력(비즈니스 로직+출력 섞인 간단 예시)\n",
    "\n",
    "\n",
    "class CreditCard(PaymentMethod):\n",
    "    \"\"\"신용카드 결제 수단. PaymentMethod를 '상속'받아\n",
    "    pay 동작을 '자기 방식'으로 재정의(오버라이드)한다.\n",
    "    \"\"\"\n",
    "    def __init__(self, card_number, cvc):\n",
    "        # __init__: 인스턴스 생성 시 상태(속성)를 초기화하는 '생성자'\n",
    "        self.card_number = card_number\n",
    "        self.cvc = cvc\n",
    "\n",
    "    def pay(self, amount):\n",
    "        # 부모의 pay를 같은 시그니처로 '오버라이드'\n",
    "        print(f\"{self.card_number} 카드로 {amount}원 결제합니다.\")\n",
    "        print(\"결제 완료\")\n",
    "\n",
    "\n",
    "class PointWallet(PaymentMethod):\n",
    "    \"\"\"포인트 지갑 결제 수단. 잔액 상태(balance)를 가진다.\"\"\"\n",
    "    def __init__(self, balance):\n",
    "        self.balance = balance    # 보유 포인트\n",
    "\n",
    "    def pay(self, amount):\n",
    "        # 포인트가 충분한지 검사하는 '비즈니스 로직' 포함\n",
    "        if self.balance >= amount:\n",
    "            self.balance -= amount  # 차감(상태 변경)\n",
    "            print(f\"포인트 {amount}점을 사용하여 결제했습니다. (남은 잔액: {self.balance})\")\n",
    "        else:\n",
    "            print(\"포인트가 부족합니다.\")\n",
    "\n",
    "\n",
    "def process_payment(payment_method, amount):\n",
    "    \"\"\"결제 처리기(호출부).\n",
    "    - 인자로 '결제수단 객체'를 받음\n",
    "    - 분기(if/elif) 없이 동일한 메서드 이름(pay)만 호출\n",
    "      → 이것이 '다형성(polymorphism)' / '덕 타이핑(duck typing)'\n",
    "    \"\"\"\n",
    "    payment_method.pay(amount)\n",
    "\n",
    "\n",
    "# --------- 사용 예시(인스턴스 생성) ---------\n",
    "card_obj = CreditCard('4444-4444-4444-4444', 444)  # 신용카드 객체\n",
    "point_obj = PointWallet(50000)                     # 포인트 지갑 객체(초기 잔액 5만)\n",
    "\n",
    "\n",
    "# --------- 호출부(동일한 인터페이스로 사용) ---------\n",
    "process_payment(card_obj, 1000)    # CreditCard.pay 호출\n",
    "process_payment(point_obj, 10000)  # PointWallet.pay 호출(잔액 차감)\n",
    "process_payment(point_obj, 50000)  # 잔액 부족 케이스"
   ]
  },
  {
   "cell_type": "markdown",
   "id": "7b82f710",
   "metadata": {},
   "source": [
    "## 업그레이드 미션"
   ]
  },
  {
   "cell_type": "code",
   "execution_count": null,
   "id": "c32a6908",
   "metadata": {},
   "outputs": [
    {
     "name": "stdout",
     "output_type": "stream",
     "text": [
      "역삼역 도어읽 로꾸거 역삼역 도어읽 로으앞 .다니입역삼역 ,역삼역 은역번이 \n"
     ]
    }
   ],
   "source": [
    "# 업그레이드미션 11\n",
    "\n",
    "# 떠올리기 업그레이드 미션1 -> 거꾸로 적어 내기 \n",
    "\n",
    "string = \" 이번역은 역삼역, 역삼역입니다. 앞으로 읽어도 역삼역 거꾸로 읽어도 역삼역\" \n",
    "\n",
    "print(string[::-1]) \n",
    "\n",
    "# -------------------------------------\n"
   ]
  },
  {
   "cell_type": "code",
   "execution_count": null,
   "id": "18f17e4a",
   "metadata": {},
   "outputs": [
    {
     "name": "stdout",
     "output_type": "stream",
     "text": [
      "과일가게에 오신 것을 환영합니다!\n",
      "오늘 판매하는 과일:  ['사과', '바나나', '오렌지', '포도', '수박']\n",
      "현재 재고:  [3, 3, 3, 3, 3]\n",
      "사과를(을) 구매하셨습니다! 남은 사과의 재고: 2\n",
      "현재 재고:  [2, 3, 3, 3, 3]\n",
      "오렌지를(을) 구매하셨습니다! 남은 오렌지의 재고: 2\n",
      "현재 재고:  [2, 3, 2, 3, 3]\n",
      "포도를(을) 구매하셨습니다! 남은 포도의 재고: 2\n",
      "현재 재고:  [2, 3, 2, 2, 3]\n",
      "사과를(을) 구매하셨습니다! 남은 사과의 재고: 1\n",
      "현재 재고:  [1, 3, 2, 2, 3]\n",
      "사과를(을) 구매하셨습니다! 남은 사과의 재고: 0\n",
      "현재 재고:  [0, 3, 2, 2, 3]\n",
      "죄송합니다. 사과는 재고가 없습니다! 다른 과일을 선택해주세요.\n",
      "현재 재고:  [0, 3, 2, 2, 3]\n",
      "감사합니다! 모든 과일이 다 팔렸습니다. 가게를 종료합니다.\n"
     ]
    }
   ],
   "source": [
    "# 업그레이드미션 12\n",
    "# 과일가게를 운영해 주세요 \n",
    "\n",
    "f = ['사과', '바나나', '오렌지', '포도', '수박'] \n",
    "c = [3, 3, 3, 3, 3]\n",
    "\n",
    "print(\"과일가게에 오신 것을 환영합니다!\")\n",
    "print(\"오늘 판매하는 과일: \", f)\n",
    "\n",
    "while sum(c) > 0:\n",
    "    print(\"현재 재고: \", c)\n",
    "    buy = str(input(\"어떤 과일을 구매하시겠습니까? (종료하려면 '그만'을 입력하세요): \"))\n",
    "    if buy == \"그만\":\n",
    "        break\n",
    "    else :\n",
    "        if buy in f:\n",
    "            idx = f.index(buy)\n",
    "            if c[idx] > 0:\n",
    "                c[idx] -= 1\n",
    "                print(f\"{buy}를(을) 구매하셨습니다! 남은 {buy}의 재고: {c[idx]}\")\n",
    "            else:\n",
    "                print(f\"죄송합니다. {buy}는 재고가 없습니다! 다른 과일을 선택해주세요.\")\n",
    "\n",
    "print(\"감사합니다! 모든 과일이 다 팔렸습니다. 가게를 종료합니다.\")"
   ]
  },
  {
   "cell_type": "code",
   "execution_count": 63,
   "id": "9b3f90c8",
   "metadata": {},
   "outputs": [
    {
     "name": "stdout",
     "output_type": "stream",
     "text": [
      "2\n"
     ]
    }
   ],
   "source": [
    "# 업그레이드미션 12-2\n",
    "'''\n",
    "지민이는 햄버거 가게에서 아르바이트를 합니다.  \n",
    "\n",
    "아래서부터, 빵 - 야채 - 고기 - 빵으로 쌓인 햄버거만 포장할수 있으면 재료는 순서대로 하나씩 들어와 쌓입니다.  \n",
    "\n",
    "재료의 순서가 [야채, 빵, 빵, 야채, 고기, 빵, 야채, 고기, 빵]일 때, \n",
    "지민이는 여섯 번째 재료가 쌓였을 때, 세 번째 재료부터 여섯 번째 재료를 이용하여 햄버거를 포장하고, \n",
    "아홉 번째 재료가 쌓였을 때, 두 번째 재료와 일곱 번째 재료부터 아홉 번째 재료를 이용하여 햄버거를 포장합니다.\n",
    "즉, 2개의 햄버거를 포장하게 됩니다. \n",
    "\n",
    "ingredient의 원소는 1, 2, 3 중 하나의 값이며, 순서대로 빵, 야채, 고기를 의미합니다. \n",
    "'''\n",
    "\n",
    "def count_burgers(ingredient):\n",
    "    pack = []\n",
    "    burgers = 0\n",
    "    for i in ingredient:\n",
    "        pack.append(i)\n",
    "        # 마지막 4개가 [1,2,3,1]이면 제거\n",
    "        if len(pack) >= 4 and pack[-4:] == [1, 2, 3, 1]:\n",
    "            del pack[-4:]\n",
    "            burgers += 1\n",
    "    return burgers\n",
    "\n",
    "print(count_burgers([2,1,1,2,3,1,2,3,1]))"
   ]
  },
  {
   "cell_type": "code",
   "execution_count": null,
   "id": "5833082a",
   "metadata": {},
   "outputs": [
    {
     "name": "stdout",
     "output_type": "stream",
     "text": [
      "['5', '4', '3', '2', '1']\n"
     ]
    }
   ],
   "source": [
    "# 업그레이드미션 12-3\n",
    "# 자연수 n을 뒤집어 각 자리 숫자를 원소로 가지는 리스트로 만들어주세요.  \n",
    "# 예를들어 n이 12345이면 [5,4,3,2,1]을 출력해주세요 \n",
    "\n",
    "n = str(input(\"자연수 n을 입력하세요: \"))\n",
    "\n",
    "numlist = list(n)\n",
    "result = sorted(numlist, reverse=True)\n",
    "print(result)"
   ]
  },
  {
   "cell_type": "code",
   "execution_count": 70,
   "id": "9415abd0",
   "metadata": {},
   "outputs": [
    {
     "name": "stdout",
     "output_type": "stream",
     "text": [
      "파이썬 용어 사전\n",
      "입력단어-> 'python' is: a high-level programming language\n",
      "입력단어-> 'apple' is: 사전에 찾는 단어가 없어요!\n",
      "입력단어-> 'loop' is: a sequence of instructions that are continually repeated\n",
      "종료!\n"
     ]
    }
   ],
   "source": [
    "# 업그레이드미션 13\n",
    "# 딕셔너리 업그레이드 미션\n",
    "\n",
    "print(\"파이썬 용어 사전\")\n",
    "\n",
    "dictionary = {\n",
    "    \"python\": \"a high-level programming language\", \n",
    "    \"apple\": \"사전에 찾는 단어가 없어요!\", \n",
    "    \"loop\": \"a sequence of instructions that are continually repeated\"\n",
    "    }\n",
    "\n",
    "while True:\n",
    "    word = input(\"입력단어 -> \")\n",
    "    if word == '종료':\n",
    "        print(\"종료!\")\n",
    "        break\n",
    "    if word in dictionary:\n",
    "        print(f\"입력단어-> '{word}' is: {dictionary[word]}\")\n"
   ]
  },
  {
   "cell_type": "code",
   "execution_count": 58,
   "id": "bdfb9ebb",
   "metadata": {},
   "outputs": [
    {
     "name": "stdout",
     "output_type": "stream",
     "text": [
      "hello"
     ]
    }
   ],
   "source": [
    "# 업그레이드미션 13-2\n",
    "# 모스부호\n",
    "\n",
    "morse = { \n",
    "\n",
    "    '.-':'a','-...':'b','-.-.':'c','-..':'d','.':'e','..-.':'f', \n",
    "\n",
    "    '--.':'g','....':'h','..':'i','.---':'j','-.-':'k','.-..':'l', \n",
    "\n",
    "    '--':'m','-.':'n','---':'o','.--.':'p','--.-':'q','.-.':'r', \n",
    "\n",
    "    '...':'s','-':'t','..-':'u','...-':'v','.--':'w','-..-':'x', \n",
    "\n",
    "    '-.--':'y','--..':'z' \n",
    "\n",
    "} \n",
    "\n",
    "letter = \".... . .-.. .-.. ---\"\n",
    "result = letter.split()\n",
    "\n",
    "for i in result:\n",
    "    print(morse[i], end=\"\")\n",
    "\n"
   ]
  },
  {
   "cell_type": "code",
   "execution_count": 74,
   "id": "51e57bb9",
   "metadata": {},
   "outputs": [
    {
     "name": "stdout",
     "output_type": "stream",
     "text": [
      "Alice학생의 평균 성적: 89.0\n",
      "Bob학생의 평균 성적: 82.0\n",
      "Charlie학생의 평균 성적: 92.0\n",
      "전체 학생들의 평균 성적: 87.66666666666667\n",
      "90점 이상인 학생 명단: ['Charlie']\n"
     ]
    }
   ],
   "source": [
    "# 업그레이드미션 14\n",
    "\"\"\" 세 명의 학생과 각 학생의 성적을 리스트와 딕셔너리로 표현합니다.\n",
    "각 학생의 평균 성적을 계산하여 출력합니다.\n",
    "전체 학생들의 평균 성적을 출력합니다.\n",
    "또한, 성적이 90 이상인 학생들을 찾아서 출력합니다.\n",
    "\"\"\"\n",
    "\n",
    "a = {'이름':'Alice', '성적': (90,85,92)}\n",
    "b = {'이름':'Bob', '성적': (78,80,88)}\n",
    "c = {'이름':'Charlie', '성적': (95,92,89)}\n",
    "\n",
    "\n",
    "def avg(student):\n",
    "    sum = 0\n",
    "    grade = list(student['성적'])\n",
    "    for i in grade:\n",
    "        sum += i\n",
    "        average = sum/3\n",
    "    return average\n",
    "\n",
    "print(f\"{a['이름']}학생의 평균 성적: {avg(a)}\")\n",
    "print(f\"{b['이름']}학생의 평균 성적: {avg(b)}\")\n",
    "print(f\"{c['이름']}학생의 평균 성적: {avg(c)}\")\n",
    "\n",
    "print(f\"전체 학생들의 평균 성적: {(avg(a)+avg(b)+avg(c))/3}\")\n",
    "\n",
    "d=[]\n",
    "if avg(a) >= 90:\n",
    "    d.append(a['이름'])\n",
    "if avg(b) >= 90:\n",
    "    d.append(b['이름'])\n",
    "if avg(c) >= 90:\n",
    "    d.append(c['이름'])\n",
    "\n",
    "print(f\"90점 이상인 학생 명단: {d}\")\n",
    "\n"
   ]
  },
  {
   "cell_type": "code",
   "execution_count": null,
   "id": "7d4b061f",
   "metadata": {},
   "outputs": [],
   "source": [
    "14번 다른 방식으로 다시 풀기"
   ]
  }
 ],
 "metadata": {
  "kernelspec": {
   "display_name": "Python 3",
   "language": "python",
   "name": "python3"
  },
  "language_info": {
   "codemirror_mode": {
    "name": "ipython",
    "version": 3
   },
   "file_extension": ".py",
   "mimetype": "text/x-python",
   "name": "python",
   "nbconvert_exporter": "python",
   "pygments_lexer": "ipython3",
   "version": "3.10.11"
  }
 },
 "nbformat": 4,
 "nbformat_minor": 5
}
