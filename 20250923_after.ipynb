{
 "cells": [
  {
   "cell_type": "code",
   "execution_count": 1,
   "id": "363809dd",
   "metadata": {},
   "outputs": [],
   "source": [
    "f = ('apple', 'banana', 'cherry', 'date')"
   ]
  },
  {
   "cell_type": "code",
   "execution_count": 2,
   "id": "0ec0b119",
   "metadata": {},
   "outputs": [
    {
     "data": {
      "text/plain": [
       "<enumerate at 0x1df0e5270c0>"
      ]
     },
     "execution_count": 2,
     "metadata": {},
     "output_type": "execute_result"
    }
   ],
   "source": [
    "enumerate(f)"
   ]
  },
  {
   "cell_type": "code",
   "execution_count": 3,
   "id": "e81f27b2",
   "metadata": {},
   "outputs": [
    {
     "data": {
      "text/plain": [
       "[(0, 'apple'), (1, 'banana'), (2, 'cherry'), (3, 'date')]"
      ]
     },
     "execution_count": 3,
     "metadata": {},
     "output_type": "execute_result"
    }
   ],
   "source": [
    "list(enumerate(f))"
   ]
  },
  {
   "cell_type": "code",
   "execution_count": 4,
   "id": "4b2bc3e2",
   "metadata": {},
   "outputs": [
    {
     "data": {
      "text/plain": [
       "[(1, 'apple'), (2, 'banana'), (3, 'cherry'), (4, 'date')]"
      ]
     },
     "execution_count": 4,
     "metadata": {},
     "output_type": "execute_result"
    }
   ],
   "source": [
    "list(enumerate(f, 1))"
   ]
  },
  {
   "cell_type": "code",
   "execution_count": 5,
   "id": "8bc77f03",
   "metadata": {},
   "outputs": [
    {
     "data": {
      "text/plain": [
       "[2, 3, 4, 5, 6]"
      ]
     },
     "execution_count": 5,
     "metadata": {},
     "output_type": "execute_result"
    }
   ],
   "source": [
    "mylist = [1, 2, 3, 4, 5]\n",
    "\n",
    "answer = []\n",
    "\n",
    "for i in mylist:\n",
    "    answer.append(i+1)\n",
    "\n",
    "answer"
   ]
  },
  {
   "cell_type": "code",
   "execution_count": 7,
   "id": "c9a26824",
   "metadata": {},
   "outputs": [
    {
     "data": {
      "text/plain": [
       "[2, 3, 4, 5, 6]"
      ]
     },
     "execution_count": 7,
     "metadata": {},
     "output_type": "execute_result"
    }
   ],
   "source": [
    "mylist = [1, 2, 3, 4, 5]\n",
    "\n",
    "def add_one(n):\n",
    "    return n+1\n",
    "\n",
    "result = list(map(add_one, mylist))\n",
    "result"
   ]
  },
  {
   "cell_type": "code",
   "execution_count": 8,
   "id": "a4c9f902",
   "metadata": {},
   "outputs": [
    {
     "data": {
      "text/plain": [
       "[3, -6, 100, 25]"
      ]
     },
     "execution_count": 8,
     "metadata": {},
     "output_type": "execute_result"
    }
   ],
   "source": [
    "mylist = [3.14, -5.6, 100.4, 25.0]\n",
    "\n",
    "result = list(map(round, mylist))\n",
    "result"
   ]
  },
  {
   "cell_type": "code",
   "execution_count": 9,
   "id": "39fa9973",
   "metadata": {},
   "outputs": [],
   "source": [
    "a = [8, 3, 2, 10, 15, 7, 1, 0, 11]"
   ]
  },
  {
   "cell_type": "code",
   "execution_count": 10,
   "id": "2ee46536",
   "metadata": {},
   "outputs": [
    {
     "data": {
      "text/plain": [
       "[8, 7]"
      ]
     },
     "execution_count": 10,
     "metadata": {},
     "output_type": "execute_result"
    }
   ],
   "source": [
    "def f(x):\n",
    "    return x>5 and x<10\n",
    "list(filter(f,a))"
   ]
  },
  {
   "cell_type": "code",
   "execution_count": 11,
   "id": "5e156ab7",
   "metadata": {},
   "outputs": [
    {
     "data": {
      "text/plain": [
       "[8, 7]"
      ]
     },
     "execution_count": 11,
     "metadata": {},
     "output_type": "execute_result"
    }
   ],
   "source": [
    "result = []\n",
    "for i in a:\n",
    "    if i >5 and i<10:\n",
    "        result.append(i)\n",
    "result"
   ]
  },
  {
   "cell_type": "code",
   "execution_count": 13,
   "id": "c07326b5",
   "metadata": {},
   "outputs": [
    {
     "data": {
      "text/plain": [
       "[8, 7]"
      ]
     },
     "execution_count": 13,
     "metadata": {},
     "output_type": "execute_result"
    }
   ],
   "source": [
    "list(filter(lambda x: x>5 and x<10, a))"
   ]
  },
  {
   "cell_type": "code",
   "execution_count": 12,
   "id": "bea292a2",
   "metadata": {},
   "outputs": [
    {
     "data": {
      "text/plain": [
       "[2, 3, 4, 5, 6]"
      ]
     },
     "execution_count": 12,
     "metadata": {},
     "output_type": "execute_result"
    }
   ],
   "source": [
    "mylist = [1,2,3,4,5]\n",
    "\n",
    "result = list(map(lambda x: x+1, mylist))\n",
    "result"
   ]
  },
  {
   "cell_type": "code",
   "execution_count": 15,
   "id": "0e4de9a6",
   "metadata": {},
   "outputs": [
    {
     "name": "stdout",
     "output_type": "stream",
     "text": [
      "[1, 4, 9, 16]\n"
     ]
    }
   ],
   "source": [
    "numbers = [1, 2, 3, 4]\n",
    "squared = list(map(lambda x: x**2, numbers))\n",
    "print(squared)"
   ]
  },
  {
   "cell_type": "code",
   "execution_count": 16,
   "id": "23f7c462",
   "metadata": {},
   "outputs": [
    {
     "name": "stdout",
     "output_type": "stream",
     "text": [
      "[2, 4]\n"
     ]
    }
   ],
   "source": [
    "numbers = [1, 2, 3, 4, 5]\n",
    "even_numbers = list(filter(lambda x: x%2 == 0, numbers))\n",
    "print(even_numbers)"
   ]
  },
  {
   "cell_type": "code",
   "execution_count": 18,
   "id": "520ad03f",
   "metadata": {},
   "outputs": [
    {
     "name": "stdout",
     "output_type": "stream",
     "text": [
      "[(4, 1), (5, 1), (1, 2), (3, 4)]\n"
     ]
    }
   ],
   "source": [
    "points = [(1,2), (3,4), (5,1), (4,1)]\n",
    "sorted_points = sorted(points, key = lambda x: (x[1], x[0]))\n",
    "print(sorted_points)\n"
   ]
  },
  {
   "cell_type": "code",
   "execution_count": 19,
   "id": "0eff75f7",
   "metadata": {},
   "outputs": [],
   "source": [
    "numbers = [1, 2, 3, 4, 5]\n",
    "my_numbers = sorted(numbers, reverse = True)"
   ]
  },
  {
   "cell_type": "code",
   "execution_count": 21,
   "id": "f1cb852f",
   "metadata": {},
   "outputs": [
    {
     "data": {
      "text/plain": [
       "[5, 4, 3, 2, 1]"
      ]
     },
     "execution_count": 21,
     "metadata": {},
     "output_type": "execute_result"
    }
   ],
   "source": [
    "my_numbers"
   ]
  },
  {
   "cell_type": "code",
   "execution_count": 22,
   "id": "97eb762f",
   "metadata": {},
   "outputs": [],
   "source": [
    "fruits = ['apple', 'banana', 'cherry', 'date']"
   ]
  },
  {
   "cell_type": "code",
   "execution_count": 24,
   "id": "5477cbd6",
   "metadata": {},
   "outputs": [
    {
     "data": {
      "text/plain": [
       "['date', 'apple', 'banana', 'cherry']"
      ]
     },
     "execution_count": 24,
     "metadata": {},
     "output_type": "execute_result"
    }
   ],
   "source": [
    "myfruits = sorted(fruits, key = len)\n",
    "myfruits"
   ]
  },
  {
   "cell_type": "code",
   "execution_count": 25,
   "id": "4155de1a",
   "metadata": {},
   "outputs": [
    {
     "data": {
      "text/plain": [
       "['banana', 'cherry', 'apple', 'date']"
      ]
     },
     "execution_count": 25,
     "metadata": {},
     "output_type": "execute_result"
    }
   ],
   "source": [
    "myfruits = sorted(fruits, key = len, reverse = True)\n",
    "myfruits"
   ]
  },
  {
   "cell_type": "code",
   "execution_count": 26,
   "id": "2940f0bb",
   "metadata": {},
   "outputs": [
    {
     "name": "stdout",
     "output_type": "stream",
     "text": [
      "[1, 2, 4, 3]\n"
     ]
    }
   ],
   "source": [
    "'''\n",
    "등수구하기 \n",
    "\n",
    "영어 점수와 수학 점수의 평균 점수를 기준으로 학생들의 등수를 매기려고 합니다. \n",
    "영어 점수와 수학 점수를 담은 2차원 리스트 score가 주어질 때, \n",
    "영어 점수와 수학 점수의 평균을 기준으로 매긴 등수를 담은 리스트를 return하도록 함수를 만들어주세요 \n",
    "\n",
    " \n",
    "\n",
    "[[80, 70], [90, 50], [40, 70], [50, 80]] -> [1, 2, 4, 3] \n",
    "\n",
    "[[80, 70], [70, 80], [30, 50], [90, 100], [100, 90], [100, 100], [10, 30]] -> [4, 4, 6, 2, 2, 1, 7] \n",
    "'''\n",
    "\n",
    "\n",
    "# 평균값 구하기\n",
    "# 내림차순 구하기\n",
    "# 비교해서 등수 처리\n",
    "\n",
    "result = []\n",
    "def rank(score):\n",
    "    avg = []\n",
    "\n",
    "    for i, j in score:\n",
    "        avg.append((i+j)/2)\n",
    "\n",
    "    avg_sort = sorted(avg, reverse = True)\n",
    "\n",
    "    for i in avg:\n",
    "        result.append(avg_sort.index(i)+1)\n",
    "    \n",
    "    return result\n",
    "score = [[80, 70], [90, 50], [40, 70], [50, 80]]\n",
    "print(rank(score))"
   ]
  },
  {
   "cell_type": "code",
   "execution_count": 27,
   "id": "caeb1108",
   "metadata": {},
   "outputs": [
    {
     "name": "stdout",
     "output_type": "stream",
     "text": [
      "[4, 4, 6, 2, 2, 1, 7]\n"
     ]
    }
   ],
   "source": [
    "# 리스트 컴프리헨션 사용 버전 등수 구하기\n",
    "\n",
    "def rank(score):\n",
    "    avg = [(i+j)/2 for i, j in score]\n",
    "\n",
    "    avg_sort = sorted(avg, reverse= True)\n",
    "\n",
    "    result = [avg_sort.index(i)+1 for i in avg]\n",
    "\n",
    "    return result\n",
    "\n",
    "score = [[80, 70], [70, 80], [30, 50], [90, 100], [100, 90], [100, 100], [10, 30]]\n",
    "print(rank(score))"
   ]
  },
  {
   "cell_type": "code",
   "execution_count": 32,
   "id": "53ebdca7",
   "metadata": {},
   "outputs": [
    {
     "data": {
      "text/plain": [
       "[True, False, False, False, False, False, False, False]"
      ]
     },
     "execution_count": 32,
     "metadata": {},
     "output_type": "execute_result"
    }
   ],
   "source": [
    "# 소수판별함수 is_prime()\n",
    "#[2, 3, 4, 5, 6, 7, 8, 9]\n",
    "\n",
    "def is_prime(num_list):\n",
    "    result = []\n",
    "    for num in num_list:\n",
    "        isprime= True\n",
    "        for i in range(2, num):\n",
    "            if i%2 == 0:\n",
    "                isprime = False\n",
    "                break\n",
    "        result.append(isprime)\n",
    "    return result\n",
    "\n",
    "is_prime([2, 3, 4, 5, 6, 7, 8, 9])"
   ]
  },
  {
   "cell_type": "code",
   "execution_count": 33,
   "id": "aa7d2631",
   "metadata": {},
   "outputs": [
    {
     "name": "stdout",
     "output_type": "stream",
     "text": [
      "[25, 23, 31, 13, 8, 11]\n"
     ]
    }
   ],
   "source": [
    "# 행운번호 추첨기 (무작위 생선된 6개의 숫자 출력)\n",
    "import random as r\n",
    "result = []\n",
    "\n",
    "while len(result)<6:\n",
    "    num = r.randint(1,45)\n",
    "    if num not in result:\n",
    "        result.append(num)\n",
    "print(result)"
   ]
  },
  {
   "cell_type": "code",
   "execution_count": null,
   "id": "6be417bc",
   "metadata": {},
   "outputs": [],
   "source": [
    "# 결제 시스템 예제: 신용카드 / 포인트 결제\n",
    "# 핵심 개념: 상속(inheritance), 메서드 오버라이드(override), 다형성(polymorphism)\n",
    "\n",
    "class PaymentMethod:\n",
    "    \"\"\"결제수단의 공통 인터페이스(부모 클래스).\n",
    "    실제 시스템에선 추상 메서드로 강제하는 게 일반적이지만,\n",
    "    여기선 데모용으로 기본 구현을 둠.\n",
    "    \"\"\"\n",
    "    def pay(self, amount):\n",
    "        # self: \"이 객체 자신\"을 가리키는 참조\n",
    "        print(f\"{amount}원 결제\")   # 데모 출력(비즈니스 로직+출력 섞인 간단 예시)\n",
    "\n",
    "\n",
    "class CreditCard(PaymentMethod):\n",
    "    \"\"\"신용카드 결제 수단. PaymentMethod를 '상속'받아\n",
    "    pay 동작을 '자기 방식'으로 재정의(오버라이드)한다.\n",
    "    \"\"\"\n",
    "    def __init__(self, card_number, cvc):\n",
    "        # __init__: 인스턴스 생성 시 상태(속성)를 초기화하는 '생성자'\n",
    "        self.card_number = card_number\n",
    "        self.cvc = cvc\n",
    "\n",
    "    def pay(self, amount):\n",
    "        # 부모의 pay를 같은 시그니처로 '오버라이드'\n",
    "        print(f\"{self.card_number} 카드로 {amount}원 결제합니다.\")\n",
    "        print(\"결제 완료\")\n",
    "\n",
    "\n",
    "class PointWallet(PaymentMethod):\n",
    "    \"\"\"포인트 지갑 결제 수단. 잔액 상태(balance)를 가진다.\"\"\"\n",
    "    def __init__(self, balance):\n",
    "        self.balance = balance    # 보유 포인트\n",
    "\n",
    "    def pay(self, amount):\n",
    "        # 포인트가 충분한지 검사하는 '비즈니스 로직' 포함\n",
    "        if self.balance >= amount:\n",
    "            self.balance -= amount  # 차감(상태 변경)\n",
    "            print(f\"포인트 {amount}점을 사용하여 결제했습니다. (남은 잔액: {self.balance})\")\n",
    "        else:\n",
    "            print(\"포인트가 부족합니다.\")\n",
    "\n",
    "\n",
    "def process_payment(payment_method, amount):\n",
    "    \"\"\"결제 처리기(호출부).\n",
    "    - 인자로 '결제수단 객체'를 받음\n",
    "    - 분기(if/elif) 없이 동일한 메서드 이름(pay)만 호출\n",
    "      → 이것이 '다형성(polymorphism)' / '덕 타이핑(duck typing)'\n",
    "    \"\"\"\n",
    "    payment_method.pay(amount)\n",
    "\n",
    "\n",
    "# --------- 사용 예시(인스턴스 생성) ---------\n",
    "card_obj = CreditCard('4444-4444-4444-4444', 444)  # 신용카드 객체\n",
    "point_obj = PointWallet(50000)                     # 포인트 지갑 객체(초기 잔액 5만)\n",
    "\n",
    "\n",
    "# --------- 호출부(동일한 인터페이스로 사용) ---------\n",
    "process_payment(card_obj, 1000)    # CreditCard.pay 호출\n",
    "process_payment(point_obj, 10000)  # PointWallet.pay 호출(잔액 차감)\n",
    "process_payment(point_obj, 50000)  # 잔액 부족 케이스"
   ]
  },
  {
   "cell_type": "markdown",
   "id": "7b82f710",
   "metadata": {},
   "source": [
    "## 업그레이드 미션"
   ]
  },
  {
   "cell_type": "code",
   "execution_count": null,
   "id": "c32a6908",
   "metadata": {},
   "outputs": [
    {
     "name": "stdout",
     "output_type": "stream",
     "text": [
      "역삼역 도어읽 로꾸거 역삼역 도어읽 로으앞 .다니입역삼역 ,역삼역 은역번이 \n"
     ]
    }
   ],
   "source": [
    "# 업그레이드미션 11\n",
    "\n",
    "# 떠올리기 업그레이드 미션1 -> 거꾸로 적어 내기 \n",
    "\n",
    "string = \" 이번역은 역삼역, 역삼역입니다. 앞으로 읽어도 역삼역 거꾸로 읽어도 역삼역\" \n",
    "\n",
    "print(string[::-1]) \n",
    "\n",
    "# -------------------------------------\n"
   ]
  },
  {
   "cell_type": "code",
   "execution_count": null,
   "id": "18f17e4a",
   "metadata": {},
   "outputs": [
    {
     "name": "stdout",
     "output_type": "stream",
     "text": [
      "과일가게에 오신 것을 환영합니다!\n",
      "오늘 판매하는 과일:  ['사과', '바나나', '오렌지', '포도', '수박']\n",
      "현재 재고:  [3, 3, 3, 3, 3]\n",
      "사과를(을) 구매하셨습니다! 남은 사과의 재고: 2\n",
      "현재 재고:  [2, 3, 3, 3, 3]\n",
      "오렌지를(을) 구매하셨습니다! 남은 오렌지의 재고: 2\n",
      "현재 재고:  [2, 3, 2, 3, 3]\n",
      "포도를(을) 구매하셨습니다! 남은 포도의 재고: 2\n",
      "현재 재고:  [2, 3, 2, 2, 3]\n",
      "사과를(을) 구매하셨습니다! 남은 사과의 재고: 1\n",
      "현재 재고:  [1, 3, 2, 2, 3]\n",
      "사과를(을) 구매하셨습니다! 남은 사과의 재고: 0\n",
      "현재 재고:  [0, 3, 2, 2, 3]\n",
      "죄송합니다. 사과는 재고가 없습니다! 다른 과일을 선택해주세요.\n",
      "현재 재고:  [0, 3, 2, 2, 3]\n",
      "감사합니다! 모든 과일이 다 팔렸습니다. 가게를 종료합니다.\n"
     ]
    }
   ],
   "source": [
    "# 업그레이드미션 12\n",
    "# 과일가게를 운영해 주세요 \n",
    "\n",
    "f = ['사과', '바나나', '오렌지', '포도', '수박'] \n",
    "c = [3, 3, 3, 3, 3]\n",
    "\n",
    "print(\"과일가게에 오신 것을 환영합니다!\")\n",
    "print(\"오늘 판매하는 과일: \", f)\n",
    "\n",
    "while sum(c) > 0:\n",
    "    print(\"현재 재고: \", c)\n",
    "    buy = str(input(\"어떤 과일을 구매하시겠습니까? (종료하려면 '그만'을 입력하세요): \"))\n",
    "    if buy == \"그만\":\n",
    "        break\n",
    "    else :\n",
    "        if buy in f:\n",
    "            idx = f.index(buy)\n",
    "            if c[idx] > 0:\n",
    "                c[idx] -= 1\n",
    "                print(f\"{buy}를(을) 구매하셨습니다! 남은 {buy}의 재고: {c[idx]}\")\n",
    "            else:\n",
    "                print(f\"죄송합니다. {buy}는 재고가 없습니다! 다른 과일을 선택해주세요.\")\n",
    "\n",
    "print(\"감사합니다! 모든 과일이 다 팔렸습니다. 가게를 종료합니다.\")"
   ]
  },
  {
   "cell_type": "code",
   "execution_count": 63,
   "id": "9b3f90c8",
   "metadata": {},
   "outputs": [
    {
     "name": "stdout",
     "output_type": "stream",
     "text": [
      "2\n"
     ]
    }
   ],
   "source": [
    "# 업그레이드미션 12-2\n",
    "'''\n",
    "지민이는 햄버거 가게에서 아르바이트를 합니다.  \n",
    "\n",
    "아래서부터, 빵 - 야채 - 고기 - 빵으로 쌓인 햄버거만 포장할수 있으면 재료는 순서대로 하나씩 들어와 쌓입니다.  \n",
    "\n",
    "재료의 순서가 [야채, 빵, 빵, 야채, 고기, 빵, 야채, 고기, 빵]일 때, \n",
    "지민이는 여섯 번째 재료가 쌓였을 때, 세 번째 재료부터 여섯 번째 재료를 이용하여 햄버거를 포장하고, \n",
    "아홉 번째 재료가 쌓였을 때, 두 번째 재료와 일곱 번째 재료부터 아홉 번째 재료를 이용하여 햄버거를 포장합니다.\n",
    "즉, 2개의 햄버거를 포장하게 됩니다. \n",
    "\n",
    "ingredient의 원소는 1, 2, 3 중 하나의 값이며, 순서대로 빵, 야채, 고기를 의미합니다. \n",
    "'''\n",
    "\n",
    "def count_burgers(ingredient):\n",
    "    pack = []\n",
    "    burgers = 0\n",
    "    for i in ingredient:\n",
    "        pack.append(i)\n",
    "        # 마지막 4개가 [1,2,3,1]이면 제거\n",
    "        if len(pack) >= 4 and pack[-4:] == [1, 2, 3, 1]:\n",
    "            del pack[-4:]\n",
    "            burgers += 1\n",
    "    return burgers\n",
    "\n",
    "print(count_burgers([2,1,1,2,3,1,2,3,1]))"
   ]
  },
  {
   "cell_type": "code",
   "execution_count": null,
   "id": "5833082a",
   "metadata": {},
   "outputs": [
    {
     "name": "stdout",
     "output_type": "stream",
     "text": [
      "['5', '4', '3', '2', '1']\n"
     ]
    }
   ],
   "source": [
    "# 업그레이드미션 12-3\n",
    "# 자연수 n을 뒤집어 각 자리 숫자를 원소로 가지는 리스트로 만들어주세요.  \n",
    "# 예를들어 n이 12345이면 [5,4,3,2,1]을 출력해주세요 \n",
    "\n",
    "n = str(input(\"자연수 n을 입력하세요: \"))\n",
    "\n",
    "numlist = list(n)\n",
    "result = sorted(numlist, reverse=True)\n",
    "print(result)"
   ]
  },
  {
   "cell_type": "code",
   "execution_count": 70,
   "id": "9415abd0",
   "metadata": {},
   "outputs": [
    {
     "name": "stdout",
     "output_type": "stream",
     "text": [
      "파이썬 용어 사전\n",
      "입력단어-> 'python' is: a high-level programming language\n",
      "입력단어-> 'apple' is: 사전에 찾는 단어가 없어요!\n",
      "입력단어-> 'loop' is: a sequence of instructions that are continually repeated\n",
      "종료!\n"
     ]
    }
   ],
   "source": [
    "# 업그레이드미션 13\n",
    "# 딕셔너리 업그레이드 미션\n",
    "\n",
    "print(\"파이썬 용어 사전\")\n",
    "\n",
    "dictionary = {\n",
    "    \"python\": \"a high-level programming language\", \n",
    "    \"apple\": \"사전에 찾는 단어가 없어요!\", \n",
    "    \"loop\": \"a sequence of instructions that are continually repeated\"\n",
    "    }\n",
    "\n",
    "while True:\n",
    "    word = input(\"입력단어 -> \")\n",
    "    if word == '종료':\n",
    "        print(\"종료!\")\n",
    "        break\n",
    "    if word in dictionary:\n",
    "        print(f\"입력단어-> '{word}' is: {dictionary[word]}\")\n"
   ]
  },
  {
   "cell_type": "code",
   "execution_count": 58,
   "id": "bdfb9ebb",
   "metadata": {},
   "outputs": [
    {
     "name": "stdout",
     "output_type": "stream",
     "text": [
      "hello"
     ]
    }
   ],
   "source": [
    "# 업그레이드미션 13-2\n",
    "# 모스부호\n",
    "\n",
    "morse = { \n",
    "\n",
    "    '.-':'a','-...':'b','-.-.':'c','-..':'d','.':'e','..-.':'f', \n",
    "\n",
    "    '--.':'g','....':'h','..':'i','.---':'j','-.-':'k','.-..':'l', \n",
    "\n",
    "    '--':'m','-.':'n','---':'o','.--.':'p','--.-':'q','.-.':'r', \n",
    "\n",
    "    '...':'s','-':'t','..-':'u','...-':'v','.--':'w','-..-':'x', \n",
    "\n",
    "    '-.--':'y','--..':'z' \n",
    "\n",
    "} \n",
    "\n",
    "letter = \".... . .-.. .-.. ---\"\n",
    "result = letter.split()\n",
    "\n",
    "for i in result:\n",
    "    print(morse[i], end=\"\")\n",
    "\n"
   ]
  },
  {
   "cell_type": "code",
   "execution_count": 74,
   "id": "51e57bb9",
   "metadata": {},
   "outputs": [
    {
     "name": "stdout",
     "output_type": "stream",
     "text": [
      "Alice학생의 평균 성적: 89.0\n",
      "Bob학생의 평균 성적: 82.0\n",
      "Charlie학생의 평균 성적: 92.0\n",
      "전체 학생들의 평균 성적: 87.66666666666667\n",
      "90점 이상인 학생 명단: ['Charlie']\n"
     ]
    }
   ],
   "source": [
    "# 업그레이드미션 14\n",
    "\"\"\" 세 명의 학생과 각 학생의 성적을 리스트와 딕셔너리로 표현합니다.\n",
    "각 학생의 평균 성적을 계산하여 출력합니다.\n",
    "전체 학생들의 평균 성적을 출력합니다.\n",
    "또한, 성적이 90 이상인 학생들을 찾아서 출력합니다.\n",
    "\"\"\"\n",
    "\n",
    "a = {'이름':'Alice', '성적': (90,85,92)}\n",
    "b = {'이름':'Bob', '성적': (78,80,88)}\n",
    "c = {'이름':'Charlie', '성적': (95,92,89)}\n",
    "\n",
    "\n",
    "def avg(student):\n",
    "    sum = 0\n",
    "    grade = list(student['성적'])\n",
    "    for i in grade:\n",
    "        sum += i\n",
    "        average = sum/3\n",
    "    return average\n",
    "\n",
    "print(f\"{a['이름']}학생의 평균 성적: {avg(a)}\")\n",
    "print(f\"{b['이름']}학생의 평균 성적: {avg(b)}\")\n",
    "print(f\"{c['이름']}학생의 평균 성적: {avg(c)}\")\n",
    "\n",
    "print(f\"전체 학생들의 평균 성적: {(avg(a)+avg(b)+avg(c))/3}\")\n",
    "\n",
    "d=[]\n",
    "if avg(a) >= 90:\n",
    "    d.append(a['이름'])\n",
    "if avg(b) >= 90:\n",
    "    d.append(b['이름'])\n",
    "if avg(c) >= 90:\n",
    "    d.append(c['이름'])\n",
    "\n",
    "print(f\"90점 이상인 학생 명단: {d}\")\n",
    "\n"
   ]
  },
  {
   "cell_type": "code",
   "execution_count": 2,
   "id": "7d4b061f",
   "metadata": {},
   "outputs": [
    {
     "name": "stdout",
     "output_type": "stream",
     "text": [
      "Alice 학생의 평균 성적: 89.0\n",
      "Bob 학생의 평균 성적: 82.0\n",
      "Charlie 학생의 평균 성적: 92.0\n",
      "전체 학생들의 평균 성적: 87.66666666666667\n",
      "평균이 90 이상인 학생: ['Charlie']\n"
     ]
    }
   ],
   "source": [
    "a = {'이름':'Alice', '성적': (90,85,92)}\n",
    "b = {'이름':'Bob', '성적': (78,80,88)}\n",
    "c = {'이름':'Charlie', '성적': (95,92,89)}\n",
    "students = [a, b, c]\n",
    "\n",
    "def avg(student):\n",
    "    scores = student['성적']\n",
    "    return sum(scores)/len(scores)\n",
    "\n",
    "for s in students:\n",
    "    print(f\"{s['이름']} 학생의 평균 성적: {avg(s)}\")\n",
    "\n",
    "overall = sum(avg(s) for s in students)/len(students)\n",
    "print(f\"전체 학생들의 평균 성적: {overall}\")\n",
    "\n",
    "over90 = [s['이름'] for s in students if avg(s) >= 90]\n",
    "print(f\"평균이 90 이상인 학생: {over90}\")"
   ]
  },
  {
   "cell_type": "code",
   "execution_count": null,
   "id": "6b7a6216",
   "metadata": {},
   "outputs": [
    {
     "name": "stdout",
     "output_type": "stream",
     "text": [
      "Alice 평균: 89.0\n",
      "Bob 평균: 82.0\n",
      "Charlie 평균: 92.0\n",
      "전체 평균: 87.66666666666667\n",
      "90점 이상인 학생 명단: ['Charlie']\n"
     ]
    }
   ],
   "source": [
    "#답안\n",
    "\n",
    "scores = {\n",
    "    'Alice' : [90, 85,92],\n",
    "    'Bob' : [78, 80, 88],\n",
    "    'Charlie' : [95, 92, 89]\n",
    "}\n",
    "\n",
    "students_avgs = {}\n",
    "for name, grades in scores.items():\n",
    "    avg = sum(grades)/len(grades)\n",
    "    students_avgs[name] = avg\n",
    "    print(f\"{name} 평균: {avg:.1f}\")\n",
    "\n",
    "total = sum(students_avgs.values())/len(students_avgs)\n",
    "print(f\"전체 평균: {total}\")\n",
    "\n",
    "over90 = [name for name, avg in students_avgs.items() if avg >= 90]\n",
    "print(f\"90점 이상인 학생 명단: {over90}\")"
   ]
  },
  {
   "cell_type": "code",
   "execution_count": null,
   "id": "ce9225fd",
   "metadata": {},
   "outputs": [
    {
     "name": "stdout",
     "output_type": "stream",
     "text": [
      "> 메뉴 선택(1:추가, 2:삭제, 0:종료)? 1\n",
      "*할 일 내용 입력 >>  영어 과제\n",
      "********************************\n",
      "1. 영어 과제\n",
      "********************************\n",
      "> 메뉴 선택(1:추가, 2:삭제, 0:종료)? 1\n",
      "*할 일 내용 입력 >>  강아지 산책\n",
      "********************************\n",
      "1. 영어 과제\n",
      "2. 강아지 산책\n",
      "********************************\n",
      "> 메뉴 선택(1:추가, 2:삭제, 0:종료)? 2\n",
      "*완료한 일 내용 입력 >>  강아지 산책\n",
      "********************************\n",
      "1. 영어 과제\n",
      "********************************\n",
      "> 메뉴 선택(1:추가, 2:삭제, 0:종료)? 5\n",
      "메뉴 선택 오류입니다. 다시 선택하세요.\n",
      "> 메뉴 선택(1:추가, 2:삭제, 0:종료)? 0\n",
      "프로그램을 종료합니다.\n"
     ]
    }
   ],
   "source": [
    "# 업그레이드미션 14-2 (문제1)\n",
    "# \"오늘의 할 일\"을 관리하는 프로그램을 만들어보세요\n",
    "\"\"\" 메뉴 선택칸 만들기\n",
    "    1 누르면 추가하는 내용입력칸 만들기\n",
    "        입력 순서대로 숫자가 앞에 붙어야함\n",
    "    2 누르면 삭제하는 내용입력칸 만들기\n",
    "    0 누르면 프로그램 종료\n",
    "입력한 문자열 리스트에 추가 \"\"\"\n",
    "\n",
    "todo = []\n",
    "i = 0\n",
    "\n",
    "while True:\n",
    "    menu = int(input(\"> 메뉴 선택(1:추가, 2:삭제, 0:종료)?\"))\n",
    "    print(\"> 메뉴 선택(1:추가, 2:삭제, 0:종료)?\", menu)\n",
    "    \n",
    "    if menu == 1:\n",
    "        content = str(input(\"*할 일 내용 입력 >> \"))\n",
    "        print(\"*할 일 내용 입력 >> \", content)\n",
    "        print(\"********************************\")\n",
    "        todo.append(content)\n",
    "        for idx, item in enumerate(todo, start=1):\n",
    "            print(f\"{idx}. {item}\")\n",
    "        print(\"********************************\")\n",
    "        continue\n",
    "\n",
    "    elif menu == 2:\n",
    "        content = str(input(\"*완료한 일 내용 입력 >> \"))\n",
    "        print(\"*완료한 일 내용 입력 >> \", content)\n",
    "        print(\"********************************\")\n",
    "        todo.remove(content)\n",
    "        for idx, item in enumerate(todo, start=1):\n",
    "            print(f\"{idx}. {item}\")\n",
    "        print(\"********************************\")\n",
    "        continue\n",
    "    \n",
    "    elif menu == 0:\n",
    "        print(\"프로그램을 종료합니다.\")\n",
    "        break\n",
    "    else :\n",
    "        print(\"메뉴 선택 오류입니다. 다시 선택하세요.\")\n",
    "        continue\n",
    "\n",
    "\n"
   ]
  },
  {
   "cell_type": "code",
   "execution_count": 20,
   "id": "e6a9836b",
   "metadata": {},
   "outputs": [
    {
     "name": "stdout",
     "output_type": "stream",
     "text": [
      "> 메뉴 선택(1: 추가, 2: 검색, 0: 종료)? 1\n",
      "친구 이름 입력>>  홍길동\n",
      "전화번호 입력>>  010-1234-0000\n",
      "> 메뉴 선택(1: 추가, 2: 검색, 0: 종료)? 2\n",
      "검색 가능한 친구들: ['최재원', '유재석', '김연수', '김우정', '김가현', '김헤현', '홍길동']\n",
      "친구 이름 입력>>  유재석\n",
      "유재석의 연락처: 010-2222-2222\n",
      "> 메뉴 선택(1: 추가, 2: 검색, 0: 종료)? 5\n",
      "메뉴 선택 오류입니다. 다시 선택하세요.\n",
      "> 메뉴 선택(1: 추가, 2: 검색, 0: 종료)? 0\n",
      "프로그램을 종료합니다!\n"
     ]
    }
   ],
   "source": [
    "# 업그레이드미션 14-2 (문제2)\n",
    "# \"전화번호 검색 프로그램\"을 다음과 같이 만들어보세요.\n",
    "\n",
    "\"\"\" 추가: 딕셔너리에 친구이름, 친구 전화번호 추가\n",
    "검색: 친구이름 입력하면 전화번호 검색\n",
    "0 입력하면 프로그램 종료 \"\"\"\n",
    "\n",
    "num_dict = {\n",
    "    '최재원':'010-1111-1111',\n",
    "    '유재석':'010-2222-2222',\n",
    "    '김연수':'010-3333-3333',\n",
    "    '김우정':'010-4444-4444',\n",
    "    '김가현':'010-5555-5555',\n",
    "    '김헤현':'010-6666-6666'\n",
    "}\n",
    "\n",
    "while True:\n",
    "    menu = int(input(\"> 메뉴 선택(1: 추가, 2: 검색, 0: 종료)? \"))\n",
    "    print(f\"> 메뉴 선택(1: 추가, 2: 검색, 0: 종료)? {menu}\")\n",
    "\n",
    "    if menu == 1:\n",
    "        name = str(input(\"친구 이름 입력>> \"))\n",
    "        number = str(input(\"전화번호 입력>> \"))\n",
    "        print(\"친구 이름 입력>> \", name)\n",
    "        print(\"전화번호 입력>> \", number)\n",
    "        num_dict[name] = number\n",
    "        continue\n",
    "    elif menu == 2:\n",
    "        print(f\"검색 가능한 친구들: {list(num_dict.keys())}\")\n",
    "        friend = str(input(\"친구 이름 입력>> \"))\n",
    "        print(\"친구 이름 입력>> \", friend)\n",
    "        print(f\"{friend}의 연락처: {num_dict[friend]}\")\n",
    "        continue\n",
    "    elif menu == 0:\n",
    "        print(\"프로그램을 종료합니다!\")\n",
    "        break\n",
    "    else :\n",
    "        print(\"메뉴 선택 오류입니다. 다시 선택하세요.\")\n",
    "        continue\n"
   ]
  },
  {
   "cell_type": "code",
   "execution_count": 24,
   "id": "ac4de6c2",
   "metadata": {},
   "outputs": [
    {
     "data": {
      "text/plain": [
       "24"
      ]
     },
     "execution_count": 24,
     "metadata": {},
     "output_type": "execute_result"
    }
   ],
   "source": [
    "# 업그레이드미션 15\n",
    "# 숫자들의 배열을 입력하면 가장 작은 값을 구하는 함수\n",
    "\n",
    "testArray = [52, 273, 32, 103, 275, 24, 57]\n",
    "\n",
    "def num_min(arr):\n",
    "    return min(arr)\n",
    "\n",
    "num_min(testArray)"
   ]
  },
  {
   "cell_type": "code",
   "execution_count": null,
   "id": "93410f08",
   "metadata": {},
   "outputs": [
    {
     "data": {
      "text/plain": [
       "[2, 10, 12]"
      ]
     },
     "execution_count": 33,
     "metadata": {},
     "output_type": "execute_result"
    }
   ],
   "source": [
    "# 업그레이드미션 16\n",
    "# 하나의 리스트를 입력 받아 짝수만 화면에 출력하는 print_even 함수\n",
    "num_list = [1, 3, 2, 10, 12, 11, 15] \n",
    "\n",
    "def print_even(list):\n",
    "    result =  [i for i in list if i%2==0]\n",
    "    return result\n",
    "\n",
    "print_even(num_list)\n",
    "    "
   ]
  },
  {
   "cell_type": "code",
   "execution_count": null,
   "id": "822ba5af",
   "metadata": {},
   "outputs": [
    {
     "name": "stdout",
     "output_type": "stream",
     "text": [
      "1 2\n"
     ]
    }
   ],
   "source": [
    "# 업그레이드미션 16-2\n",
    "# 정수 3개를 한번에 입력 받아 합계를 인쇄하는 코드를 설계해주세요\n",
    "\n"
   ]
  },
  {
   "cell_type": "code",
   "execution_count": null,
   "id": "55f59065",
   "metadata": {},
   "outputs": [],
   "source": [
    "# 업그레이드미션 16-3\n",
    "\"\"\" \n",
    "윤년을 확인하는 함수 만들기\n",
    "4로 나누어 떨어지는 해는 윤년이 아님\n",
    "but 100으로 나누어 떨어지는 해는 윤년이 아님\n",
    "but 400으로 나누어 떨어지는 해는 윤년 \n",
    "\"\"\"\n"
   ]
  },
  {
   "cell_type": "code",
   "execution_count": null,
   "id": "4222cb03",
   "metadata": {},
   "outputs": [],
   "source": [
    "# 업그레이드미션 16-4\n",
    "# 두 수를 받아 합, 차, 곱, 몫을 리턴하는 함수를 만들어주세요"
   ]
  },
  {
   "cell_type": "code",
   "execution_count": null,
   "id": "9d590458",
   "metadata": {},
   "outputs": [],
   "source": [
    "# 업그레이드미션 17\n",
    "# 컴퓨터와 대결하는 가위, 바위, 보 게임 만들기\n"
   ]
  },
  {
   "cell_type": "code",
   "execution_count": null,
   "id": "a65bcf59",
   "metadata": {},
   "outputs": [],
   "source": [
    "# 업그레이드미션 18\n",
    "\"\"\" \n",
    "등수 구하기\n",
    "영어 점수와 수학 점수의 평균 점수를 기준으로 학생들의 등수를 매기려고 합니다. \n",
    "영어 점수와 수학 점수를 담은 2차원 리스트 score가 주어질 때, \n",
    "영어 점수와 수학 점수의 평균을 기준으로 매긴 등수를 담은 리스트를 return하도록 함수를 만들어주세요  \n",
    "\"\"\""
   ]
  },
  {
   "cell_type": "code",
   "execution_count": null,
   "id": "033981fe",
   "metadata": {},
   "outputs": [],
   "source": [
    "# 업그레이드미션 19\n",
    "\"\"\" \n",
    "애너그램(Anagram) 이란 주어진 단어를 이루는 문자의 위치를 뒤바꾸어 새로운 단어를 만드는 것을 말합니다. \n",
    "애너그램을 이용해 암호화, 복호화를 하려고합니다. \n",
    "\n",
    "암, 복호화할 단어와 애너그램 테이블이 주어집니다. \n",
    "애너그램 테이블은 단어를 암호화한 후의 문자들의 위치가 저장되어 있습니다. \n",
    "\n",
    "예를들어 문자열 \"Hello\"를 암호화  할 때, 애너그램 테이블이 [4, 2, 0, 1, 3]이면, \n",
    "문자열의 0번째 값인 'H'는 애너그램 테이블의 0번째 값에 해당하는 4에 의해 4번째로 이동하고 \n",
    "같은 방식으로 'e'는 2번째로, 'l'은 0번째로, 'l'은 1번째로, 'o'는 3번째로 이동하여 \"lleoH\"가 됩니다. \n",
    "\n",
    "위의 방법으로 만들어진 애너그램 암호문을 복호화하려면 애너그램 테이블의 인덱스와 값의 반대 방향으로 문자열의 순서를 바꿔주면 됩니다. \n",
    "\n",
    "예를들어 암호화된 문자열이 \"lleoH\"이고 애너그램 테이블이 [4, 2, 0, 1, 3]이면, \n",
    "애너그램 테이블의 0번째 값인 4에 해당하는 문자인 'H'는 해당 인덱스인 0번째로 이동하고 \n",
    "같은 방식으로 'e'는 1번째로, 'l'은 2번째로, 'l'은 3번째로, 'o'는 4번째로 이동하여 \"Hello\"가 됩니다. \n",
    "\n",
    "암호화할 문자열 text와 애너그램 테이블 anagram, 암호화를 할지 복호화를 할지가 저장된 변수 sw가 주어질 때 \n",
    "암호화 또는 복호화된 문자열을 return하도록 solution함수를 작성해주세요  \n",
    "\"\"\""
   ]
  }
 ],
 "metadata": {
  "kernelspec": {
   "display_name": "Python 3",
   "language": "python",
   "name": "python3"
  },
  "language_info": {
   "codemirror_mode": {
    "name": "ipython",
    "version": 3
   },
   "file_extension": ".py",
   "mimetype": "text/x-python",
   "name": "python",
   "nbconvert_exporter": "python",
   "pygments_lexer": "ipython3",
   "version": "3.10.11"
  }
 },
 "nbformat": 4,
 "nbformat_minor": 5
}
