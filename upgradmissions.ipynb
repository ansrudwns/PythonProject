{
 "cells": [
  {
   "cell_type": "code",
   "execution_count": 1,
   "id": "f6bdc1f1",
   "metadata": {},
   "outputs": [
    {
     "name": "stdout",
     "output_type": "stream",
     "text": [
      "절사 결과는 12345600원 입니다.\n"
     ]
    }
   ],
   "source": [
    "# 업그레이드미션 1 \n",
    "\n",
    "pay = 12345678\t  # 12345678원 \n",
    "\n",
    "# TODO: 100 미만 절사 처리해주세요\n",
    "\n",
    "# -------------------------------------\n",
    "\n",
    "result = pay//100 * 100 \n",
    "\n",
    "# pay//100 = pay를 100으로 나눈 몫 (100 미만은 나머지로 떨어짐)\n",
    "\n",
    "print(f\"절사 결과는 {result}원 입니다.\")"
   ]
  },
  {
   "cell_type": "code",
   "execution_count": 2,
   "id": "7197e429",
   "metadata": {},
   "outputs": [
    {
     "name": "stdout",
     "output_type": "stream",
     "text": [
      "c = 4\n"
     ]
    }
   ],
   "source": [
    "# 업그레이드미션 2  \n",
    "\n",
    "# Todo: 변수 a에 저장된 값의 b자리 값을 계산하여 변수 c에 저장하는 코드를 설계하라  \n",
    "\n",
    "# 예를 들어 a에 1234가 저장되어 있고 b가 1일 경우 첫 번째 자리값인 4가 c에 저장된다.  \n",
    "\n",
    "# a가 1234일때 b가 4일 경우는 4번째 자리값인 1이 c에 저장되어야 한다.  \n",
    "\n",
    "a = 1234 \n",
    "b = 1\n",
    "\n",
    "# -------------------------------------\n",
    "\n",
    "c = (a%(10**b)-a%(10**(b-1)))/(10**(b-1))\n",
    "\n",
    "print(f\"c = {int(c)}\")"
   ]
  },
  {
   "cell_type": "code",
   "execution_count": 4,
   "id": "b7895ad4",
   "metadata": {},
   "outputs": [
    {
     "name": "stdout",
     "output_type": "stream",
     "text": [
      "밑변의 길이:  3\n",
      "높이:  4\n",
      "삼각형의 넓이는 6.0입니다.\n"
     ]
    }
   ],
   "source": [
    "# 업그레이드미션 3 \n",
    "\n",
    "# 삼각형의 넓이 구하기 \n",
    "\n",
    "# 사용자에게 삼각형의 밑변과 높이를 입력 받아  \n",
    "\n",
    "# 삼각형의 넓이를 출력하는 코드를 작성하세요. \n",
    "\n",
    "# -------------------------------------\n",
    "\n",
    "a = int(input(\"밑변의 길이를 입력하세요: \"))\n",
    "b = int(input(\"높이를 입력하세요: \"))\n",
    "\n",
    "result = a*b/2\n",
    "\n",
    "print(\"밑변의 길이: \", a)\n",
    "print(\"높이: \", b)\n",
    "print(f\"삼각형의 넓이는 {result}입니다.\")"
   ]
  },
  {
   "cell_type": "code",
   "execution_count": 5,
   "id": "0fcb3952",
   "metadata": {},
   "outputs": [
    {
     "name": "stdout",
     "output_type": "stream",
     "text": [
      "바둑돌의 개수는 55개 입니다.\n"
     ]
    }
   ],
   "source": [
    "# 업그레이드미션 4 \n",
    "\n",
    "# 다음 그림과 같이 바둑돌의 개수를 늘려가며 삼각형 모양을 만들려고 합니다. \n",
    "# n이 입력으로 주어질 때, n단계에서 사용된 바둑돌의 개수를 출력하는 코드를 작성하세요.\n",
    "# (1-2-3-4 순서로 밑부분에 +1씩 추가되는 그림)\n",
    "\n",
    "# -------------------------------------\n",
    "\n",
    "n = int(input(\"n값을 입력하세요: \"))\n",
    "i = 0\n",
    "k = 0\n",
    "\n",
    "for i in range(1,n+1):\n",
    "    k += i\n",
    "print(f\"바둑돌의 개수는 {k}개 입니다.\")"
   ]
  },
  {
   "cell_type": "code",
   "execution_count": 6,
   "id": "23e3638e",
   "metadata": {},
   "outputs": [
    {
     "name": "stdout",
     "output_type": "stream",
     "text": [
      "12\n",
      "444"
     ]
    }
   ],
   "source": [
    "# 업그레이드미션 5\n",
    "\n",
    "# 정수 num1, num2가 입력으로 주어질 때, 첫 번째 줄에는 num1과 num2를 곱한 수를, \n",
    "# 두 번째 줄에는 num1을 num2번 반복하여 출력하도록 코드를 작성해주세요\n",
    "\n",
    "# -------------------------------------\n",
    "\n",
    "num1 = int(input(\"num1을 입력하세요: \"))\n",
    "num2 = int(input(\"num2를 입력하세요: \"))\n",
    "\n",
    "result1 = num1*num2\n",
    "\n",
    "print(result1)\n",
    "\n",
    "for i in range(num2, 0, -1):\n",
    "    print(num1, end=\"\")"
   ]
  },
  {
   "cell_type": "code",
   "execution_count": 7,
   "id": "cb524953",
   "metadata": {},
   "outputs": [
    {
     "name": "stdout",
     "output_type": "stream",
     "text": [
      "짝수\n"
     ]
    }
   ],
   "source": [
    "# 업그레이드미션 6\n",
    "# number가 짝수라면 \"짝수\"를, number가 홀수라면 \"홀수\"를 출력하도록 조건문을 작성해주세요. \n",
    "\n",
    "# -------------------------------------\n",
    "\n",
    "num = int(input(\"number를 입력하세요: \"))\n",
    "\n",
    "if num%2==0:\n",
    "    print(\"짝수\")\n",
    "else :\n",
    "    print(\"홀수\")\n",
    " "
   ]
  },
  {
   "cell_type": "code",
   "execution_count": 9,
   "id": "fb555fd1",
   "metadata": {},
   "outputs": [
    {
     "name": "stdout",
     "output_type": "stream",
     "text": [
      "A\n"
     ]
    }
   ],
   "source": [
    "# 업그레이드미션 7\n",
    "# 입력된 학생의 점수 score에 따라 성적을 A, B, C, D, F로 구분하여 출력하는 코드를 작성해주세요 \n",
    "\n",
    "# -------------------------------------\n",
    "\n",
    "score = int(input(\"점수를 입력하세요: \"))\n",
    "\n",
    "if score >= 90:\n",
    "    print(\"A\")\n",
    "elif score >=80:\n",
    "    print(\"B\")\n",
    "elif score >=70:\n",
    "    print(\"C\")\n",
    "elif score >=60:\n",
    "    print(\"D\")\n",
    "else :\n",
    "    print(\"F\")"
   ]
  },
  {
   "cell_type": "code",
   "execution_count": 10,
   "id": "26379075",
   "metadata": {},
   "outputs": [
    {
     "name": "stdout",
     "output_type": "stream",
     "text": [
      "지민이의 닉네임: jimin\n",
      "적의 닉네임: enemy\n",
      "남은 마나: 50\n",
      "적의 체력: 100\n",
      "jimin kill enemy\n"
     ]
    }
   ],
   "source": [
    "# 업그레이드미션 8-1\n",
    "'''\n",
    "지민이는 온라인 게임을 하던 도중 갑작스럽게 적을 만났습니다. \n",
    "지민이의 캐릭터는 마나를 소모하며 공격하는 캐릭터이고 한 번 공격 시 마나 10을 소모하며 대미지는 20입니다. \n",
    "지민이의 닉네임 my_nic과 적의 닉네임 enemy_nic이 문자열로 주어지고, 지민이의 마나량 mana, 적의 체력 hp가 정수로 주어질 때 \n",
    "지민이가 남은 마나로 적을 쓰러뜨릴 수 있다면 \"my_nic kill enemy_nic\"을,\n",
    "쓰러뜨릴 수 없다면 \"enemy_nic kill my_nic\"을 출력하도록 코드를 작성해보세요. \n",
    "\n",
    "제한사항 \n",
    "지민이의 캐릭터는 마나가 10보다 적으면 공격할 수 없습니다.  \n",
    "\n",
    "1 ≤ my_nic의 길이, enemy_nic의 길이 ≤ 10 \n",
    "1 ≤ mana, hp ≤ 1,000 \n",
    "'''\n",
    "# -------------------------------------\n",
    "while True:\n",
    "    a = str(input(\"지민이의 닉네임을 입력하세요: \"))\n",
    "    if len(a) > 10 or len(a) < 1:\n",
    "        print(\"닉네임의 길이는 한자리부터 열자리까지 가능합니다.\")\n",
    "        continue\n",
    "    else:\n",
    "        break\n",
    "\n",
    "while True:\n",
    "    b = str(input(\"적의 닉네임을 입력하세요: \"))\n",
    "    if len(a) > 10 or len(a) < 1:\n",
    "        print(\"닉네임의 길이는 한자리부터 열자리까지 가능합니다.\")\n",
    "        continue\n",
    "    else:\n",
    "        break\n",
    "\n",
    "while True:\n",
    "    c = int(input(\"지민이의 남은 마나를 입력하세요: \"))\n",
    "    if c < 10:\n",
    "        print(\"남은 마나가 10 미만이면 공격할 수 없습니다.\")\n",
    "        print(\"다시 입력해주세요.\")\n",
    "        continue\n",
    "    elif c > 1000:\n",
    "        print(\"남은 마나가 1000을 초과할 수 없습니다.\")\n",
    "        print(\"다시 입력해주세요.\")\n",
    "        continue\n",
    "    else :\n",
    "        break\n",
    "\n",
    "while True:\n",
    "    d = int(input(\"적의 체력을 입력하세요: \"))\n",
    "    if d > 1000:\n",
    "        print(\"남은 체력이 1000을 초과할 수 없습니다.\")\n",
    "        print(\"다시 입력해주세요.\")\n",
    "        continue\n",
    "    elif d < 1:\n",
    "        print(\"남은 체력이 1 미만일 수 없습니다.\")\n",
    "        print(\"다시 입력해주세요.\")\n",
    "        continue\n",
    "    else :\n",
    "        break\n",
    "\n",
    "print(f\"지민이의 닉네임: {a}\")\n",
    "print(f\"적의 닉네임: {b}\")\n",
    "print(f\"남은 마나: {c}\")\n",
    "print(f\"적의 체력: {d}\")\n",
    "\n",
    "\n",
    "if 2*c >= d:\n",
    "    print(f\"{a} kill {b}\")\n",
    "else :\n",
    "    print(f\"{b} kill {a}\")"
   ]
  },
  {
   "cell_type": "code",
   "execution_count": 11,
   "id": "3d35d635",
   "metadata": {},
   "outputs": [
    {
     "name": "stdout",
     "output_type": "stream",
     "text": [
      "12짝45짝78짝101112짝1415짝1718짝20"
     ]
    }
   ],
   "source": [
    "# 업그레이드미션 8-2\n",
    "\n",
    "#3, 6, 9로 끝나는 숫자에 '짝'을 출력하는 369게임을 작성하세요.\n",
    "\n",
    "# -------------------------------------\n",
    "\n",
    "num = int(input(\"1부터 얼마까지 진행할까요?: \"))\n",
    "i = 0\n",
    "\n",
    "for i in range(1, num+1):\n",
    "    if i%10 == 3 or i%10 == 6 or i%10 == 9:\n",
    "        print(\"짝\", end=\"\")\n",
    "    else :\n",
    "        print(i, end=\"\")"
   ]
  },
  {
   "cell_type": "code",
   "execution_count": 12,
   "id": "2fed1520",
   "metadata": {},
   "outputs": [
    {
     "name": "stdout",
     "output_type": "stream",
     "text": [
      "2x1=2\t3x1=3\t4x1=4\t5x1=5\t6x1=6\t7x1=7\t8x1=8\t9x1=9\t\n",
      "2x2=4\t3x2=6\t4x2=8\t5x2=10\t6x2=12\t7x2=14\t8x2=16\t9x2=18\t\n",
      "2x3=6\t3x3=9\t4x3=12\t5x3=15\t6x3=18\t7x3=21\t8x3=24\t9x3=27\t\n",
      "2x4=8\t3x4=12\t4x4=16\t5x4=20\t6x4=24\t7x4=28\t8x4=32\t9x4=36\t\n",
      "2x5=10\t3x5=15\t4x5=20\t5x5=25\t6x5=30\t7x5=35\t8x5=40\t9x5=45\t\n",
      "2x6=12\t3x6=18\t4x6=24\t5x6=30\t6x6=36\t7x6=42\t8x6=48\t9x6=54\t\n",
      "2x7=14\t3x7=21\t4x7=28\t5x7=35\t6x7=42\t7x7=49\t8x7=56\t9x7=63\t\n",
      "2x8=16\t3x8=24\t4x8=32\t5x8=40\t6x8=48\t7x8=56\t8x8=64\t9x8=72\t\n",
      "2x9=18\t3x9=27\t4x9=36\t5x9=45\t6x9=54\t7x9=63\t8x9=72\t9x9=81\t\n"
     ]
    }
   ],
   "source": [
    "# 업그레이드미션 9\n",
    "\n",
    "# 구구단 전체 (2단부터 9단까지) 출력\n",
    "\n",
    "# -------------------------------------\n",
    "\n",
    "i=0\n",
    "k=0\n",
    "\n",
    "for i in range(1,10):\n",
    "    for k in range(2,10):  \n",
    "        print(f\"{k}x{i}={k*i}\", end=\"\\t\")\n",
    "    print()\n"
   ]
  },
  {
   "cell_type": "code",
   "execution_count": 13,
   "id": "1236237c",
   "metadata": {},
   "outputs": [
    {
     "name": "stdout",
     "output_type": "stream",
     "text": [
      "***\n",
      "***\n",
      "***\n",
      "***\n"
     ]
    }
   ],
   "source": [
    "# 업그레이드미션 10\n",
    "\n",
    "# *을 가로로 a개, 세로로 b개 사용하여 직사각형을 만들려고 합니다. \n",
    "# 정수 a, b가 매개변수로 주어질 때, axb 직사각형을 출력하도록 코드를 작성\n",
    "\n",
    "# -------------------------------------\n",
    "\n",
    "a = int(input(\"a값을 입력하세요: \"))\n",
    "b = int(input(\"b값을 입력하세요: \"))\n",
    "i = 0\n",
    "k = 0\n",
    "\n",
    "for i in range(1,b+1):\n",
    "        print(\"*\"*a)"
   ]
  },
  {
   "cell_type": "code",
   "execution_count": 14,
   "id": "1c5af6a2",
   "metadata": {},
   "outputs": [
    {
     "name": "stdout",
     "output_type": "stream",
     "text": [
      "역삼역 도어읽 로꾸거 역삼역 도어읽 로으앞 .다니입역삼역 ,역삼역 은역번이 \n"
     ]
    }
   ],
   "source": [
    "# 업그레이드미션 11\n",
    "\n",
    "# 떠올리기 업그레이드 미션1 -> 거꾸로 적어 내기 \n",
    "\n",
    "string = \" 이번역은 역삼역, 역삼역입니다. 앞으로 읽어도 역삼역 거꾸로 읽어도 역삼역\" \n",
    "\n",
    "print(string[::-1]) \n",
    "\n",
    "# -------------------------------------\n"
   ]
  },
  {
   "cell_type": "code",
   "execution_count": 15,
   "id": "4d75bf32",
   "metadata": {},
   "outputs": [
    {
     "name": "stdout",
     "output_type": "stream",
     "text": [
      "과일가게에 오신 것을 환영합니다!\n",
      "오늘 판매하는 과일:  ['사과', '바나나', '오렌지', '포도', '수박']\n",
      "현재 재고:  [3, 3, 3, 3, 3]\n",
      "사과를(을) 구매하셨습니다! 남은 사과의 재고: 2\n",
      "현재 재고:  [2, 3, 3, 3, 3]\n",
      "오렌지를(을) 구매하셨습니다! 남은 오렌지의 재고: 2\n",
      "현재 재고:  [2, 3, 2, 3, 3]\n",
      "포도를(을) 구매하셨습니다! 남은 포도의 재고: 2\n",
      "현재 재고:  [2, 3, 2, 2, 3]\n",
      "사과를(을) 구매하셨습니다! 남은 사과의 재고: 1\n",
      "현재 재고:  [1, 3, 2, 2, 3]\n",
      "사과를(을) 구매하셨습니다! 남은 사과의 재고: 0\n",
      "현재 재고:  [0, 3, 2, 2, 3]\n",
      "감사합니다! 모든 과일이 다 팔렸습니다. 가게를 종료합니다.\n"
     ]
    }
   ],
   "source": [
    "# 업그레이드미션 12\n",
    "# 과일가게를 운영해 주세요 \n",
    "\n",
    "f = ['사과', '바나나', '오렌지', '포도', '수박'] \n",
    "c = [3, 3, 3, 3, 3]\n",
    "\n",
    "print(\"과일가게에 오신 것을 환영합니다!\")\n",
    "print(\"오늘 판매하는 과일: \", f)\n",
    "\n",
    "while sum(c) > 0:\n",
    "    print(\"현재 재고: \", c)\n",
    "    buy = str(input(\"어떤 과일을 구매하시겠습니까? (종료하려면 '그만'을 입력하세요): \"))\n",
    "    if buy == \"그만\":\n",
    "        break\n",
    "    else :\n",
    "        if buy in f:\n",
    "            idx = f.index(buy)\n",
    "            if c[idx] > 0:\n",
    "                c[idx] -= 1\n",
    "                print(f\"{buy}를(을) 구매하셨습니다! 남은 {buy}의 재고: {c[idx]}\")\n",
    "            else:\n",
    "                print(f\"죄송합니다. {buy}는 재고가 없습니다! 다른 과일을 선택해주세요.\")\n",
    "\n",
    "print(\"감사합니다! 모든 과일이 다 팔렸습니다. 가게를 종료합니다.\")"
   ]
  },
  {
   "cell_type": "code",
   "execution_count": 16,
   "id": "3e0fb3e5",
   "metadata": {},
   "outputs": [
    {
     "name": "stdout",
     "output_type": "stream",
     "text": [
      "2\n"
     ]
    }
   ],
   "source": [
    "# 업그레이드미션 12-2\n",
    "'''\n",
    "지민이는 햄버거 가게에서 아르바이트를 합니다.  \n",
    "\n",
    "아래서부터, 빵 - 야채 - 고기 - 빵으로 쌓인 햄버거만 포장할수 있으면 재료는 순서대로 하나씩 들어와 쌓입니다.  \n",
    "\n",
    "재료의 순서가 [야채, 빵, 빵, 야채, 고기, 빵, 야채, 고기, 빵]일 때, \n",
    "지민이는 여섯 번째 재료가 쌓였을 때, 세 번째 재료부터 여섯 번째 재료를 이용하여 햄버거를 포장하고, \n",
    "아홉 번째 재료가 쌓였을 때, 두 번째 재료와 일곱 번째 재료부터 아홉 번째 재료를 이용하여 햄버거를 포장합니다.\n",
    "즉, 2개의 햄버거를 포장하게 됩니다. \n",
    "\n",
    "ingredient의 원소는 1, 2, 3 중 하나의 값이며, 순서대로 빵, 야채, 고기를 의미합니다. \n",
    "'''\n",
    "\n",
    "def count_burgers(ingredient):\n",
    "    pack = []\n",
    "    burgers = 0\n",
    "    for i in ingredient:\n",
    "        pack.append(i)\n",
    "        # 마지막 4개가 [1,2,3,1]이면 제거\n",
    "        if len(pack) >= 4 and pack[-4:] == [1, 2, 3, 1]:\n",
    "            del pack[-4:]\n",
    "            burgers += 1\n",
    "    return burgers\n",
    "\n",
    "print(count_burgers([2,1,1,2,3,1,2,3,1]))"
   ]
  },
  {
   "cell_type": "code",
   "execution_count": 17,
   "id": "5ac938b4",
   "metadata": {},
   "outputs": [
    {
     "name": "stdout",
     "output_type": "stream",
     "text": [
      "['5', '4', '3', '2', '1']\n"
     ]
    }
   ],
   "source": [
    "# 업그레이드미션 12-3\n",
    "# 자연수 n을 뒤집어 각 자리 숫자를 원소로 가지는 리스트로 만들어주세요.  \n",
    "# 예를들어 n이 12345이면 [5,4,3,2,1]을 출력해주세요 \n",
    "\n",
    "n = str(input(\"자연수 n을 입력하세요: \"))\n",
    "\n",
    "numlist = list(n)\n",
    "result = sorted(numlist, reverse=True)\n",
    "print(result)"
   ]
  },
  {
   "cell_type": "code",
   "execution_count": 18,
   "id": "57766f53",
   "metadata": {},
   "outputs": [
    {
     "name": "stdout",
     "output_type": "stream",
     "text": [
      "파이썬 용어 사전\n",
      "입력단어-> 'python' is: a high-level programming language\n",
      "입력단어-> 'apple' is: 사전에 찾는 단어가 없어요!\n",
      "입력단어-> 'loop' is: a sequence of instructions that are continually repeated\n",
      "종료!\n"
     ]
    }
   ],
   "source": [
    "# 업그레이드미션 13\n",
    "# 딕셔너리 업그레이드 미션\n",
    "\n",
    "print(\"파이썬 용어 사전\")\n",
    "\n",
    "dictionary = {\n",
    "    \"python\": \"a high-level programming language\", \n",
    "    \"apple\": \"사전에 찾는 단어가 없어요!\", \n",
    "    \"loop\": \"a sequence of instructions that are continually repeated\"\n",
    "    }\n",
    "\n",
    "while True:\n",
    "    word = input(\"입력단어 -> \")\n",
    "    if word == '종료':\n",
    "        print(\"종료!\")\n",
    "        break\n",
    "    if word in dictionary:\n",
    "        print(f\"입력단어-> '{word}' is: {dictionary[word]}\")\n"
   ]
  },
  {
   "cell_type": "code",
   "execution_count": 19,
   "id": "ff8ae089",
   "metadata": {},
   "outputs": [
    {
     "name": "stdout",
     "output_type": "stream",
     "text": [
      "hello"
     ]
    }
   ],
   "source": [
    "# 업그레이드미션 13-2\n",
    "# 모스부호\n",
    "\n",
    "morse = { \n",
    "\n",
    "    '.-':'a','-...':'b','-.-.':'c','-..':'d','.':'e','..-.':'f', \n",
    "\n",
    "    '--.':'g','....':'h','..':'i','.---':'j','-.-':'k','.-..':'l', \n",
    "\n",
    "    '--':'m','-.':'n','---':'o','.--.':'p','--.-':'q','.-.':'r', \n",
    "\n",
    "    '...':'s','-':'t','..-':'u','...-':'v','.--':'w','-..-':'x', \n",
    "\n",
    "    '-.--':'y','--..':'z' \n",
    "\n",
    "} \n",
    "\n",
    "letter = \".... . .-.. .-.. ---\"\n",
    "result = letter.split()\n",
    "\n",
    "for i in result:\n",
    "    print(morse[i], end=\"\")\n",
    "\n"
   ]
  },
  {
   "cell_type": "code",
   "execution_count": 20,
   "id": "0187979a",
   "metadata": {},
   "outputs": [
    {
     "name": "stdout",
     "output_type": "stream",
     "text": [
      "Alice학생의 평균 성적: 89.0\n",
      "Bob학생의 평균 성적: 82.0\n",
      "Charlie학생의 평균 성적: 92.0\n",
      "전체 학생들의 평균 성적: 87.66666666666667\n",
      "90점 이상인 학생 명단: ['Charlie']\n"
     ]
    }
   ],
   "source": [
    "# 업그레이드미션 14\n",
    "\"\"\" 세 명의 학생과 각 학생의 성적을 리스트와 딕셔너리로 표현합니다.\n",
    "각 학생의 평균 성적을 계산하여 출력합니다.\n",
    "전체 학생들의 평균 성적을 출력합니다.\n",
    "또한, 성적이 90 이상인 학생들을 찾아서 출력합니다.\n",
    "\"\"\"\n",
    "\n",
    "a = {'이름':'Alice', '성적': (90,85,92)}\n",
    "b = {'이름':'Bob', '성적': (78,80,88)}\n",
    "c = {'이름':'Charlie', '성적': (95,92,89)}\n",
    "\n",
    "\n",
    "def avg(student):\n",
    "    sum = 0\n",
    "    grade = list(student['성적'])\n",
    "    for i in grade:\n",
    "        sum += i\n",
    "        average = sum/3\n",
    "    return average\n",
    "\n",
    "print(f\"{a['이름']}학생의 평균 성적: {avg(a)}\")\n",
    "print(f\"{b['이름']}학생의 평균 성적: {avg(b)}\")\n",
    "print(f\"{c['이름']}학생의 평균 성적: {avg(c)}\")\n",
    "\n",
    "print(f\"전체 학생들의 평균 성적: {(avg(a)+avg(b)+avg(c))/3}\")\n",
    "\n",
    "d=[]\n",
    "if avg(a) >= 90:\n",
    "    d.append(a['이름'])\n",
    "if avg(b) >= 90:\n",
    "    d.append(b['이름'])\n",
    "if avg(c) >= 90:\n",
    "    d.append(c['이름'])\n",
    "\n",
    "print(f\"90점 이상인 학생 명단: {d}\")\n",
    "\n"
   ]
  },
  {
   "cell_type": "code",
   "execution_count": 21,
   "id": "4eeea3b2",
   "metadata": {},
   "outputs": [
    {
     "name": "stdout",
     "output_type": "stream",
     "text": [
      "Alice 학생의 평균 성적: 89.0\n",
      "Bob 학생의 평균 성적: 82.0\n",
      "Charlie 학생의 평균 성적: 92.0\n",
      "전체 학생들의 평균 성적: 87.66666666666667\n",
      "평균이 90 이상인 학생: ['Charlie']\n"
     ]
    }
   ],
   "source": [
    "# 업그레이드미션 14\n",
    "\"\"\" 세 명의 학생과 각 학생의 성적을 리스트와 딕셔너리로 표현합니다.\n",
    "각 학생의 평균 성적을 계산하여 출력합니다.\n",
    "전체 학생들의 평균 성적을 출력합니다.\n",
    "또한, 성적이 90 이상인 학생들을 찾아서 출력합니다.\n",
    "\"\"\"\n",
    "# 다른 방법\n",
    "\n",
    "a = {'이름':'Alice', '성적': (90,85,92)}\n",
    "b = {'이름':'Bob', '성적': (78,80,88)}\n",
    "c = {'이름':'Charlie', '성적': (95,92,89)}\n",
    "students = [a, b, c]\n",
    "\n",
    "def avg(student):\n",
    "    scores = student['성적']\n",
    "    return sum(scores)/len(scores)\n",
    "\n",
    "for s in students:\n",
    "    print(f\"{s['이름']} 학생의 평균 성적: {avg(s)}\")\n",
    "\n",
    "overall = sum(avg(s) for s in students)/len(students)\n",
    "print(f\"전체 학생들의 평균 성적: {overall}\")\n",
    "\n",
    "over90 = [s['이름'] for s in students if avg(s) >= 90]\n",
    "print(f\"평균이 90 이상인 학생: {over90}\")"
   ]
  },
  {
   "cell_type": "code",
   "execution_count": 22,
   "id": "a25ecdd2",
   "metadata": {},
   "outputs": [
    {
     "name": "stdout",
     "output_type": "stream",
     "text": [
      "Alice 평균: 89.0\n",
      "Bob 평균: 82.0\n",
      "Charlie 평균: 92.0\n",
      "전체 평균: 87.66666666666667\n",
      "90점 이상인 학생 명단: ['Charlie']\n"
     ]
    }
   ],
   "source": [
    "# 업그레이드미션 14\n",
    "\"\"\" 세 명의 학생과 각 학생의 성적을 리스트와 딕셔너리로 표현합니다.\n",
    "각 학생의 평균 성적을 계산하여 출력합니다.\n",
    "전체 학생들의 평균 성적을 출력합니다.\n",
    "또한, 성적이 90 이상인 학생들을 찾아서 출력합니다.\n",
    "\"\"\"\n",
    "#답안\n",
    "\n",
    "scores = {\n",
    "    'Alice' : [90, 85,92],\n",
    "    'Bob' : [78, 80, 88],\n",
    "    'Charlie' : [95, 92, 89]\n",
    "}\n",
    "\n",
    "students_avgs = {}\n",
    "for name, grades in scores.items():\n",
    "    avg = sum(grades)/len(grades)\n",
    "    students_avgs[name] = avg\n",
    "    print(f\"{name} 평균: {avg:.1f}\")\n",
    "\n",
    "total = sum(students_avgs.values())/len(students_avgs)\n",
    "print(f\"전체 평균: {total}\")\n",
    "\n",
    "over90 = [name for name, avg in students_avgs.items() if avg >= 90]\n",
    "print(f\"90점 이상인 학생 명단: {over90}\")"
   ]
  },
  {
   "cell_type": "code",
   "execution_count": 23,
   "id": "892db702",
   "metadata": {},
   "outputs": [
    {
     "name": "stdout",
     "output_type": "stream",
     "text": [
      "> 메뉴 선택(1:추가, 2:삭제, 0:종료)? 1\n",
      "*할 일 내용 입력 >>  영어 과제\n",
      "********************************\n",
      "1. 영어 과제\n",
      "********************************\n",
      "> 메뉴 선택(1:추가, 2:삭제, 0:종료)? 1\n",
      "*할 일 내용 입력 >>  강아지 산책\n",
      "********************************\n",
      "1. 영어 과제\n",
      "2. 강아지 산책\n",
      "********************************\n",
      "> 메뉴 선택(1:추가, 2:삭제, 0:종료)? 2\n",
      "*완료한 일 내용 입력 >>  강아지 산책\n",
      "********************************\n",
      "1. 영어 과제\n",
      "********************************\n",
      "> 메뉴 선택(1:추가, 2:삭제, 0:종료)? 5\n",
      "메뉴 선택 오류입니다. 다시 선택하세요.\n",
      "> 메뉴 선택(1:추가, 2:삭제, 0:종료)? 0\n",
      "프로그램을 종료합니다.\n"
     ]
    }
   ],
   "source": [
    "# 업그레이드미션 14-2 (문제1)\n",
    "# \"오늘의 할 일\"을 관리하는 프로그램을 만들어보세요\n",
    "\"\"\" 메뉴 선택칸 만들기\n",
    "    1 누르면 추가하는 내용입력칸 만들기\n",
    "        입력 순서대로 숫자가 앞에 붙어야함\n",
    "    2 누르면 삭제하는 내용입력칸 만들기\n",
    "    0 누르면 프로그램 종료\n",
    "입력한 문자열 리스트에 추가 \"\"\"\n",
    "\n",
    "todo = []\n",
    "i = 0\n",
    "\n",
    "while True:\n",
    "    menu = int(input(\"> 메뉴 선택(1:추가, 2:삭제, 0:종료)?\"))\n",
    "    print(\"> 메뉴 선택(1:추가, 2:삭제, 0:종료)?\", menu)\n",
    "    \n",
    "    if menu == 1:\n",
    "        content = str(input(\"*할 일 내용 입력 >> \"))\n",
    "        print(\"*할 일 내용 입력 >> \", content)\n",
    "        print(\"********************************\")\n",
    "        todo.append(content)\n",
    "        for idx, item in enumerate(todo, start=1):\n",
    "            print(f\"{idx}. {item}\")\n",
    "        print(\"********************************\")\n",
    "        continue\n",
    "\n",
    "    elif menu == 2:\n",
    "        content = str(input(\"*완료한 일 내용 입력 >> \"))\n",
    "        print(\"*완료한 일 내용 입력 >> \", content)\n",
    "        print(\"********************************\")\n",
    "        todo.remove(content)\n",
    "        for idx, item in enumerate(todo, start=1):\n",
    "            print(f\"{idx}. {item}\")\n",
    "        print(\"********************************\")\n",
    "        continue\n",
    "    \n",
    "    elif menu == 0:\n",
    "        print(\"프로그램을 종료합니다.\")\n",
    "        break\n",
    "    else :\n",
    "        print(\"메뉴 선택 오류입니다. 다시 선택하세요.\")\n",
    "        continue\n",
    "\n",
    "\n"
   ]
  },
  {
   "cell_type": "code",
   "execution_count": 24,
   "id": "593d4403",
   "metadata": {},
   "outputs": [
    {
     "name": "stdout",
     "output_type": "stream",
     "text": [
      "> 메뉴 선택(1: 추가, 2: 검색, 0: 종료)? 1\n",
      "친구 이름 입력>>  홍길동\n",
      "전화번호 입력>>  010-1234-0000\n",
      "> 메뉴 선택(1: 추가, 2: 검색, 0: 종료)? 2\n",
      "검색 가능한 친구들: ['최재원', '유재석', '김연수', '김우정', '김가현', '김헤현', '홍길동']\n",
      "친구 이름 입력>>  유재석\n",
      "유재석의 연락처: 010-2222-2222\n",
      "> 메뉴 선택(1: 추가, 2: 검색, 0: 종료)? 5\n",
      "메뉴 선택 오류입니다. 다시 선택하세요.\n",
      "> 메뉴 선택(1: 추가, 2: 검색, 0: 종료)? 0\n",
      "프로그램을 종료합니다!\n"
     ]
    }
   ],
   "source": [
    "# 업그레이드미션 14-2 (문제2)\n",
    "# \"전화번호 검색 프로그램\"을 다음과 같이 만들어보세요.\n",
    "\n",
    "\"\"\" 추가: 딕셔너리에 친구이름, 친구 전화번호 추가\n",
    "검색: 친구이름 입력하면 전화번호 검색\n",
    "0 입력하면 프로그램 종료 \"\"\"\n",
    "\n",
    "num_dict = {\n",
    "    '최재원':'010-1111-1111',\n",
    "    '유재석':'010-2222-2222',\n",
    "    '김연수':'010-3333-3333',\n",
    "    '김우정':'010-4444-4444',\n",
    "    '김가현':'010-5555-5555',\n",
    "    '김헤현':'010-6666-6666'\n",
    "}\n",
    "\n",
    "while True:\n",
    "    menu = int(input(\"> 메뉴 선택(1: 추가, 2: 검색, 0: 종료)? \"))\n",
    "    print(f\"> 메뉴 선택(1: 추가, 2: 검색, 0: 종료)? {menu}\")\n",
    "\n",
    "    if menu == 1:\n",
    "        name = str(input(\"친구 이름 입력>> \"))\n",
    "        number = str(input(\"전화번호 입력>> \"))\n",
    "        print(\"친구 이름 입력>> \", name)\n",
    "        print(\"전화번호 입력>> \", number)\n",
    "        num_dict[name] = number\n",
    "        continue\n",
    "    elif menu == 2:\n",
    "        print(f\"검색 가능한 친구들: {list(num_dict.keys())}\")\n",
    "        friend = str(input(\"친구 이름 입력>> \"))\n",
    "        print(\"친구 이름 입력>> \", friend)\n",
    "        print(f\"{friend}의 연락처: {num_dict[friend]}\")\n",
    "        continue\n",
    "    elif menu == 0:\n",
    "        print(\"프로그램을 종료합니다!\")\n",
    "        break\n",
    "    else :\n",
    "        print(\"메뉴 선택 오류입니다. 다시 선택하세요.\")\n",
    "        continue\n"
   ]
  },
  {
   "cell_type": "code",
   "execution_count": 25,
   "id": "2b80fb0c",
   "metadata": {},
   "outputs": [
    {
     "data": {
      "text/plain": [
       "24"
      ]
     },
     "execution_count": 25,
     "metadata": {},
     "output_type": "execute_result"
    }
   ],
   "source": [
    "# 업그레이드미션 15\n",
    "# 숫자들의 배열을 입력하면 가장 작은 값을 구하는 함수\n",
    "\n",
    "testArray = [52, 273, 32, 103, 275, 24, 57]\n",
    "\n",
    "def num_min(arr):\n",
    "    return min(arr)\n",
    "\n",
    "num_min(testArray)"
   ]
  },
  {
   "cell_type": "code",
   "execution_count": 26,
   "id": "b9252b1d",
   "metadata": {},
   "outputs": [
    {
     "data": {
      "text/plain": [
       "[2, 10, 12]"
      ]
     },
     "execution_count": 26,
     "metadata": {},
     "output_type": "execute_result"
    }
   ],
   "source": [
    "# 업그레이드미션 16\n",
    "# 하나의 리스트를 입력 받아 짝수만 화면에 출력하는 print_even 함수\n",
    "num_list = [1, 3, 2, 10, 12, 11, 15] \n",
    "\n",
    "def print_even(list):\n",
    "    result =  [i for i in list if i%2==0]\n",
    "    return result\n",
    "\n",
    "print_even(num_list)\n",
    "    "
   ]
  },
  {
   "cell_type": "code",
   "execution_count": 27,
   "id": "91d8d8e7",
   "metadata": {},
   "outputs": [
    {
     "name": "stdout",
     "output_type": "stream",
     "text": [
      "11 22 33 합계: 66\n"
     ]
    }
   ],
   "source": [
    "# 업그레이드미션 16-2\n",
    "# 정수 3개를 한번에 입력 받아 합계를 인쇄하는 코드를 설계해주세요\n",
    "number = []\n",
    "number = input(\"정수를 3개 입력하세요: \")\n",
    "result = list(number.split())\n",
    "\n",
    "print(f\"{number} 합계: {int(result[0])+int(result[1])+int(result[2])}\")"
   ]
  },
  {
   "cell_type": "code",
   "execution_count": 28,
   "id": "3af3da50",
   "metadata": {},
   "outputs": [
    {
     "name": "stdout",
     "output_type": "stream",
     "text": [
      "66\n"
     ]
    }
   ],
   "source": [
    "# 업그레이드미션 16-2\n",
    "# 정수 3개를 한번에 입력 받아 합계를 인쇄하는 코드를 설계해주세요\n",
    "# 답안\n",
    "a, b, c = map(int, input().split())\n",
    "print(a+b+c)"
   ]
  },
  {
   "cell_type": "code",
   "execution_count": 29,
   "id": "4eeb3af0",
   "metadata": {},
   "outputs": [
    {
     "name": "stdout",
     "output_type": "stream",
     "text": [
      "2022년은 윤년일까? False\n",
      "2010년은 윤년일까? False\n",
      "2000년은 윤년일까? True\n",
      "1900년은 윤년일까? False\n"
     ]
    }
   ],
   "source": [
    "# 업그레이드미션 16-3\n",
    "\"\"\" \n",
    "윤년을 확인하는 함수 만들기\n",
    "4로 나누어 떨어지는 해는 윤년\n",
    "but 100으로 나누어 떨어지는 해는 윤년이 아님\n",
    "but 400으로 나누어 떨어지는 해는 윤년 \n",
    "\"\"\"\n",
    "def is_leap_year(year):\n",
    "    # 4의 배수이면서 (100의 배수가 아니거나 400의 배수)면 윤년\n",
    "    return (year % 4 == 0) and (year % 100 != 0 or year % 400 == 0)\n",
    "\n",
    "# 예시 출력\n",
    "for y in [2022, 2010, 2000, 1900]:\n",
    "    print(f\"{y}년은 윤년일까? {is_leap_year(y)}\")"
   ]
  },
  {
   "cell_type": "code",
   "execution_count": 30,
   "id": "b6308457",
   "metadata": {},
   "outputs": [
    {
     "data": {
      "text/plain": [
       "(12, 8, 20, 5)"
      ]
     },
     "execution_count": 30,
     "metadata": {},
     "output_type": "execute_result"
    }
   ],
   "source": [
    "# 업그레이드미션 16-4\n",
    "# 두 수를 받아 합, 차, 곱, 몫을 리턴하는 함수를 만들어주세요\n",
    "\n",
    "num1 = int(input(\"num1을 입력하세요: \"))\n",
    "num2 = int(input(\"num2를 입력하세요: \"))\n",
    "\n",
    "def math(a,b):\n",
    "    return a+b, a-b, a*b, a//b\n",
    "\n",
    "math(num1,num2)"
   ]
  },
  {
   "cell_type": "code",
   "execution_count": 31,
   "id": "e4b7719b",
   "metadata": {},
   "outputs": [
    {
     "name": "stdout",
     "output_type": "stream",
     "text": [
      "당신: 보\n",
      "컴퓨터: 가위\n",
      "졌습니다.\n",
      "당신: 바위\n",
      "컴퓨터: 가위\n",
      "이겼습니다!\n"
     ]
    }
   ],
   "source": [
    "# 업그레이드미션 17\n",
    "# 컴퓨터와 대결하는 가위, 바위, 보 게임 만들기\n",
    "import random\n",
    "\n",
    "sel = ['가위', '바위', '보']\n",
    "\n",
    "def checkwin(user, com):\n",
    "    print(f\"당신: {user}\")\n",
    "    print(f\"컴퓨터: {com}\")\n",
    "\n",
    "    if user == com:\n",
    "        print(\"비겼습니다\")\n",
    "        return True\n",
    "\n",
    "    if (user == '가위' and com == '보') or (user == '바위' and com == '가위') or (user == '보' and com == '바위'):\n",
    "        print(\"이겼습니다!\")\n",
    "        return True\n",
    "    else:\n",
    "        print(\"졌습니다.\")\n",
    "        return True\n",
    "\n",
    "def continueConfirm():\n",
    "        answer = input(\"계속할까요? (y/n): \")\n",
    "        if answer == 'y':\n",
    "            return True\n",
    "\n",
    "while True:\n",
    "    user = input(\"가위, 바위, 보 : \")\n",
    "    com = sel[random.randint(0,2)]          #랜덤으로 나옴\n",
    "    if checkwin(user, com):                 #누가이기는지 정하기\n",
    "        if continueConfirm():               #더할지말지 정하기\n",
    "            continue\n",
    "        else :\n",
    "            break"
   ]
  },
  {
   "cell_type": "code",
   "execution_count": 33,
   "id": "76321e44",
   "metadata": {},
   "outputs": [
    {
     "name": "stdout",
     "output_type": "stream",
     "text": [
      "[1, 2, 4, 3]\n"
     ]
    }
   ],
   "source": [
    "# 업그레이드미션 18\n",
    "\"\"\" \n",
    "등수 구하기\n",
    "영어 점수와 수학 점수의 평균 점수를 기준으로 학생들의 등수를 매기려고 합니다. \n",
    "영어 점수와 수학 점수를 담은 2차원 리스트 score가 주어질 때, \n",
    "영어 점수와 수학 점수의 평균을 기준으로 매긴 등수를 담은 리스트를 return하도록 함수를 만들어주세요  \n",
    "\"\"\"\n",
    "result = []\n",
    "def rank(score):\n",
    "    avg = []\n",
    "\n",
    "    for i, j in score:                          # 1. 평균값 구하기\n",
    "        #print((i+j)/2)\n",
    "        avg.append((i+j)/2)\n",
    "    #print(avg)\n",
    "\n",
    "    avg_sort = sorted(avg, reverse=True)        # 2. 내림차순 구하기\n",
    "    #print(avg_sort)\n",
    "\n",
    "    for i in avg:                               # 3. 비교해서 등수 처리\n",
    "        result.append(avg_sort.index(i) + 1)\n",
    "\n",
    "    return result\n",
    "\n",
    "score = [[80, 70], [90, 50], [40, 70], [50, 80]]\n",
    "print(rank(score))"
   ]
  },
  {
   "cell_type": "code",
   "execution_count": 34,
   "id": "9dc725fd",
   "metadata": {},
   "outputs": [
    {
     "name": "stdout",
     "output_type": "stream",
     "text": [
      "s를 입력하셨습니다\n",
      "HELLO\n",
      "애너그램 테이블 : [4, 2, 0, 1, 3] \n",
      "암호화 완료 :  LLEOH\n",
      "w를 입력하셨습니다\n",
      "LLEOH\n",
      "애너그램 테이블 : [4, 2, 0, 1, 3] \n",
      "복호화 완료 :  HELLO\n",
      "e\n",
      "올바른 선택이 아닙니다. 다시 입력해주세요.\n",
      "'그만'을 입력하셨습니다. 종료합니다.\n"
     ]
    }
   ],
   "source": [
    "# 업그레이드미션 19\n",
    "\"\"\" \n",
    "애너그램(Anagram) 이란 주어진 단어를 이루는 문자의 위치를 뒤바꾸어 새로운 단어를 만드는 것을 말합니다. \n",
    "애너그램을 이용해 암호화, 복호화를 하려고합니다. \n",
    "\n",
    "암, 복호화할 단어와 애너그램 테이블이 주어집니다. \n",
    "애너그램 테이블은 단어를 암호화한 후의 문자들의 위치가 저장되어 있습니다. \n",
    "\n",
    "예를들어 문자열 \"Hello\"를 암호화  할 때, 애너그램 테이블이 [4, 2, 0, 1, 3]이면, \n",
    "문자열의 0번째 값인 'H'는 애너그램 테이블의 0번째 값에 해당하는 4에 의해 4번째로 이동하고 \n",
    "같은 방식으로 'e'는 2번째로, 'l'은 0번째로, 'l'은 1번째로, 'o'는 3번째로 이동하여 \"lleoH\"가 됩니다. \n",
    "\n",
    "위의 방법으로 만들어진 애너그램 암호문을 복호화하려면 애너그램 테이블의 인덱스와 값의 반대 방향으로 문자열의 순서를 바꿔주면 됩니다. \n",
    "\n",
    "예를들어 암호화된 문자열이 \"lleoH\"이고 애너그램 테이블이 [4, 2, 0, 1, 3]이면, \n",
    "애너그램 테이블의 0번째 값인 4에 해당하는 문자인 'H'는 해당 인덱스인 0번째로 이동하고 \n",
    "같은 방식으로 'e'는 1번째로, 'l'은 2번째로, 'l'은 3번째로, 'o'는 4번째로 이동하여 \"Hello\"가 됩니다. \n",
    "\n",
    "암호화할 문자열 text와 애너그램 테이블 anagram, 암호화를 할지 복호화를 할지가 저장된 변수 sw가 주어질 때 \n",
    "암호화 또는 복호화된 문자열을 return하도록 solution함수를 작성해주세요  \n",
    "\n",
    "\"\"\"\n",
    "def solution(sw):\n",
    "    if sw == 's':\n",
    "        word_list = list(code_word)\n",
    "        code_list = []\n",
    "        anagram = [4, 2, 0, 1, 3]\n",
    "\n",
    "        for k in range(len(anagram)):\n",
    "            code_list.append(None)\n",
    "\n",
    "        for i in range(len(word_list)):\n",
    "            code_list[anagram[i]] = word_list[i]\n",
    "    \n",
    "        return print(f\"애너그램 테이블 : {anagram} \\n암호화 완료 :  {''.join(code_list)}\")\n",
    "    \n",
    "    if sw == 'w':\n",
    "        word_list = list(decode_word)                     \n",
    "        decode_list = []\n",
    "        anagram = [4, 2, 0, 1, 3] \n",
    "\n",
    "        for k in range(len(anagram)):\n",
    "            decode_list.append(None)\n",
    "\n",
    "        for i in range(len(word_list)):\n",
    "            decode_list[i] = word_list[anagram[i]]\n",
    "    \n",
    "        return print(f\"애너그램 테이블 : {anagram} \\n복호화 완료 :  {''.join(decode_list)}\")\n",
    "    \n",
    "while True:\n",
    "    sw = str(input(\"암호화하실거면 s를, 복호화하실거면 w를 입력하세요(그만두실거면 '그만'을 입력하세요): \"))\n",
    "    if sw == 's':\n",
    "        print('s를 입력하셨습니다')\n",
    "        code_word = str(input(\"암호화할 단어를 입력하세요: \"))\n",
    "        print(code_word)\n",
    "        solution(sw)\n",
    "    elif sw == 'w' :\n",
    "        print('w를 입력하셨습니다')\n",
    "        decode_word = str(input(\"복호화할 단어를 입력하세요: \"))\n",
    "        print(decode_word)\n",
    "        solution(sw)\n",
    "    elif sw == '그만':\n",
    "        print(\"'그만'을 입력하셨습니다. 종료합니다.\")\n",
    "        break\n",
    "    else :\n",
    "        print(sw)\n",
    "        print(\"올바른 선택이 아닙니다. 다시 입력해주세요.\")\n",
    "        continue\n"
   ]
  }
 ],
 "metadata": {
  "kernelspec": {
   "display_name": "Python 3",
   "language": "python",
   "name": "python3"
  },
  "language_info": {
   "codemirror_mode": {
    "name": "ipython",
    "version": 3
   },
   "file_extension": ".py",
   "mimetype": "text/x-python",
   "name": "python",
   "nbconvert_exporter": "python",
   "pygments_lexer": "ipython3",
   "version": "3.10.11"
  }
 },
 "nbformat": 4,
 "nbformat_minor": 5
}
