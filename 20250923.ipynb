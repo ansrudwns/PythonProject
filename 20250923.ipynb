{
 "cells": [
  {
   "cell_type": "code",
   "execution_count": null,
   "id": "3434e071",
   "metadata": {},
   "outputs": [
    {
     "name": "stdout",
     "output_type": "stream",
     "text": [
      "None\n",
      "1\n"
     ]
    }
   ],
   "source": [
    "a =  1                  # a= global variable\n",
    "\n",
    "def vartest(a):         # a = local variable\n",
    "    a = a + 1\n",
    "\n",
    "print(vartest(a))\n",
    "print(a)"
   ]
  },
  {
   "cell_type": "code",
   "execution_count": 1,
   "id": "05af8749",
   "metadata": {},
   "outputs": [
    {
     "ename": "NameError",
     "evalue": "name 'a' is not defined",
     "output_type": "error",
     "traceback": [
      "\u001b[1;31m---------------------------------------------------------------------------\u001b[0m",
      "\u001b[1;31mNameError\u001b[0m                                 Traceback (most recent call last)",
      "Cell \u001b[1;32mIn[1], line 5\u001b[0m\n\u001b[0;32m      2\u001b[0m     a \u001b[38;5;241m=\u001b[39m a\u001b[38;5;241m+\u001b[39m\u001b[38;5;241m1\u001b[39m\n\u001b[0;32m      4\u001b[0m vartest(\u001b[38;5;241m3\u001b[39m)\n\u001b[1;32m----> 5\u001b[0m \u001b[38;5;28mprint\u001b[39m(\u001b[43ma\u001b[49m)\n",
      "\u001b[1;31mNameError\u001b[0m: name 'a' is not defined"
     ]
    }
   ],
   "source": [
    "def vartest(a):\n",
    "    a = a+1\n",
    "\n",
    "vartest(3)\n",
    "print(a)"
   ]
  },
  {
   "cell_type": "code",
   "execution_count": 7,
   "id": "d1f86ba5",
   "metadata": {},
   "outputs": [
    {
     "name": "stdout",
     "output_type": "stream",
     "text": [
      "<zip object at 0x000001B991ECC600>\n",
      "[(52, 19, 0), (255, 63, 68), (39, 227, 255), (132, 197, 187)]\n",
      "(52, 19, 0)\n",
      "<class 'tuple'>\n"
     ]
    }
   ],
   "source": [
    "r = (52, 255, 39, 132)\n",
    "g = (19, 63, 227, 197)\n",
    "b = (0, 68, 255, 187)\n",
    "\n",
    "zip_object = zip(r, g, b)\n",
    "print(zip_object)\n",
    "\n",
    "img = list(zip_object)\n",
    "print(img)\n",
    "\n",
    "print(img[0])\n",
    "print(type(img[0]))"
   ]
  },
  {
   "cell_type": "code",
   "execution_count": 8,
   "id": "4fcc0c83",
   "metadata": {},
   "outputs": [],
   "source": [
    "fruits = ['apple', 'banana', 'cherry', 'date']"
   ]
  },
  {
   "cell_type": "code",
   "execution_count": 11,
   "id": "68212d04",
   "metadata": {},
   "outputs": [
    {
     "name": "stdout",
     "output_type": "stream",
     "text": [
      "0 apple\n",
      "1 banana\n",
      "2 cherry\n",
      "3 date\n"
     ]
    }
   ],
   "source": [
    "a=0\n",
    "\n",
    "for i in fruits:\n",
    "    print(a, i)\n",
    "    a+=1"
   ]
  },
  {
   "cell_type": "code",
   "execution_count": 10,
   "id": "ef2a06fe",
   "metadata": {},
   "outputs": [
    {
     "name": "stdout",
     "output_type": "stream",
     "text": [
      "0 apple\n",
      "1 banana\n",
      "2 cherry\n",
      "3 date\n"
     ]
    }
   ],
   "source": [
    "for i in range(len(fruits)):\n",
    "    print(i, fruits[i])"
   ]
  },
  {
   "cell_type": "code",
   "execution_count": 12,
   "id": "91e359de",
   "metadata": {},
   "outputs": [],
   "source": [
    "f = ('apple', 'banana', 'cherry', 'date')"
   ]
  },
  {
   "cell_type": "code",
   "execution_count": 15,
   "id": "7b158c4f",
   "metadata": {},
   "outputs": [
    {
     "data": {
      "text/plain": [
       "<enumerate at 0x1b990a08040>"
      ]
     },
     "execution_count": 15,
     "metadata": {},
     "output_type": "execute_result"
    }
   ],
   "source": [
    "enumerate(f, 1)"
   ]
  },
  {
   "cell_type": "code",
   "execution_count": 17,
   "id": "a0fd43f4",
   "metadata": {},
   "outputs": [
    {
     "data": {
      "text/plain": [
       "{1: 'apple', 2: 'banana', 3: 'cherry', 4: 'date'}"
      ]
     },
     "execution_count": 17,
     "metadata": {},
     "output_type": "execute_result"
    }
   ],
   "source": [
    "dict(enumerate(f, 1))"
   ]
  },
  {
   "cell_type": "code",
   "execution_count": null,
   "id": "0731c06f",
   "metadata": {},
   "outputs": [
    {
     "name": "stdout",
     "output_type": "stream",
     "text": [
      "[2, 3, 4, 5, 6]\n"
     ]
    }
   ],
   "source": [
    "mylist = [1,2,3,4,5]\n",
    "# -> [2,3,4,5,6]\n",
    "answer = []\n",
    "for i in mylist:\n",
    "    answer.append(i+1)\n",
    "    \n",
    "print(answer)"
   ]
  },
  {
   "cell_type": "code",
   "execution_count": 23,
   "id": "41de19b8",
   "metadata": {},
   "outputs": [
    {
     "data": {
      "text/plain": [
       "[2, 3, 4, 5, 6]"
      ]
     },
     "execution_count": 23,
     "metadata": {},
     "output_type": "execute_result"
    }
   ],
   "source": [
    "mylist = [1,2,3,4,5]\n",
    "\n",
    "def add_one(n):\n",
    "    return n+1\n",
    "\n",
    "result = list(map(add_one, mylist))\n",
    "result\n"
   ]
  },
  {
   "cell_type": "code",
   "execution_count": 24,
   "id": "52bead07",
   "metadata": {},
   "outputs": [
    {
     "data": {
      "text/plain": [
       "[3, -6, 100, 25]"
      ]
     },
     "execution_count": 24,
     "metadata": {},
     "output_type": "execute_result"
    }
   ],
   "source": [
    "mylist = [3.14, -5.6, 100.4, 25.0]\n",
    "\n",
    "\n",
    "result = list(map(round, mylist))\n",
    "result\n"
   ]
  },
  {
   "cell_type": "code",
   "execution_count": 28,
   "id": "e04c5f92",
   "metadata": {},
   "outputs": [],
   "source": [
    "a = [8, 3, 2, 10, 15, 7, 1, 0, 11]"
   ]
  },
  {
   "cell_type": "code",
   "execution_count": 29,
   "id": "0e7ac6a6",
   "metadata": {},
   "outputs": [
    {
     "data": {
      "text/plain": [
       "[8, 7]"
      ]
     },
     "execution_count": 29,
     "metadata": {},
     "output_type": "execute_result"
    }
   ],
   "source": [
    "def f(x):\n",
    "    return x>5 and x<10\n",
    "\n",
    "list(filter(f, a))"
   ]
  },
  {
   "cell_type": "code",
   "execution_count": 26,
   "id": "620b766b",
   "metadata": {},
   "outputs": [
    {
     "data": {
      "text/plain": [
       "[8, 7]"
      ]
     },
     "execution_count": 26,
     "metadata": {},
     "output_type": "execute_result"
    }
   ],
   "source": [
    "result = []\n",
    "for i in a:\n",
    "    if i > 5 and i < 10:\n",
    "        result.append(i)\n",
    "\n",
    "result"
   ]
  },
  {
   "cell_type": "code",
   "execution_count": 31,
   "id": "e32b2c98",
   "metadata": {},
   "outputs": [
    {
     "data": {
      "text/plain": [
       "[2, 3, 4, 5, 6]"
      ]
     },
     "execution_count": 31,
     "metadata": {},
     "output_type": "execute_result"
    }
   ],
   "source": [
    "mylist = [1,2,3,4,5]\n",
    "\n",
    "result = list(map(lambda x: x+1, mylist))\n",
    "result"
   ]
  },
  {
   "cell_type": "code",
   "execution_count": 32,
   "id": "b47a17b6",
   "metadata": {},
   "outputs": [
    {
     "data": {
      "text/plain": [
       "[8, 7]"
      ]
     },
     "execution_count": 32,
     "metadata": {},
     "output_type": "execute_result"
    }
   ],
   "source": [
    "a = [8, 3, 2, 10, 15, 7, 1, 0, 11]\n",
    "list(filter(lambda x: x>5 and x<10, a))"
   ]
  },
  {
   "cell_type": "code",
   "execution_count": null,
   "id": "c554d6b8",
   "metadata": {},
   "outputs": [
    {
     "name": "stdout",
     "output_type": "stream",
     "text": [
      "[1, 4, 9, 16]\n"
     ]
    }
   ],
   "source": [
    "#실습1\n",
    "\n",
    "numbers = [1, 2, 3, 4]\n",
    "squared = list(map(lambda x: x**2, numbers))\n",
    "print(squared)"
   ]
  },
  {
   "cell_type": "code",
   "execution_count": null,
   "id": "9b16780c",
   "metadata": {},
   "outputs": [
    {
     "name": "stdout",
     "output_type": "stream",
     "text": [
      "[2, 4]\n"
     ]
    }
   ],
   "source": [
    "#실습2\n",
    "\n",
    "numbers = [1, 2, 3, 4, 5]\n",
    "even_numbers = list(filter(lambda x: x%2==0, numbers))\n",
    "print(even_numbers)"
   ]
  },
  {
   "cell_type": "code",
   "execution_count": null,
   "id": "bab29a23",
   "metadata": {},
   "outputs": [
    {
     "name": "stdout",
     "output_type": "stream",
     "text": [
      "[(4, 1), (5, 1), (1, 2), (3, 4)]\n"
     ]
    }
   ],
   "source": [
    "#실습3\n",
    "\n",
    "points = [(1,2), (3,4), (5,1), (4,1)]\n",
    "sorted_points = sorted(points, key= lambda x: (x[1], x[0]))  # y값 기준, 그다음 x값 기준으로 나열하기 (x[1], x[0])\n",
    "print(sorted_points)"
   ]
  },
  {
   "cell_type": "code",
   "execution_count": 35,
   "id": "c5fd485f",
   "metadata": {},
   "outputs": [],
   "source": [
    "numbers = [1, 2, 3, 4, 5]\n",
    "my_numbers = sorted(numbers, reverse = True)"
   ]
  },
  {
   "cell_type": "code",
   "execution_count": 36,
   "id": "808b267f",
   "metadata": {},
   "outputs": [
    {
     "data": {
      "text/plain": [
       "[1, 2, 3, 4, 5]"
      ]
     },
     "execution_count": 36,
     "metadata": {},
     "output_type": "execute_result"
    }
   ],
   "source": [
    "numbers"
   ]
  },
  {
   "cell_type": "code",
   "execution_count": 37,
   "id": "ba3b0938",
   "metadata": {},
   "outputs": [
    {
     "data": {
      "text/plain": [
       "[5, 4, 3, 2, 1]"
      ]
     },
     "execution_count": 37,
     "metadata": {},
     "output_type": "execute_result"
    }
   ],
   "source": [
    "my_numbers"
   ]
  },
  {
   "cell_type": "code",
   "execution_count": 38,
   "id": "d9c23c0a",
   "metadata": {},
   "outputs": [
    {
     "data": {
      "text/plain": [
       "['apple', 'banana', 'cherry', 'date']"
      ]
     },
     "execution_count": 38,
     "metadata": {},
     "output_type": "execute_result"
    }
   ],
   "source": [
    "fruits"
   ]
  },
  {
   "cell_type": "code",
   "execution_count": 39,
   "id": "4142b36a",
   "metadata": {},
   "outputs": [
    {
     "data": {
      "text/plain": [
       "['date', 'apple', 'banana', 'cherry']"
      ]
     },
     "execution_count": 39,
     "metadata": {},
     "output_type": "execute_result"
    }
   ],
   "source": [
    "myfruits = sorted(fruits, key=len)\n",
    "myfruits"
   ]
  },
  {
   "cell_type": "code",
   "execution_count": 40,
   "id": "b2b0f510",
   "metadata": {},
   "outputs": [
    {
     "data": {
      "text/plain": [
       "['banana', 'cherry', 'apple', 'date']"
      ]
     },
     "execution_count": 40,
     "metadata": {},
     "output_type": "execute_result"
    }
   ],
   "source": [
    "myfruits = sorted(fruits, key=len, reverse=True)\n",
    "myfruits"
   ]
  },
  {
   "cell_type": "code",
   "execution_count": 3,
   "id": "8b23b219",
   "metadata": {},
   "outputs": [],
   "source": [
    "'''\n",
    "등수구하기 \n",
    "\n",
    "영어 점수와 수학 점수의 평균 점수를 기준으로 학생들의 등수를 매기려고 합니다. \n",
    "영어 점수와 수학 점수를 담은 2차원 리스트 score가 주어질 때, \n",
    "영어 점수와 수학 점수의 평균을 기준으로 매긴 등수를 담은 리스트를 return하도록 함수를 만들어주세요 \n",
    "\n",
    " \n",
    "\n",
    "[[80, 70], [90, 50], [40, 70], [50, 80]] -> [1, 2, 4, 3] \n",
    "\n",
    "[[80, 70], [70, 80], [30, 50], [90, 100], [100, 90], [100, 100], [10, 30]] -> [4, 4, 6, 2, 2, 1, 7] \n",
    "'''\n",
    "result = []\n",
    "def rank(score):\n",
    "    avg = []\n",
    "\n",
    "    for i, j in score:                          # 1. 평균값 구하기\n",
    "        #print((i+j)/2)\n",
    "        avg.append((i+j)/2)\n",
    "    #print(avg)\n",
    "\n",
    "    avg_sort = sorted(avg, reverse=True)        # 2. 내림차순 구하기\n",
    "    #print(avg_sort)\n",
    "\n",
    "    for i in avg:                               # 3. 비교해서 등수 처리\n",
    "        result.append(avg_sort.index(i) + 1)\n",
    "\n",
    "    return result\n"
   ]
  },
  {
   "cell_type": "code",
   "execution_count": 4,
   "id": "c7aae968",
   "metadata": {},
   "outputs": [
    {
     "name": "stdout",
     "output_type": "stream",
     "text": [
      "[1, 2, 4, 3]\n"
     ]
    }
   ],
   "source": [
    "score = [[80, 70], [90, 50], [40, 70], [50, 80]]\n",
    "print(rank(score))"
   ]
  },
  {
   "cell_type": "code",
   "execution_count": null,
   "id": "31c2706e",
   "metadata": {},
   "outputs": [],
   "source": [
    "# 리스트 컴프리헨션 사용 버전\n",
    "\n",
    "def rank(score):\n",
    "    avg = [(i+j)/2 for i, j in score]\n",
    "\n",
    "    avg_sort = sorted(avg, reverse=True)        \n",
    "    #print(avg_sort)\n",
    "    \n",
    "    result = [avg_sort.index(i) + 1 for i in avg]\n",
    "\n",
    "    return result"
   ]
  },
  {
   "cell_type": "code",
   "execution_count": 7,
   "id": "0c83b9d5",
   "metadata": {},
   "outputs": [
    {
     "name": "stdout",
     "output_type": "stream",
     "text": [
      "[4, 4, 6, 2, 2, 1, 7]\n"
     ]
    }
   ],
   "source": [
    "score = [[80, 70], [70, 80], [30, 50], [90, 100], [100, 90], [100, 100], [10, 30]]\n",
    "print(rank(score))"
   ]
  },
  {
   "cell_type": "code",
   "execution_count": 8,
   "id": "6cd8b3cd",
   "metadata": {},
   "outputs": [
    {
     "data": {
      "text/plain": [
       "[True, True, False, True, False, True, False, False]"
      ]
     },
     "execution_count": 8,
     "metadata": {},
     "output_type": "execute_result"
    }
   ],
   "source": [
    "# 소수판별함수 is_prime()\n",
    "#[2, 3, 4, 5, 6, 7, 8, 9]\n",
    "\n",
    "def is_prime(num_list):\n",
    "    result =[]\n",
    "    for num in num_list:\n",
    "        isprime = True\n",
    "        for i in range(2, num):\n",
    "            if num%i == 0:\n",
    "                isprime = False\n",
    "                break\n",
    "        result.append(isprime)    \n",
    "    return result\n",
    "is_prime([2, 3, 4, 5, 6, 7, 8, 9])"
   ]
  },
  {
   "cell_type": "code",
   "execution_count": 13,
   "id": "d6a1bb21",
   "metadata": {},
   "outputs": [
    {
     "data": {
      "text/plain": [
       "1"
      ]
     },
     "execution_count": 13,
     "metadata": {},
     "output_type": "execute_result"
    }
   ],
   "source": [
    "import random\n",
    "\n",
    "random.randint(1,100)\n",
    "random.randrange(1, 5)"
   ]
  },
  {
   "cell_type": "code",
   "execution_count": 10,
   "id": "2b6b29da",
   "metadata": {},
   "outputs": [
    {
     "data": {
      "text/plain": [
       "94"
      ]
     },
     "execution_count": 10,
     "metadata": {},
     "output_type": "execute_result"
    }
   ],
   "source": [
    "import random as r\n",
    "\n",
    "r.randint(1,100)"
   ]
  },
  {
   "cell_type": "code",
   "execution_count": 14,
   "id": "d14328fe",
   "metadata": {},
   "outputs": [
    {
     "ename": "NameError",
     "evalue": "name 'randrange' is not defined",
     "output_type": "error",
     "traceback": [
      "\u001b[1;31m---------------------------------------------------------------------------\u001b[0m",
      "\u001b[1;31mNameError\u001b[0m                                 Traceback (most recent call last)",
      "Cell \u001b[1;32mIn[14], line 4\u001b[0m\n\u001b[0;32m      1\u001b[0m \u001b[38;5;28;01mfrom\u001b[39;00m\u001b[38;5;250m \u001b[39m\u001b[38;5;21;01mrandom\u001b[39;00m\u001b[38;5;250m \u001b[39m\u001b[38;5;28;01mimport\u001b[39;00m randint\n\u001b[0;32m      3\u001b[0m randint(\u001b[38;5;241m1\u001b[39m,\u001b[38;5;241m100\u001b[39m)\n\u001b[1;32m----> 4\u001b[0m \u001b[43mrandrange\u001b[49m(\u001b[38;5;241m1\u001b[39m,\u001b[38;5;241m5\u001b[39m)\n",
      "\u001b[1;31mNameError\u001b[0m: name 'randrange' is not defined"
     ]
    }
   ],
   "source": [
    "from random import randint\n",
    "\n",
    "randint(1,100)\n",
    "randrange(1,5)"
   ]
  },
  {
   "cell_type": "code",
   "execution_count": null,
   "id": "8253f37f",
   "metadata": {},
   "outputs": [],
   "source": [
    "from random import *\n",
    "from math import *\n",
    "from numpy import *\n",
    "\n",
    "\n",
    "randint(1, 10)\n",
    "randrange(1, 3)\n",
    "sample([1, 2, 3], 1)\n"
   ]
  },
  {
   "cell_type": "code",
   "execution_count": null,
   "id": "09f9b7e3",
   "metadata": {},
   "outputs": [
    {
     "name": "stdout",
     "output_type": "stream",
     "text": [
      "[3, 11, 24, 36, 38, 41]\n"
     ]
    }
   ],
   "source": [
    "# 행운번호 추첨기 (무작위 생선된 6개의 숫자 출력)\n",
    "\n",
    "import random as r\n",
    "result = []\n",
    "\n",
    "for i in range(1,7):\n",
    "    number = r.randint(1,45)\n",
    "    if number != result:\n",
    "        result.append(number)\n",
    "\n",
    "result.sort()\n",
    "print(result)\n",
    "\n",
    "# for i in range 사용하면 중복값 나오면 발생 가능"
   ]
  },
  {
   "cell_type": "code",
   "execution_count": 28,
   "id": "0af57772",
   "metadata": {},
   "outputs": [
    {
     "name": "stdout",
     "output_type": "stream",
     "text": [
      "[43, 35, 23, 27, 39, 32]\n"
     ]
    }
   ],
   "source": [
    "# 행운번호 추첨기 (무작위 생선된 6개의 숫자 출력)\n",
    "# 답안\n",
    "\n",
    "import random as r\n",
    "\n",
    "result = []\n",
    "while len(result)<6:\n",
    "    num = r. randint(1,45)\n",
    "    if num not in result:\n",
    "        result.append(num)\n",
    "print(result)"
   ]
  },
  {
   "cell_type": "markdown",
   "id": "e677803c",
   "metadata": {},
   "source": [
    "#### 사용자 정의 모듈"
   ]
  },
  {
   "cell_type": "code",
   "execution_count": 2,
   "id": "8778f6e8",
   "metadata": {},
   "outputs": [],
   "source": [
    "import mymodule as mm"
   ]
  },
  {
   "cell_type": "code",
   "execution_count": 3,
   "id": "645678af",
   "metadata": {},
   "outputs": [
    {
     "data": {
      "text/plain": [
       "3"
      ]
     },
     "execution_count": 3,
     "metadata": {},
     "output_type": "execute_result"
    }
   ],
   "source": [
    "mm.my_add(1, 2)"
   ]
  },
  {
   "cell_type": "code",
   "execution_count": 4,
   "id": "40cefc62",
   "metadata": {},
   "outputs": [],
   "source": [
    "hero = mm.Character('전사')"
   ]
  },
  {
   "cell_type": "code",
   "execution_count": 5,
   "id": "59702a46",
   "metadata": {},
   "outputs": [
    {
     "name": "stdout",
     "output_type": "stream",
     "text": [
      "저는 전사입니다.\n"
     ]
    }
   ],
   "source": [
    "hero.speak()"
   ]
  },
  {
   "cell_type": "code",
   "execution_count": 6,
   "id": "3e146586",
   "metadata": {},
   "outputs": [],
   "source": [
    "healer = mm.Character('힐러')"
   ]
  },
  {
   "cell_type": "code",
   "execution_count": 7,
   "id": "b74e03a9",
   "metadata": {},
   "outputs": [
    {
     "name": "stdout",
     "output_type": "stream",
     "text": [
      "저는 힐러입니다.\n"
     ]
    }
   ],
   "source": [
    "healer.speak()"
   ]
  },
  {
   "cell_type": "code",
   "execution_count": 62,
   "id": "d0e2d07c",
   "metadata": {},
   "outputs": [
    {
     "name": "stdout",
     "output_type": "stream",
     "text": [
      "10\n",
      "-2\n"
     ]
    }
   ],
   "source": [
    "import mymodule as mm\n",
    "\n",
    "print(mm.my_add(7, 3))\n",
    "print(mm.my_sub(3, 5))"
   ]
  },
  {
   "cell_type": "code",
   "execution_count": 63,
   "id": "8227c75a",
   "metadata": {},
   "outputs": [
    {
     "data": {
      "text/plain": [
       "'__main__'"
      ]
     },
     "execution_count": 63,
     "metadata": {},
     "output_type": "execute_result"
    }
   ],
   "source": [
    "__name__"
   ]
  },
  {
   "cell_type": "code",
   "execution_count": 68,
   "id": "e2d26b74",
   "metadata": {},
   "outputs": [],
   "source": [
    "class Person: \n",
    "    def __init__(self, name, age):\n",
    "        self.name = name\n",
    "        self.age = age\n",
    "\n",
    "    def walk(self): \n",
    "        print(f'{self.name}이 걸어가요')"
   ]
  },
  {
   "cell_type": "code",
   "execution_count": null,
   "id": "fd4d4f94",
   "metadata": {},
   "outputs": [],
   "source": [
    "person1 = Person(\"박지민\", 31)"
   ]
  },
  {
   "cell_type": "code",
   "execution_count": 70,
   "id": "8b673f43",
   "metadata": {},
   "outputs": [
    {
     "data": {
      "text/plain": [
       "__main__.Person"
      ]
     },
     "execution_count": 70,
     "metadata": {},
     "output_type": "execute_result"
    }
   ],
   "source": [
    "type(person1)"
   ]
  },
  {
   "cell_type": "code",
   "execution_count": 71,
   "id": "7143901e",
   "metadata": {},
   "outputs": [
    {
     "name": "stdout",
     "output_type": "stream",
     "text": [
      "박지민이 걸어가요\n"
     ]
    }
   ],
   "source": [
    "person1.walk()"
   ]
  },
  {
   "cell_type": "code",
   "execution_count": 72,
   "id": "b2d2b192",
   "metadata": {},
   "outputs": [],
   "source": [
    "person2 = Person(\"전정국\", 29)"
   ]
  },
  {
   "cell_type": "code",
   "execution_count": 74,
   "id": "4e3f112c",
   "metadata": {},
   "outputs": [
    {
     "name": "stdout",
     "output_type": "stream",
     "text": [
      "전정국이 걸어가요\n"
     ]
    }
   ],
   "source": [
    "person2.walk()"
   ]
  },
  {
   "cell_type": "code",
   "execution_count": 80,
   "id": "6127569f",
   "metadata": {},
   "outputs": [],
   "source": [
    "class NewPerson(Person):\n",
    "    pass"
   ]
  },
  {
   "cell_type": "code",
   "execution_count": 76,
   "id": "3ef39d11",
   "metadata": {},
   "outputs": [],
   "source": [
    "person3 = NewPerson(\"정호석\", 33)"
   ]
  },
  {
   "cell_type": "code",
   "execution_count": 77,
   "id": "f8477675",
   "metadata": {},
   "outputs": [
    {
     "name": "stdout",
     "output_type": "stream",
     "text": [
      "정호석이 걸어가요\n"
     ]
    }
   ],
   "source": [
    "person3.walk()"
   ]
  },
  {
   "cell_type": "code",
   "execution_count": null,
   "id": "654e614a",
   "metadata": {},
   "outputs": [],
   "source": [
    "### 결제시스템\n",
    "#신용카드, 포인트 결제"
   ]
  },
  {
   "cell_type": "code",
   "execution_count": 12,
   "id": "0525ee14",
   "metadata": {},
   "outputs": [],
   "source": [
    "def pay_credit_payment(card_info, amount):\n",
    "    ''' 신용카드 결제 로직 '''\n",
    "    print(f\"{card_info['card_number']} 카드로 {amount}원 결제합니다.\")\n",
    "    print('결제 완료')\n",
    "\n",
    "def pay_with_point(point_wallet, amount):\n",
    "    if point_wallet['balance'] >= amount:\n",
    "        point_wallet['balance'] -= amount\n",
    "        print(f\"포인트 {amount}점을 사용하여 결제했습니다.\")\n",
    "    else :\n",
    "        print(\"포인트가 부족합니다.\")"
   ]
  },
  {
   "cell_type": "code",
   "execution_count": 13,
   "id": "6c973db9",
   "metadata": {},
   "outputs": [],
   "source": [
    "credit_card = {\n",
    "    'type' : 'credit_card',\n",
    "    'card_number' : '1234-5678',\n",
    "    'cvc' : 123\n",
    "}\n",
    "\n",
    "my_points = {\n",
    "    'type' : 'point_wallet',\n",
    "    'balance' : 50000\n",
    "}"
   ]
  },
  {
   "cell_type": "code",
   "execution_count": 16,
   "id": "68140c78",
   "metadata": {},
   "outputs": [],
   "source": [
    "def payment(payment_method, amount):\n",
    "    payment_type = payment_method['type']\n",
    "\n",
    "    if payment_type == 'credit_card':\n",
    "        pay_credit_payment(payment_method, amount)\n",
    "    elif payment_type == 'point_wallet':\n",
    "        pay_with_point(payment_method, amount)\n",
    "    else :\n",
    "        print(\"지원되지 않는 결제방식\")"
   ]
  },
  {
   "cell_type": "code",
   "execution_count": 17,
   "id": "9d957cf6",
   "metadata": {},
   "outputs": [
    {
     "name": "stdout",
     "output_type": "stream",
     "text": [
      "1234-5678 카드로 2500원 결제합니다.\n",
      "결제 완료\n",
      "포인트 10000점을 사용하여 결제했습니다.\n",
      "포인트가 부족합니다.\n"
     ]
    }
   ],
   "source": [
    "payment(credit_card, 2500)\n",
    "payment(my_points, 10000)\n",
    "payment(my_points, 50000)"
   ]
  },
  {
   "cell_type": "code",
   "execution_count": 20,
   "id": "13dd6e70",
   "metadata": {},
   "outputs": [],
   "source": [
    "class PaymentMethod:\n",
    "    def pay(self, amount):\n",
    "        print(f\"{amount}원 결제\")"
   ]
  },
  {
   "cell_type": "code",
   "execution_count": 21,
   "id": "3c678867",
   "metadata": {},
   "outputs": [],
   "source": [
    "class CreditCard(PaymentMethod):\n",
    "    def __init__(self, card_number, cvc):\n",
    "        self.card_number = card_number\n",
    "        self.cvc = cvc\n",
    "\n",
    "    def pay(self, amount):\n",
    "        print(f\"{self.card_number} 카드로 {amount}원 결제합니다.\")\n",
    "        print('결제 완료')\n",
    "\n",
    "class PointWallet(PaymentMethod):\n",
    "    def __init__(self, balance):\n",
    "        self.balance = balance\n",
    "    \n",
    "    def pay(self, amount):\n",
    "        if self.balance >= amount:\n",
    "            self.balance -= amount\n",
    "            print(f\"포인트 {amount}점을 사용하여 결제했습니다.\")\n",
    "        else :\n",
    "            print(\"포인트가 부족합니다.\")"
   ]
  },
  {
   "cell_type": "code",
   "execution_count": 22,
   "id": "668ff367",
   "metadata": {},
   "outputs": [],
   "source": [
    "def process_payment(payment_method, amount):\n",
    "    payment_method.pay(amount)\n",
    "\n",
    "card_obj = CreditCard('4444-4444-4444', 444)\n",
    "point_obj = PointWallet(50000)"
   ]
  },
  {
   "cell_type": "code",
   "execution_count": 23,
   "id": "64c38ece",
   "metadata": {},
   "outputs": [
    {
     "name": "stdout",
     "output_type": "stream",
     "text": [
      "4444-4444-4444 카드로 1000원 결제합니다.\n",
      "결제 완료\n",
      "포인트 10000점을 사용하여 결제했습니다.\n",
      "포인트가 부족합니다.\n"
     ]
    }
   ],
   "source": [
    "process_payment(card_obj, 1000)\n",
    "process_payment(point_obj, 10000)\n",
    "process_payment(point_obj, 50000)"
   ]
  },
  {
   "cell_type": "code",
   "execution_count": 24,
   "id": "de9cd599",
   "metadata": {},
   "outputs": [
    {
     "name": "stdout",
     "output_type": "stream",
     "text": [
      "Collecting numpy\n",
      "  Downloading numpy-2.2.6-cp310-cp310-win_amd64.whl (12.9 MB)\n",
      "     ---------------------------------------- 0.0/12.9 MB ? eta -:--:--\n",
      "      --------------------------------------- 0.3/12.9 MB 9.9 MB/s eta 0:00:02\n",
      "     - -------------------------------------- 0.6/12.9 MB 7.7 MB/s eta 0:00:02\n",
      "     --- ------------------------------------ 1.0/12.9 MB 7.9 MB/s eta 0:00:02\n",
      "     ---- ----------------------------------- 1.4/12.9 MB 8.2 MB/s eta 0:00:02\n",
      "     ------ --------------------------------- 2.0/12.9 MB 9.1 MB/s eta 0:00:02\n",
      "     ------- -------------------------------- 2.3/12.9 MB 8.6 MB/s eta 0:00:02\n",
      "     ------- -------------------------------- 2.3/12.9 MB 8.2 MB/s eta 0:00:02\n",
      "     -------- ------------------------------- 2.6/12.9 MB 7.2 MB/s eta 0:00:02\n",
      "     -------- ------------------------------- 2.9/12.9 MB 7.3 MB/s eta 0:00:02\n",
      "     ---------- ----------------------------- 3.4/12.9 MB 7.6 MB/s eta 0:00:02\n",
      "     ------------ --------------------------- 4.0/12.9 MB 7.9 MB/s eta 0:00:02\n",
      "     -------------- ------------------------- 4.6/12.9 MB 8.4 MB/s eta 0:00:01\n",
      "     --------------- ------------------------ 5.1/12.9 MB 8.6 MB/s eta 0:00:01\n",
      "     ----------------- ---------------------- 5.6/12.9 MB 8.8 MB/s eta 0:00:01\n",
      "     ------------------- -------------------- 6.2/12.9 MB 8.9 MB/s eta 0:00:01\n",
      "     -------------------- ------------------- 6.7/12.9 MB 9.2 MB/s eta 0:00:01\n",
      "     ----------------------- ---------------- 7.4/12.9 MB 9.5 MB/s eta 0:00:01\n",
      "     ------------------------ --------------- 7.9/12.9 MB 9.5 MB/s eta 0:00:01\n",
      "     ------------------------- -------------- 8.3/12.9 MB 9.5 MB/s eta 0:00:01\n",
      "     --------------------------- ------------ 8.7/12.9 MB 9.4 MB/s eta 0:00:01\n",
      "     ---------------------------- ----------- 9.1/12.9 MB 9.4 MB/s eta 0:00:01\n",
      "     ------------------------------ --------- 9.7/12.9 MB 9.5 MB/s eta 0:00:01\n",
      "     ------------------------------- -------- 10.3/12.9 MB 9.6 MB/s eta 0:00:01\n",
      "     --------------------------------- ------ 10.8/12.9 MB 9.9 MB/s eta 0:00:01\n",
      "     ---------------------------------- ---- 11.4/12.9 MB 10.2 MB/s eta 0:00:01\n",
      "     ------------------------------------ -- 11.9/12.9 MB 10.4 MB/s eta 0:00:01\n",
      "     --------------------------------------  12.6/12.9 MB 11.1 MB/s eta 0:00:01\n",
      "     --------------------------------------  12.9/12.9 MB 11.5 MB/s eta 0:00:01\n",
      "     --------------------------------------- 12.9/12.9 MB 10.9 MB/s eta 0:00:00\n",
      "Installing collected packages: numpy\n",
      "Successfully installed numpy-2.2.6\n"
     ]
    },
    {
     "name": "stderr",
     "output_type": "stream",
     "text": [
      "\n",
      "[notice] A new release of pip is available: 23.0.1 -> 25.2\n",
      "[notice] To update, run: python.exe -m pip install --upgrade pip\n"
     ]
    }
   ],
   "source": [
    "!pip install numpy"
   ]
  },
  {
   "cell_type": "code",
   "execution_count": 25,
   "id": "5b56167d",
   "metadata": {},
   "outputs": [],
   "source": [
    "import numpy"
   ]
  },
  {
   "cell_type": "code",
   "execution_count": 26,
   "id": "e7102981",
   "metadata": {},
   "outputs": [
    {
     "name": "stdout",
     "output_type": "stream",
     "text": [
      "Collecting beautifulsoup4\n",
      "  Downloading beautifulsoup4-4.13.5-py3-none-any.whl (105 kB)\n",
      "     ---------------------------------------- 0.0/105.1 kB ? eta -:--:--\n",
      "     -------------------------------------- 105.1/105.1 kB 6.3 MB/s eta 0:00:00\n",
      "Requirement already satisfied: typing-extensions>=4.0.0 in c:\\users\\el008\\appdata\\roaming\\python\\python310\\site-packages (from beautifulsoup4) (4.15.0)\n",
      "Collecting soupsieve>1.2\n",
      "  Downloading soupsieve-2.8-py3-none-any.whl (36 kB)\n",
      "Installing collected packages: soupsieve, beautifulsoup4\n",
      "Successfully installed beautifulsoup4-4.13.5 soupsieve-2.8\n"
     ]
    },
    {
     "name": "stderr",
     "output_type": "stream",
     "text": [
      "\n",
      "[notice] A new release of pip is available: 23.0.1 -> 25.2\n",
      "[notice] To update, run: python.exe -m pip install --upgrade pip\n"
     ]
    }
   ],
   "source": [
    "!pip install beautifulsoup4"
   ]
  },
  {
   "cell_type": "code",
   "execution_count": 29,
   "id": "bcb13048",
   "metadata": {},
   "outputs": [],
   "source": [
    "from bs4 import BeautifulSoup"
   ]
  },
  {
   "cell_type": "code",
   "execution_count": null,
   "id": "3769a753",
   "metadata": {},
   "outputs": [],
   "source": []
  }
 ],
 "metadata": {
  "kernelspec": {
   "display_name": "Python 3",
   "language": "python",
   "name": "python3"
  },
  "language_info": {
   "codemirror_mode": {
    "name": "ipython",
    "version": 3
   },
   "file_extension": ".py",
   "mimetype": "text/x-python",
   "name": "python",
   "nbconvert_exporter": "python",
   "pygments_lexer": "ipython3",
   "version": "3.10.11"
  }
 },
 "nbformat": 4,
 "nbformat_minor": 5
}
