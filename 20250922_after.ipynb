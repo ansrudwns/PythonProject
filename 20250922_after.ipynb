{
 "cells": [
  {
   "cell_type": "code",
   "execution_count": 22,
   "id": "76a4fbc1",
   "metadata": {},
   "outputs": [
    {
     "name": "stdout",
     "output_type": "stream",
     "text": [
      "          \n",
      "         *\n",
      "        ***\n",
      "       *****\n",
      "      *******\n",
      "     *********\n",
      "    ***********\n",
      "   *************\n",
      "  ***************\n",
      " *****************\n",
      "*******************\n"
     ]
    }
   ],
   "source": [
    "n = int(input(\"층의 갯수를 입력하세요: \"))\n",
    "i = 1\n",
    "\n",
    "for i in range(n+1):\n",
    "    for j in range(n-i):\n",
    "        print(' ', end=\"\")\n",
    "    for j in range(2*i-1):\n",
    "        print(\"*\", end=\"\")\n",
    "    print()"
   ]
  },
  {
   "cell_type": "code",
   "execution_count": 19,
   "id": "898d4b42",
   "metadata": {},
   "outputs": [
    {
     "name": "stdout",
     "output_type": "stream",
     "text": [
      "         *\n",
      "        ***\n",
      "       *****\n",
      "      *******\n",
      "     *********\n",
      "    ***********\n",
      "   *************\n",
      "  ***************\n",
      " *****************\n",
      "*******************\n"
     ]
    }
   ],
   "source": [
    "n = int(input(\"층의 갯수를 입력하세요: \"))\n",
    "i = 1\n",
    "\n",
    "for i in range(1,n+1):\n",
    "    print(\" \"*(n-i)+\"*\"*(2*i-1))"
   ]
  },
  {
   "cell_type": "code",
   "execution_count": 25,
   "id": "806002fe",
   "metadata": {},
   "outputs": [
    {
     "name": "stdout",
     "output_type": "stream",
     "text": [
      "*\n",
      "**\n",
      "***\n",
      "****\n",
      "*****\n",
      "******\n",
      "*******\n",
      "**"
     ]
    }
   ],
   "source": [
    "n = int(input(\"별의 개수를 입력하세요: \"))\n",
    "\n",
    "count = 0\n",
    "break_all = False\n",
    "\n",
    "for i in range(1, 11):\n",
    "    for j in range(i):\n",
    "        count += 1\n",
    "        if count > n:\n",
    "            break_all = True\n",
    "            break\n",
    "        print(\"*\", end=\"\")\n",
    "    if break_all:\n",
    "        break\n",
    "    print()"
   ]
  },
  {
   "cell_type": "code",
   "execution_count": 23,
   "id": "d46833df",
   "metadata": {},
   "outputs": [
    {
     "name": "stdout",
     "output_type": "stream",
     "text": [
      "         *\n",
      "        ***\n",
      "       ****\n"
     ]
    }
   ],
   "source": [
    "n = int(input(\"별의 개수를 입력하세요: \"))\n",
    "\n",
    "count = 0\n",
    "\n",
    "for i in range(1,11):\n",
    "    stars = 2*i -1\n",
    "    spaces = 10-i\n",
    "\n",
    "    if count+stars >= n:\n",
    "        print(\" \"*spaces + \"*\"*(n-count))\n",
    "        break\n",
    "    else :\n",
    "        print(\" \"*spaces+\"*\"*stars)\n",
    "        count += stars\n",
    "\n"
   ]
  },
  {
   "cell_type": "code",
   "execution_count": 38,
   "id": "0888661a",
   "metadata": {},
   "outputs": [
    {
     "data": {
      "text/plain": [
       "[1, 2, 3, 4, 5, 6, 7, 8, 9, 10]"
      ]
     },
     "execution_count": 38,
     "metadata": {},
     "output_type": "execute_result"
    }
   ],
   "source": [
    "#리스트컴프리헨션\n",
    "\n",
    "numbers = [i for i in range(1,11)]\n",
    "numbers"
   ]
  },
  {
   "cell_type": "code",
   "execution_count": 40,
   "id": "b504cf7a",
   "metadata": {},
   "outputs": [
    {
     "data": {
      "text/plain": [
       "[2, 4, 6, 8, 10]"
      ]
     },
     "execution_count": 40,
     "metadata": {},
     "output_type": "execute_result"
    }
   ],
   "source": [
    "numbers = [i for i in range(1,11) if i%2 == 0]\n",
    "numbers"
   ]
  },
  {
   "cell_type": "code",
   "execution_count": 41,
   "id": "8b8e024a",
   "metadata": {},
   "outputs": [
    {
     "name": "stdout",
     "output_type": "stream",
     "text": [
      "1번 불합격\n",
      "2번 합격\n",
      "3번 불합격\n",
      "4번 합격\n",
      "5번 불합격\n"
     ]
    }
   ],
   "source": [
    "marks = [90, 25, 67, 45, 80]\n",
    "\n",
    "for i in range(len(marks)):\n",
    "    if marks[i] >= 60:\n",
    "        print(f\"{i+1}번 불합격\")\n",
    "    else :\n",
    "        print(f\"{i+1}번 합격\")"
   ]
  },
  {
   "cell_type": "code",
   "execution_count": 42,
   "id": "28fbefaa",
   "metadata": {},
   "outputs": [
    {
     "name": "stdout",
     "output_type": "stream",
     "text": [
      "가나다\n",
      "다람쥐\n",
      "쥐포\n",
      "포기\n",
      "귀찮아\n",
      "땡\n"
     ]
    }
   ],
   "source": [
    "words = \"가나다\"\n",
    "print(words)\n",
    "\n",
    "while True :\n",
    "    answer = input(\"끝말잇기 단어를 입력: \")\n",
    "\n",
    "    if answer[0] == words[-1]:\n",
    "        print(answer)\n",
    "        words = answer\n",
    "    else :\n",
    "        print(answer)\n",
    "        print(\"땡\")\n",
    "        break"
   ]
  },
  {
   "cell_type": "code",
   "execution_count": 44,
   "id": "3be2e186",
   "metadata": {},
   "outputs": [
    {
     "data": {
      "text/plain": [
       "[1, 3, 0, 1]"
      ]
     },
     "execution_count": 44,
     "metadata": {},
     "output_type": "execute_result"
    }
   ],
   "source": [
    "numbers = [1, 1, 3, 3, 0, 1, 1]\n",
    "\n",
    "answer = []\n",
    "comp = numbers[0]\n",
    "answer.append(comp)\n",
    "\n",
    "for i in numbers:\n",
    "    if comp != i:\n",
    "        comp = i\n",
    "        answer.append(comp)\n",
    "answer"
   ]
  },
  {
   "cell_type": "code",
   "execution_count": 47,
   "id": "5a8f1fdf",
   "metadata": {},
   "outputs": [
    {
     "name": "stdout",
     "output_type": "stream",
     "text": [
      "hello"
     ]
    }
   ],
   "source": [
    "morse = { \n",
    "\n",
    "    '.-':'a','-...':'b','-.-.':'c','-..':'d','.':'e','..-.':'f', \n",
    "\n",
    "    '--.':'g','....':'h','..':'i','.---':'j','-.-':'k','.-..':'l', \n",
    "\n",
    "    '--':'m','-.':'n','---':'o','.--.':'p','--.-':'q','.-.':'r', \n",
    "\n",
    "    '...':'s','-':'t','..-':'u','...-':'v','.--':'w','-..-':'x', \n",
    "\n",
    "    '-.--':'y','--..':'z' \n",
    "\n",
    "} \n",
    "letters = \".... . .-.. .-.. ---\"\n",
    "input = letters.split()\n",
    "\n",
    "for i in input:\n",
    "    print(morse[i], end=\"\")"
   ]
  },
  {
   "cell_type": "code",
   "execution_count": 51,
   "id": "ae44ad22",
   "metadata": {},
   "outputs": [
    {
     "data": {
      "text/plain": [
       "['누드초코', '아몬드', '초코', '크런키', '화이트쿠키']"
      ]
     },
     "execution_count": 51,
     "metadata": {},
     "output_type": "execute_result"
    }
   ],
   "source": [
    "'''\n",
    "빼빼로데이\n",
    "\n",
    "빼빼로의 종류는 6가지 맛('누드초코', '아몬드', '초코', '크런키', '크림치즈', '화이트쿠키')이 있었습니다.\n",
    "이벤트 빼빼로는 한가지 맛에 하나만 구매할 수 있습니다.\n",
    "구매한 빼빼로를 오름차순으로 정렬하여 결과를 나타내 주세요.\n",
    "\n",
    "입력1\n",
    "[\"초코\", \"누드초코\", \"크런키\", \"아몬드\", \"초코\", \"누드초코\", \"아몬드\", \"화이트쿠키\", \"초코\", \"초코\"]\n",
    "\n",
    "출력1\n",
    "['누드초코', '아몬드', '초코', '크런키', '화이트쿠키']\n",
    "'''\n",
    "\n",
    "want = [\"초코\", \"누드초코\", \"크런키\", \"아몬드\", \"초코\", \"누드초코\", \"아몬드\", \"화이트쿠키\", \"초코\", \"초코\"]\n",
    "result = list(set(want))\n",
    "result.sort()\n",
    "result"
   ]
  },
  {
   "cell_type": "code",
   "execution_count": 53,
   "id": "f4940c73",
   "metadata": {},
   "outputs": [
    {
     "data": {
      "text/plain": [
       "7"
      ]
     },
     "execution_count": 53,
     "metadata": {},
     "output_type": "execute_result"
    }
   ],
   "source": [
    "'''\n",
    "영단어갯수세기\n",
    "\n",
    "내가 외운 단어의 개수는 몇개일까요?\n",
    "\n",
    "입력1\n",
    "\"culture experience symbol symbol education symbol effect education affair liberty liberty affair\"\n",
    "\n",
    "출력1\n",
    "7\n",
    "'''\n",
    "\n",
    "a =\"culture experience symbol symbol education symbol effect education affair liberty liberty affair\"\n",
    "b=a.split()\n",
    "\n",
    "answer = list(set(b))\n",
    "len(answer)"
   ]
  },
  {
   "cell_type": "code",
   "execution_count": null,
   "id": "5eda39f3",
   "metadata": {},
   "outputs": [],
   "source": [
    "def num_max(a, b, c,):\n",
    "    if a>b and a>c:\n",
    "        print(a)\n",
    "    elif b>a and b>c:\n",
    "        print(b)\n",
    "    elif c>a and c>a:\n",
    "        print(c)\n",
    "\n",
    "num = num_max(10, 12, 7)\n",
    "num"
   ]
  },
  {
   "cell_type": "code",
   "execution_count": 54,
   "id": "349a22f7",
   "metadata": {},
   "outputs": [
    {
     "data": {
      "text/plain": [
       "24"
      ]
     },
     "execution_count": 54,
     "metadata": {},
     "output_type": "execute_result"
    }
   ],
   "source": [
    "testArray = [52, 273, 32, 103, 275, 24, 57]\n",
    "\n",
    "def num_min(arr):\n",
    "    answer = arr[0]\n",
    "    for i in arr:\n",
    "        if answer > i:\n",
    "            answer = i\n",
    "    return answer\n",
    "\n",
    "num_min(testArray)"
   ]
  },
  {
   "cell_type": "code",
   "execution_count": 57,
   "id": "a3530a6e",
   "metadata": {},
   "outputs": [
    {
     "name": "stdout",
     "output_type": "stream",
     "text": [
      "(1, 2, 3, 4, 5, 6, 7)\n"
     ]
    },
    {
     "data": {
      "text/plain": [
       "7"
      ]
     },
     "execution_count": 57,
     "metadata": {},
     "output_type": "execute_result"
    }
   ],
   "source": [
    "def add_many(*args):\n",
    "    print(args)\n",
    "    sum = 0\n",
    "    for i in args:\n",
    "        sum += 1\n",
    "    return sum\n",
    "\n",
    "add_many(1, 2, 3, 4, 5, 6, 7)"
   ]
  },
  {
   "cell_type": "code",
   "execution_count": 59,
   "id": "ebf98e2a",
   "metadata": {},
   "outputs": [
    {
     "name": "stdout",
     "output_type": "stream",
     "text": [
      "add (1, 2, 3, 4, 5)\n"
     ]
    },
    {
     "data": {
      "text/plain": [
       "15"
      ]
     },
     "execution_count": 59,
     "metadata": {},
     "output_type": "execute_result"
    }
   ],
   "source": [
    "def add_mul(choice, *args):\n",
    "    print(choice, args)\n",
    "    if choice == 'add':\n",
    "        result = 0\n",
    "        for i in args:\n",
    "            result += i\n",
    "        pass\n",
    "    elif choice == 'mul':\n",
    "        result = 1\n",
    "        for i in args:\n",
    "            result *= i\n",
    "        pass\n",
    "    else:\n",
    "        print(\"연산자 종류 확인 요망\")\n",
    "        result = None\n",
    "    return result\n",
    "\n",
    "add_mul('add', 1, 2, 3, 4, 5)"
   ]
  },
  {
   "cell_type": "code",
   "execution_count": 62,
   "id": "56a8d060",
   "metadata": {},
   "outputs": [
    {
     "name": "stdout",
     "output_type": "stream",
     "text": [
      "박지민, 24\n",
      "여자\n"
     ]
    }
   ],
   "source": [
    "def say_my(name, age=30, man=True):\n",
    "    print(f\"{name}, {age}\")\n",
    "    if man :\n",
    "        print('남자')\n",
    "    else :\n",
    "        print('여자')\n",
    "\n",
    "say_my('박지민', man = False, age = 24)"
   ]
  },
  {
   "cell_type": "code",
   "execution_count": null,
   "id": "28b96e80",
   "metadata": {},
   "outputs": [],
   "source": []
  }
 ],
 "metadata": {
  "kernelspec": {
   "display_name": "Python 3",
   "language": "python",
   "name": "python3"
  },
  "language_info": {
   "codemirror_mode": {
    "name": "ipython",
    "version": 3
   },
   "file_extension": ".py",
   "mimetype": "text/x-python",
   "name": "python",
   "nbconvert_exporter": "python",
   "pygments_lexer": "ipython3",
   "version": "3.10.11"
  }
 },
 "nbformat": 4,
 "nbformat_minor": 5
}
