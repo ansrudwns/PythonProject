{
 "cells": [
  {
   "cell_type": "code",
   "execution_count": 2,
   "id": "85c0750a",
   "metadata": {},
   "outputs": [
    {
     "data": {
      "text/plain": [
       "12345600"
      ]
     },
     "execution_count": 2,
     "metadata": {},
     "output_type": "execute_result"
    }
   ],
   "source": [
    "pay = 12345678\n",
    "\n",
    "result = (pay//100)*100\n",
    "result"
   ]
  },
  {
   "cell_type": "code",
   "execution_count": 9,
   "id": "6435d8bb",
   "metadata": {},
   "outputs": [
    {
     "data": {
      "text/plain": [
       "1"
      ]
     },
     "execution_count": 9,
     "metadata": {},
     "output_type": "execute_result"
    }
   ],
   "source": [
    "a= 1234\n",
    "b= 4\n",
    "\n",
    "c = (a%(10**b) - (a%(10**b))%(10**(b-1)))/(10**(b-1))\n",
    "int(c)"
   ]
  },
  {
   "cell_type": "code",
   "execution_count": 10,
   "id": "98b6afc5",
   "metadata": {},
   "outputs": [
    {
     "name": "stdout",
     "output_type": "stream",
     "text": [
      "밑변의 길이가 2이고, 높이가 4인 삼각형의 넓이는 4.0입니다.\n"
     ]
    }
   ],
   "source": [
    "a = int(input(\"밑변의 길이를 입력하세요: \"))\n",
    "b = int(input(\"높이를 입력하세요: \"))\n",
    "\n",
    "result = a*b/2\n",
    "print(f\"밑변의 길이가 {a}이고, 높이가 {b}인 삼각형의 넓이는 {result}입니다.\")"
   ]
  },
  {
   "cell_type": "code",
   "execution_count": 15,
   "id": "40332f2c",
   "metadata": {},
   "outputs": [
    {
     "name": "stdout",
     "output_type": "stream",
     "text": [
      "4단계에서 사용된 바둑돌의 개수는 10개 입니다.\n"
     ]
    }
   ],
   "source": [
    "n = int(input(\"단계를 입력하세요: \"))\n",
    "result = 0\n",
    "\n",
    "for i in range(1, n+1):\n",
    "    result += i\n",
    "\n",
    "print(f\"{n}단계에서 사용된 바둑돌의 개수는 {result}개 입니다.\")"
   ]
  },
  {
   "cell_type": "code",
   "execution_count": 20,
   "id": "dbd96b32",
   "metadata": {},
   "outputs": [
    {
     "name": "stdout",
     "output_type": "stream",
     "text": [
      "12\n",
      "444"
     ]
    }
   ],
   "source": [
    "num1 = int(input(\"num1을 입력하세요: \"))\n",
    "num2 = int(input(\"num2를 입력하세요: \"))\n",
    "\n",
    "print(num1*num2)\n",
    "\n",
    "for i in range(num2):\n",
    "    print(f\"{num1}\", end=\"\")"
   ]
  },
  {
   "cell_type": "code",
   "execution_count": 21,
   "id": "f091c6a7",
   "metadata": {},
   "outputs": [
    {
     "name": "stdout",
     "output_type": "stream",
     "text": [
      "5는 홀수입니다.\n"
     ]
    }
   ],
   "source": [
    "number = int(input(\"자연수를 입력하세요: \"))\n",
    "\n",
    "if number%2 == 0:\n",
    "    print(f\"{number}는 짝수입니다.\")\n",
    "else :\n",
    "    print(f\"{number}는 홀수입니다.\")"
   ]
  },
  {
   "cell_type": "code",
   "execution_count": 22,
   "id": "027cc303",
   "metadata": {},
   "outputs": [
    {
     "name": "stdout",
     "output_type": "stream",
     "text": [
      "A\n"
     ]
    }
   ],
   "source": [
    "score = int(input(\"점수를 입력하세요: \"))\n",
    "\n",
    "if score >= 90:\n",
    "    print(\"A\")\n",
    "elif score >= 80:\n",
    "    print(\"B\")\n",
    "elif score >= 70:\n",
    "    print(\"C\")\n",
    "elif score >= 60:\n",
    "    print(\"D\")\n",
    "else :\n",
    "    print(\"F\")"
   ]
  },
  {
   "cell_type": "code",
   "execution_count": 27,
   "id": "c7ceb3ea",
   "metadata": {},
   "outputs": [
    {
     "name": "stdout",
     "output_type": "stream",
     "text": [
      "지민이의 닉네임 : jimin\n",
      "적의 닉네임 : enemy\n",
      "지민이의 남은 마나: 20\n",
      "적의 남은 체력: 40\n",
      "jimin kill enemy\n"
     ]
    }
   ],
   "source": [
    "while True:\n",
    "\n",
    "    jimin = str(input(\"지민이의 닉네임을 입력하세요: \"))\n",
    "    if len(jimin)>10:\n",
    "        print(\"지민이의 닉네임은 10자를 초과할 수 없습니다.\")\n",
    "        print(\"다시 입력해주세요.\")\n",
    "        continue\n",
    "    else :\n",
    "        print(f\"지민이의 닉네임 : {jimin}\")\n",
    "        break\n",
    "\n",
    "while True:\n",
    "    enemy = str(input(\"적의 닉네임을 입력하세요: \"))\n",
    "    if len(enemy)>10:\n",
    "        print(\"적의 닉네임은 10자를 초과할 수 없습니다.\")\n",
    "        print(\"다시 입력해주세요.\")\n",
    "        continue\n",
    "    else :\n",
    "        print(f\"적의 닉네임 : {enemy}\")\n",
    "        break\n",
    "\n",
    "while True:\n",
    "    mana = int(input(\"지민이의 남은 마나: \"))\n",
    "    if mana > 1000 or mana < 1:\n",
    "        print(\"남은 마나의 범위는 1이상 1000이하 입니다.\")\n",
    "        print(\"다시 입력해주세요.\")\n",
    "        continue\n",
    "    else : \n",
    "        print(\"지민이의 남은 마나:\", mana)\n",
    "        break\n",
    "\n",
    "while True:\n",
    "    hp = int(input(\"적의 남은 체력: \"))\n",
    "    if hp > 1000 or hp < 1:\n",
    "        print(\"남은 체력의 범위는 1이상 1000이하 입니다.\")\n",
    "        print(\"다시 입력해주세요.\")\n",
    "        continue\n",
    "    else : \n",
    "        print(\"적의 남은 체력:\", hp)\n",
    "        break\n",
    "\n",
    "if mana*2 >= hp:\n",
    "    print(f\"{jimin} kill {enemy}\")\n",
    "else :\n",
    "    print(f\"{enemy} kill {jimin}\")\n"
   ]
  },
  {
   "cell_type": "code",
   "execution_count": 34,
   "id": "bcc44eb6",
   "metadata": {},
   "outputs": [
    {
     "name": "stdout",
     "output_type": "stream",
     "text": [
      "1 2 짝 4 5 짝 7 8 짝 10 11 12 짝 14 15 짝 17 18 짝 20 "
     ]
    }
   ],
   "source": [
    "num = int(input(\"1부터 얼마까지 진행할까요?: \"))\n",
    "i = 0\n",
    "\n",
    "for i in range(1, num+1):\n",
    "\n",
    "    if i%10 == 3:\n",
    "        print(\"짝\", end=\" \")\n",
    "    elif i%10 == 6:\n",
    "        print(\"짝\", end=\" \")\n",
    "    elif i%10 == 9:\n",
    "        print(\"짝\", end=\" \")\n",
    "    else :\n",
    "        print(i, end=\" \")\n",
    "    "
   ]
  },
  {
   "cell_type": "code",
   "execution_count": 38,
   "id": "96d4a5e4",
   "metadata": {},
   "outputs": [
    {
     "name": "stdout",
     "output_type": "stream",
     "text": [
      "2x1=2 3x1=3 4x1=4 5x1=5 6x1=6 7x1=7 8x1=8 9x1=9 \n",
      "2x2=4 3x2=6 4x2=8 5x2=10 6x2=12 7x2=14 8x2=16 9x2=18 \n",
      "2x3=6 3x3=9 4x3=12 5x3=15 6x3=18 7x3=21 8x3=24 9x3=27 \n",
      "2x4=8 3x4=12 4x4=16 5x4=20 6x4=24 7x4=28 8x4=32 9x4=36 \n",
      "2x5=10 3x5=15 4x5=20 5x5=25 6x5=30 7x5=35 8x5=40 9x5=45 \n",
      "2x6=12 3x6=18 4x6=24 5x6=30 6x6=36 7x6=42 8x6=48 9x6=54 \n",
      "2x7=14 3x7=21 4x7=28 5x7=35 6x7=42 7x7=49 8x7=56 9x7=63 \n",
      "2x8=16 3x8=24 4x8=32 5x8=40 6x8=48 7x8=56 8x8=64 9x8=72 \n",
      "2x9=18 3x9=27 4x9=36 5x9=45 6x9=54 7x9=63 8x9=72 9x9=81 \n"
     ]
    }
   ],
   "source": [
    "i=0\n",
    "\n",
    "for i in range(1,10):\n",
    "    for j in range(2,10):\n",
    "        print(f\"{j}x{i}={i*j}\", end=\" \")\n",
    "    print()"
   ]
  },
  {
   "cell_type": "code",
   "execution_count": 47,
   "id": "403ebf85",
   "metadata": {},
   "outputs": [
    {
     "name": "stdout",
     "output_type": "stream",
     "text": [
      "***\n",
      "***\n",
      "***\n",
      "***\n"
     ]
    }
   ],
   "source": [
    "a = int(input(\"가로 *의 개수를 입력하세요: \"))\n",
    "b = int(input(\"세로 *의 개수를 입력하세요: \"))\n",
    "\n",
    "i = 0\n",
    "j = 0\n",
    "\n",
    "for i in range(b):\n",
    "    for j in range(a):\n",
    "        print(\"*\", end=\"\")\n",
    "    print()\n"
   ]
  },
  {
   "cell_type": "code",
   "execution_count": 49,
   "id": "081c7bee",
   "metadata": {},
   "outputs": [
    {
     "name": "stdout",
     "output_type": "stream",
     "text": [
      "역삼역 도어읽 로꾸거 역삼역 도어읽 로으앞 .다니입역삼역 ,역삼역 은역번이\n"
     ]
    }
   ],
   "source": [
    "string = \"이번역은 역삼역, 역삼역입니다. 앞으로 읽어도 역삼역 거꾸로 읽어도 역삼역\"\n",
    "print(string[::-1])"
   ]
  },
  {
   "cell_type": "code",
   "execution_count": 56,
   "id": "569e96ca",
   "metadata": {},
   "outputs": [
    {
     "name": "stdout",
     "output_type": "stream",
     "text": [
      "과일 가게에 오신 것을 환영합니다!\n",
      "오늘 판매하는 과일: ['사과', '바나나', '오렌지', '포도', '수박']\n",
      "현재 재고:  [3, 3, 3, 3, 3]\n",
      "사과을(를) 구매하셨습니다! 남은 사과의 재고: 2\n",
      "현재 재고:  [2, 3, 3, 3, 3]\n",
      "사과을(를) 구매하셨습니다! 남은 사과의 재고: 1\n",
      "현재 재고:  [1, 3, 3, 3, 3]\n",
      "사과을(를) 구매하셨습니다! 남은 사과의 재고: 0\n",
      "현재 재고:  [0, 3, 3, 3, 3]\n",
      "사과의 남은 수량은 0개입니다. 다른 과일을 골라주세요.\n",
      "현재 재고:  [0, 3, 3, 3, 3]\n",
      "수박을(를) 구매하셨습니다! 남은 수박의 재고: 2\n",
      "현재 재고:  [0, 3, 3, 3, 2]\n",
      "올바른 입력이 아닙니다. 다시 입력해주세요.\n",
      "현재 재고:  [0, 3, 3, 3, 2]\n",
      "'그만'을 입력하셨습니다. 가게를 종료합니다.\n"
     ]
    }
   ],
   "source": [
    "f = ['사과', '바나나', '오렌지', '포도', '수박']\n",
    "c = [3, 3, 3, 3, 3]\n",
    "\n",
    "print(\"과일 가게에 오신 것을 환영합니다!\")\n",
    "print(f\"오늘 판매하는 과일: {f}\")\n",
    "\n",
    "while True:\n",
    "    print(\"현재 재고: \", c)\n",
    "    choice = str(input(\"어떤 과일을 구매하시겠습니까? (종료하려면 '그만'을 입력하세요): \"))\n",
    "    \n",
    "    if choice in f:\n",
    "        idx = f.index(choice)\n",
    "        if c[idx]>0 :\n",
    "            c[idx] = c[idx] - 1    \n",
    "            print(f\"{choice}을(를) 구매하셨습니다! 남은 {choice}의 재고: {c[idx]}\")\n",
    "            continue\n",
    "        else:\n",
    "            print(f\"{choice}의 남은 수량은 0개입니다. 다른 과일을 골라주세요.\")\n",
    "            continue\n",
    "    if choice == '그만':\n",
    "        print(\"'그만'을 입력하셨습니다. 가게를 종료합니다.\")\n",
    "        break\n",
    "    else :\n",
    "        print(\"올바른 입력이 아닙니다. 다시 입력해주세요.\")\n",
    "        continue\n",
    "\n",
    "    "
   ]
  },
  {
   "cell_type": "code",
   "execution_count": null,
   "id": "3f0f7137",
   "metadata": {},
   "outputs": [],
   "source": []
  },
  {
   "cell_type": "code",
   "execution_count": 60,
   "id": "982411cd",
   "metadata": {},
   "outputs": [
    {
     "data": {
      "text/plain": [
       "['4', '3', '2', '1']"
      ]
     },
     "execution_count": 60,
     "metadata": {},
     "output_type": "execute_result"
    }
   ],
   "source": [
    "n = str(input(\"자연수를 입력하세요: \"))\n",
    "numlist = list(n)\n",
    "result = sorted(numlist, reverse=True)\n",
    "\n",
    "result"
   ]
  },
  {
   "cell_type": "code",
   "execution_count": null,
   "id": "e87ceb44",
   "metadata": {},
   "outputs": [],
   "source": []
  }
 ],
 "metadata": {
  "kernelspec": {
   "display_name": "Python 3",
   "language": "python",
   "name": "python3"
  },
  "language_info": {
   "codemirror_mode": {
    "name": "ipython",
    "version": 3
   },
   "file_extension": ".py",
   "mimetype": "text/x-python",
   "name": "python",
   "nbconvert_exporter": "python",
   "pygments_lexer": "ipython3",
   "version": "3.10.11"
  }
 },
 "nbformat": 4,
 "nbformat_minor": 5
}
