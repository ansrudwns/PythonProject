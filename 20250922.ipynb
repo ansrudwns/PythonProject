{
 "cells": [
  {
   "cell_type": "markdown",
   "id": "8e5e1e4f",
   "metadata": {},
   "source": [
    "# 2025-09-22"
   ]
  },
  {
   "cell_type": "code",
   "execution_count": null,
   "id": "c4459dd9",
   "metadata": {},
   "outputs": [
    {
     "name": "stdout",
     "output_type": "stream",
     "text": [
      "         *\n",
      "        ***\n",
      "       *****\n",
      "      *******\n",
      "     *********\n",
      "    ***********\n",
      "   *************\n",
      "  ***************\n",
      " *****************\n",
      "*******************\n"
     ]
    }
   ],
   "source": [
    "#트리문제 같이 풀기 1.이중반복문\n",
    "\n",
    "n = 10\n",
    "\n",
    "for i in range(1, n+1):\n",
    "    for j in range(n-i):\n",
    "        print(' ', end=\"\")\n",
    "    for j in range(2*i-1):\n",
    "        print(\"*\", end=\"\")\n",
    "    print()"
   ]
  },
  {
   "cell_type": "code",
   "execution_count": null,
   "id": "b742e90c",
   "metadata": {},
   "outputs": [
    {
     "name": "stdout",
     "output_type": "stream",
     "text": [
      "         *\n",
      "        ***\n",
      "       *****\n",
      "      *******\n",
      "     *********\n",
      "    ***********\n",
      "   *************\n",
      "  ***************\n",
      " *****************\n",
      "*******************\n"
     ]
    }
   ],
   "source": [
    "#트리문제 같이 풀기 2.문자열 반복연산\n",
    "\n",
    "n = 10\n",
    "\n",
    "for i in range(1, n+1):\n",
    "    spaces = ' '*(n-i)\n",
    "    stars = \"*\"*(2*i-1)\n",
    "    print(spaces+stars)"
   ]
  },
  {
   "cell_type": "markdown",
   "id": "7d8b0ace",
   "metadata": {},
   "source": [
    "for, while에서의 탈출 -> break\n",
    "중첩반복문에서의 탈출?"
   ]
  },
  {
   "cell_type": "code",
   "execution_count": 28,
   "id": "0d96a90c",
   "metadata": {},
   "outputs": [
    {
     "name": "stdout",
     "output_type": "stream",
     "text": [
      "i=0, j=0\n",
      "i=0, j=1\n",
      "i=0, j=2\n",
      "i=0, j=3\n",
      "i=0, j=4\n",
      "i=1, j=0\n",
      "i=1, j=1\n",
      "i=1, j=2\n",
      "i=1, j=3\n",
      "i=1, j=4\n",
      "i=2, j=0\n",
      "i=2, j=1\n",
      "i=2, j=2\n",
      "i=2, j=3\n",
      "6\n"
     ]
    }
   ],
   "source": [
    "break_all = False\n",
    "\n",
    "for i in range(5):\n",
    "    for j in range(5):\n",
    "        print(f\"i={i}, j={j}\")\n",
    "        if i == 2 and j == 3:\n",
    "            print(i*j)\n",
    "            break_all = True\n",
    "            break\n",
    "    if break_all:\n",
    "        break    "
   ]
  },
  {
   "cell_type": "code",
   "execution_count": 44,
   "id": "0df6f3ad",
   "metadata": {},
   "outputs": [
    {
     "name": "stdout",
     "output_type": "stream",
     "text": [
      "*\n",
      "**\n",
      "***\n",
      "****\n",
      "*****\n",
      "******\n",
      "*******\n",
      "**"
     ]
    }
   ],
   "source": [
    "# 사용자로부터 n개의 별의 갯수를 입력받은 뒤\n",
    "# 별을 출력하되 별의 갯수만큼만 출력하다가 별이 다 소진되면 멈추는 코드작성\n",
    "# 트리의 최대 높이는 10층\n",
    "\n",
    "#정답풀이, 바탕화면 이미지1,2 참고\n",
    "\n",
    "n = 30\n",
    "\n",
    "star = 0\n",
    "break_all = False\n",
    "\n",
    "for i in range(1, 10+1):\n",
    "    for j in range(i):\n",
    "        star += 1\n",
    "        if star > n:\n",
    "            break_all = True\n",
    "            break\n",
    "        print('*', end=\"\")\n",
    "    if break_all:\n",
    "        break\n",
    "    print()"
   ]
  },
  {
   "cell_type": "markdown",
   "id": "e2be911e",
   "metadata": {},
   "source": [
    "## 문자열의 인덱싱, 슬라이싱"
   ]
  },
  {
   "cell_type": "code",
   "execution_count": 45,
   "id": "3f2ddd17",
   "metadata": {},
   "outputs": [],
   "source": [
    "my_str = \"Hello, Python\""
   ]
  },
  {
   "cell_type": "code",
   "execution_count": 46,
   "id": "a23539ff",
   "metadata": {},
   "outputs": [
    {
     "data": {
      "text/plain": [
       "'Hello, Python'"
      ]
     },
     "execution_count": 46,
     "metadata": {},
     "output_type": "execute_result"
    }
   ],
   "source": [
    "my_str"
   ]
  },
  {
   "cell_type": "code",
   "execution_count": null,
   "id": "cb99904b",
   "metadata": {},
   "outputs": [
    {
     "data": {
      "text/plain": [
       "'P'"
      ]
     },
     "execution_count": 49,
     "metadata": {},
     "output_type": "execute_result"
    }
   ],
   "source": [
    "# 인덱싱\n",
    "my_str[7]"
   ]
  },
  {
   "cell_type": "code",
   "execution_count": 51,
   "id": "02420043",
   "metadata": {},
   "outputs": [
    {
     "data": {
      "text/plain": [
       "'P'"
      ]
     },
     "execution_count": 51,
     "metadata": {},
     "output_type": "execute_result"
    }
   ],
   "source": [
    "# 음수 인덱싱\n",
    "my_str[-6]"
   ]
  },
  {
   "cell_type": "code",
   "execution_count": null,
   "id": "d7bdb8ed",
   "metadata": {},
   "outputs": [
    {
     "data": {
      "text/plain": [
       "'Pyth'"
      ]
     },
     "execution_count": 52,
     "metadata": {},
     "output_type": "execute_result"
    }
   ],
   "source": [
    "# 슬라이싱 [star:end:step]\n",
    "my_str[7:11]"
   ]
  },
  {
   "cell_type": "code",
   "execution_count": 54,
   "id": "6e1717f0",
   "metadata": {},
   "outputs": [
    {
     "data": {
      "text/plain": [
       "'Hello, Pyth'"
      ]
     },
     "execution_count": 54,
     "metadata": {},
     "output_type": "execute_result"
    }
   ],
   "source": [
    "my_str[:11]"
   ]
  },
  {
   "cell_type": "code",
   "execution_count": 55,
   "id": "38e39a5b",
   "metadata": {},
   "outputs": [
    {
     "data": {
      "text/plain": [
       "'Python'"
      ]
     },
     "execution_count": 55,
     "metadata": {},
     "output_type": "execute_result"
    }
   ],
   "source": [
    "my_str[7:]"
   ]
  },
  {
   "cell_type": "code",
   "execution_count": 56,
   "id": "f989d72d",
   "metadata": {},
   "outputs": [
    {
     "data": {
      "text/plain": [
       "'Hlo yhn'"
      ]
     },
     "execution_count": 56,
     "metadata": {},
     "output_type": "execute_result"
    }
   ],
   "source": [
    "my_str[::2]"
   ]
  },
  {
   "cell_type": "code",
   "execution_count": 57,
   "id": "482ac4cf",
   "metadata": {},
   "outputs": [
    {
     "data": {
      "text/plain": [
       "'nohtyP ,olleH'"
      ]
     },
     "execution_count": 57,
     "metadata": {},
     "output_type": "execute_result"
    }
   ],
   "source": [
    "my_str[::-1]"
   ]
  },
  {
   "cell_type": "code",
   "execution_count": 58,
   "id": "b15cb5bd",
   "metadata": {},
   "outputs": [
    {
     "data": {
      "text/plain": [
       "str"
      ]
     },
     "execution_count": 58,
     "metadata": {},
     "output_type": "execute_result"
    }
   ],
   "source": [
    "type(my_str)"
   ]
  },
  {
   "cell_type": "code",
   "execution_count": 59,
   "id": "d1cc33ec",
   "metadata": {},
   "outputs": [
    {
     "data": {
      "text/plain": [
       "13"
      ]
     },
     "execution_count": 59,
     "metadata": {},
     "output_type": "execute_result"
    }
   ],
   "source": [
    "len(my_str)"
   ]
  },
  {
   "cell_type": "code",
   "execution_count": 60,
   "id": "d40557c3",
   "metadata": {},
   "outputs": [
    {
     "data": {
      "text/plain": [
       "'n'"
      ]
     },
     "execution_count": 60,
     "metadata": {},
     "output_type": "execute_result"
    }
   ],
   "source": [
    "my_str[12]"
   ]
  },
  {
   "cell_type": "code",
   "execution_count": 62,
   "id": "32016ba2",
   "metadata": {},
   "outputs": [
    {
     "name": "stdout",
     "output_type": "stream",
     "text": [
      "H\n",
      "e\n",
      "l\n",
      "l\n",
      "o\n",
      ",\n",
      " \n",
      "P\n",
      "y\n",
      "t\n",
      "h\n",
      "o\n",
      "n\n"
     ]
    }
   ],
   "source": [
    "for i in my_str:\n",
    "    print(i)"
   ]
  },
  {
   "cell_type": "code",
   "execution_count": 63,
   "id": "053dff45",
   "metadata": {},
   "outputs": [
    {
     "name": "stdout",
     "output_type": "stream",
     "text": [
      "H\n",
      "e\n",
      "l\n",
      "l\n",
      "o\n",
      ",\n",
      " \n",
      "P\n",
      "y\n",
      "t\n",
      "h\n",
      "o\n",
      "n\n"
     ]
    }
   ],
   "source": [
    "for i in range(len(my_str)):\n",
    "    print(my_str[i])"
   ]
  },
  {
   "cell_type": "code",
   "execution_count": 64,
   "id": "693bbe80",
   "metadata": {},
   "outputs": [
    {
     "data": {
      "text/plain": [
       "'hello, python'"
      ]
     },
     "execution_count": 64,
     "metadata": {},
     "output_type": "execute_result"
    }
   ],
   "source": [
    "# 문자열 데이터의 여러가지 기능들\n",
    "\n",
    "my_str.lower()"
   ]
  },
  {
   "cell_type": "code",
   "execution_count": 65,
   "id": "13cdeac6",
   "metadata": {},
   "outputs": [
    {
     "data": {
      "text/plain": [
       "'HELLO, PYTHON'"
      ]
     },
     "execution_count": 65,
     "metadata": {},
     "output_type": "execute_result"
    }
   ],
   "source": [
    "my_str.upper()"
   ]
  },
  {
   "cell_type": "code",
   "execution_count": 69,
   "id": "17a50adf",
   "metadata": {},
   "outputs": [
    {
     "name": "stdout",
     "output_type": "stream",
     "text": [
      "['Hello', ' Python']\n"
     ]
    }
   ],
   "source": [
    "words = my_str.split(',')\n",
    "print(words)"
   ]
  },
  {
   "cell_type": "markdown",
   "id": "395b1c30",
   "metadata": {},
   "source": [
    "### 컬렉션 자료형"
   ]
  },
  {
   "cell_type": "markdown",
   "id": "e83ee319",
   "metadata": {},
   "source": [
    "#### 리스트"
   ]
  },
  {
   "cell_type": "markdown",
   "id": "804c56dd",
   "metadata": {},
   "source": [
    "리스트 : 복수의 다양한 형태의 데이터를 순서대로 저장하고 조작하는 기본 자료형"
   ]
  },
  {
   "cell_type": "code",
   "execution_count": 126,
   "id": "aeb33ed4",
   "metadata": {},
   "outputs": [],
   "source": [
    "numbers = [1, 2, 5, 4, 3]"
   ]
  },
  {
   "cell_type": "code",
   "execution_count": 127,
   "id": "83e5acf7",
   "metadata": {},
   "outputs": [],
   "source": [
    "numbers.sort()"
   ]
  },
  {
   "cell_type": "code",
   "execution_count": 128,
   "id": "abf62d31",
   "metadata": {},
   "outputs": [
    {
     "data": {
      "text/plain": [
       "[1, 2, 3, 4, 5]"
      ]
     },
     "execution_count": 128,
     "metadata": {},
     "output_type": "execute_result"
    }
   ],
   "source": [
    "numbers"
   ]
  },
  {
   "cell_type": "code",
   "execution_count": 129,
   "id": "46b14c11",
   "metadata": {},
   "outputs": [],
   "source": [
    "numbers = [1, 2, 5, 4, 3]"
   ]
  },
  {
   "cell_type": "code",
   "execution_count": 130,
   "id": "9d749042",
   "metadata": {},
   "outputs": [],
   "source": [
    "numbers.sort(reverse=True)"
   ]
  },
  {
   "cell_type": "code",
   "execution_count": 131,
   "id": "8be5795d",
   "metadata": {},
   "outputs": [
    {
     "data": {
      "text/plain": [
       "[5, 4, 3, 2, 1]"
      ]
     },
     "execution_count": 131,
     "metadata": {},
     "output_type": "execute_result"
    }
   ],
   "source": [
    "numbers"
   ]
  },
  {
   "cell_type": "code",
   "execution_count": 82,
   "id": "82a4d37b",
   "metadata": {},
   "outputs": [],
   "source": [
    "fruits = ['apple', 'banana', 'mango']"
   ]
  },
  {
   "cell_type": "code",
   "execution_count": 76,
   "id": "1633fab2",
   "metadata": {},
   "outputs": [],
   "source": [
    "numbers1 = [1, 2, 3, 4, 5]\n",
    "numbers2 = [6, 7, 8, 9, 10]"
   ]
  },
  {
   "cell_type": "code",
   "execution_count": 77,
   "id": "87e8e63b",
   "metadata": {},
   "outputs": [
    {
     "data": {
      "text/plain": [
       "[1, 2, 3, 4, 5, 6, 7, 8, 9, 10]"
      ]
     },
     "execution_count": 77,
     "metadata": {},
     "output_type": "execute_result"
    }
   ],
   "source": [
    "numbers1 + numbers2"
   ]
  },
  {
   "cell_type": "code",
   "execution_count": 75,
   "id": "fb612aa2",
   "metadata": {},
   "outputs": [],
   "source": [
    "mixed = [1, \"apple\", True, [10,20,30]]"
   ]
  },
  {
   "cell_type": "code",
   "execution_count": 78,
   "id": "242bc927",
   "metadata": {},
   "outputs": [
    {
     "data": {
      "text/plain": [
       "[1, 2, 3, 4, 5, 1, 2, 3, 4, 5, 1, 2, 3, 4, 5]"
      ]
     },
     "execution_count": 78,
     "metadata": {},
     "output_type": "execute_result"
    }
   ],
   "source": [
    "numbers1 * 3"
   ]
  },
  {
   "cell_type": "code",
   "execution_count": 73,
   "id": "4a1f5387",
   "metadata": {},
   "outputs": [
    {
     "data": {
      "text/plain": [
       "list"
      ]
     },
     "execution_count": 73,
     "metadata": {},
     "output_type": "execute_result"
    }
   ],
   "source": [
    "type(numbers)"
   ]
  },
  {
   "cell_type": "code",
   "execution_count": 104,
   "id": "c55bc401",
   "metadata": {},
   "outputs": [],
   "source": [
    "fruits = ['apple', 'banana', 'mango']"
   ]
  },
  {
   "cell_type": "code",
   "execution_count": 105,
   "id": "5b0cc10e",
   "metadata": {},
   "outputs": [],
   "source": [
    "# 수정\n",
    "fruits[0] = 'grape'"
   ]
  },
  {
   "cell_type": "code",
   "execution_count": 106,
   "id": "3696ba43",
   "metadata": {},
   "outputs": [
    {
     "data": {
      "text/plain": [
       "['grape', 'banana', 'mango']"
      ]
     },
     "execution_count": 106,
     "metadata": {},
     "output_type": "execute_result"
    }
   ],
   "source": [
    "fruits"
   ]
  },
  {
   "cell_type": "code",
   "execution_count": 107,
   "id": "3fa833e8",
   "metadata": {},
   "outputs": [],
   "source": [
    "# 추가\n",
    "fruits.append('cherry')"
   ]
  },
  {
   "cell_type": "code",
   "execution_count": 108,
   "id": "64eabed1",
   "metadata": {},
   "outputs": [],
   "source": [
    "# 특정 위치에 추가\n",
    "fruits.insert(2, 'kiwi')"
   ]
  },
  {
   "cell_type": "code",
   "execution_count": 109,
   "id": "6bbcaa44",
   "metadata": {},
   "outputs": [
    {
     "data": {
      "text/plain": [
       "['grape', 'banana', 'kiwi', 'mango', 'cherry']"
      ]
     },
     "execution_count": 109,
     "metadata": {},
     "output_type": "execute_result"
    }
   ],
   "source": [
    "fruits"
   ]
  },
  {
   "cell_type": "code",
   "execution_count": 110,
   "id": "1f203359",
   "metadata": {},
   "outputs": [],
   "source": [
    "fruits.extend(['orange', 'date'])"
   ]
  },
  {
   "cell_type": "code",
   "execution_count": 111,
   "id": "d3ef5491",
   "metadata": {},
   "outputs": [
    {
     "data": {
      "text/plain": [
       "['grape', 'banana', 'kiwi', 'mango', 'cherry', 'orange', 'date']"
      ]
     },
     "execution_count": 111,
     "metadata": {},
     "output_type": "execute_result"
    }
   ],
   "source": [
    "fruits"
   ]
  },
  {
   "cell_type": "code",
   "execution_count": 112,
   "id": "c9619a5b",
   "metadata": {},
   "outputs": [
    {
     "data": {
      "text/plain": [
       "'date'"
      ]
     },
     "execution_count": 112,
     "metadata": {},
     "output_type": "execute_result"
    }
   ],
   "source": [
    "fruits[-1]"
   ]
  },
  {
   "cell_type": "code",
   "execution_count": 113,
   "id": "076dfa50",
   "metadata": {},
   "outputs": [
    {
     "data": {
      "text/plain": [
       "['grape', 'banana']"
      ]
     },
     "execution_count": 113,
     "metadata": {},
     "output_type": "execute_result"
    }
   ],
   "source": [
    "fruits[:2]"
   ]
  },
  {
   "cell_type": "code",
   "execution_count": 114,
   "id": "0d35f519",
   "metadata": {},
   "outputs": [
    {
     "data": {
      "text/plain": [
       "'date'"
      ]
     },
     "execution_count": 114,
     "metadata": {},
     "output_type": "execute_result"
    }
   ],
   "source": [
    "fruits.pop()"
   ]
  },
  {
   "cell_type": "code",
   "execution_count": 115,
   "id": "4bb9d816",
   "metadata": {},
   "outputs": [
    {
     "data": {
      "text/plain": [
       "['grape', 'banana', 'kiwi', 'mango', 'cherry', 'orange']"
      ]
     },
     "execution_count": 115,
     "metadata": {},
     "output_type": "execute_result"
    }
   ],
   "source": [
    "fruits"
   ]
  },
  {
   "cell_type": "code",
   "execution_count": 116,
   "id": "8140ff4f",
   "metadata": {},
   "outputs": [
    {
     "data": {
      "text/plain": [
       "'banana'"
      ]
     },
     "execution_count": 116,
     "metadata": {},
     "output_type": "execute_result"
    }
   ],
   "source": [
    "fruits.pop(1)"
   ]
  },
  {
   "cell_type": "code",
   "execution_count": 117,
   "id": "427e24c1",
   "metadata": {},
   "outputs": [
    {
     "data": {
      "text/plain": [
       "['grape', 'kiwi', 'mango', 'cherry', 'orange']"
      ]
     },
     "execution_count": 117,
     "metadata": {},
     "output_type": "execute_result"
    }
   ],
   "source": [
    "fruits"
   ]
  },
  {
   "cell_type": "code",
   "execution_count": null,
   "id": "f22684e9",
   "metadata": {},
   "outputs": [],
   "source": [
    "fruits.remove('cherry')\n",
    "# 같은 이름이 여러개면 맨 앞부터 삭제\n",
    "# 인덱스 번호 물어보고, 원하는 부분을 pop으로 삭제하면 됨"
   ]
  },
  {
   "cell_type": "code",
   "execution_count": 119,
   "id": "51b0c961",
   "metadata": {},
   "outputs": [
    {
     "data": {
      "text/plain": [
       "['grape', 'kiwi', 'mango', 'orange']"
      ]
     },
     "execution_count": 119,
     "metadata": {},
     "output_type": "execute_result"
    }
   ],
   "source": [
    "fruits"
   ]
  },
  {
   "cell_type": "code",
   "execution_count": 120,
   "id": "0aaf9420",
   "metadata": {},
   "outputs": [
    {
     "data": {
      "text/plain": [
       "3"
      ]
     },
     "execution_count": 120,
     "metadata": {},
     "output_type": "execute_result"
    }
   ],
   "source": [
    "fruits.index('orange')"
   ]
  },
  {
   "cell_type": "code",
   "execution_count": 121,
   "id": "36bd156e",
   "metadata": {},
   "outputs": [
    {
     "data": {
      "text/plain": [
       "1"
      ]
     },
     "execution_count": 121,
     "metadata": {},
     "output_type": "execute_result"
    }
   ],
   "source": [
    "fruits.count('orange')"
   ]
  },
  {
   "cell_type": "code",
   "execution_count": 122,
   "id": "3b0801f6",
   "metadata": {},
   "outputs": [],
   "source": [
    "fruits.append('apple')"
   ]
  },
  {
   "cell_type": "code",
   "execution_count": 123,
   "id": "73c8ba08",
   "metadata": {},
   "outputs": [
    {
     "data": {
      "text/plain": [
       "['grape', 'kiwi', 'mango', 'orange', 'apple']"
      ]
     },
     "execution_count": 123,
     "metadata": {},
     "output_type": "execute_result"
    }
   ],
   "source": [
    "fruits"
   ]
  },
  {
   "cell_type": "code",
   "execution_count": 124,
   "id": "0b98bf6b",
   "metadata": {},
   "outputs": [],
   "source": [
    "fruits.sort()"
   ]
  },
  {
   "cell_type": "code",
   "execution_count": 125,
   "id": "28649ecd",
   "metadata": {},
   "outputs": [
    {
     "data": {
      "text/plain": [
       "['apple', 'grape', 'kiwi', 'mango', 'orange']"
      ]
     },
     "execution_count": 125,
     "metadata": {},
     "output_type": "execute_result"
    }
   ],
   "source": [
    "fruits"
   ]
  },
  {
   "cell_type": "code",
   "execution_count": 132,
   "id": "6288896e",
   "metadata": {},
   "outputs": [],
   "source": [
    "fruits.sort(reverse = True)"
   ]
  },
  {
   "cell_type": "code",
   "execution_count": 133,
   "id": "0e826f11",
   "metadata": {},
   "outputs": [
    {
     "data": {
      "text/plain": [
       "['orange', 'mango', 'kiwi', 'grape', 'apple']"
      ]
     },
     "execution_count": 133,
     "metadata": {},
     "output_type": "execute_result"
    }
   ],
   "source": [
    "fruits"
   ]
  },
  {
   "cell_type": "code",
   "execution_count": 134,
   "id": "7805d6ef",
   "metadata": {},
   "outputs": [],
   "source": [
    "fruits.reverse()"
   ]
  },
  {
   "cell_type": "code",
   "execution_count": 135,
   "id": "43b3785f",
   "metadata": {},
   "outputs": [
    {
     "data": {
      "text/plain": [
       "['apple', 'grape', 'kiwi', 'mango', 'orange']"
      ]
     },
     "execution_count": 135,
     "metadata": {},
     "output_type": "execute_result"
    }
   ],
   "source": [
    "fruits"
   ]
  },
  {
   "cell_type": "code",
   "execution_count": 136,
   "id": "7afea19d",
   "metadata": {},
   "outputs": [],
   "source": [
    "fruits = ['apple', 'banana', 'mango', 'cherry']"
   ]
  },
  {
   "cell_type": "code",
   "execution_count": 137,
   "id": "5c7b861d",
   "metadata": {},
   "outputs": [
    {
     "name": "stdout",
     "output_type": "stream",
     "text": [
      "apple\n",
      "banana\n",
      "mango\n",
      "cherry\n"
     ]
    }
   ],
   "source": [
    "for i in fruits:\n",
    "    print(i)"
   ]
  },
  {
   "cell_type": "code",
   "execution_count": 138,
   "id": "0082ebdd",
   "metadata": {},
   "outputs": [
    {
     "name": "stdout",
     "output_type": "stream",
     "text": [
      "0번째 과일 apple\n",
      "1번째 과일 banana\n",
      "2번째 과일 mango\n",
      "3번째 과일 cherry\n"
     ]
    }
   ],
   "source": [
    "for i in range(len(fruits)):\n",
    "    print(f\"{i}번째 과일 {fruits[i]}\")"
   ]
  },
  {
   "cell_type": "code",
   "execution_count": 140,
   "id": "5547c417",
   "metadata": {},
   "outputs": [],
   "source": [
    "numbers = [10, 20, 30, 40, 50]"
   ]
  },
  {
   "cell_type": "code",
   "execution_count": 141,
   "id": "c220a534",
   "metadata": {},
   "outputs": [
    {
     "data": {
      "text/plain": [
       "5"
      ]
     },
     "execution_count": 141,
     "metadata": {},
     "output_type": "execute_result"
    }
   ],
   "source": [
    "len(numbers)"
   ]
  },
  {
   "cell_type": "code",
   "execution_count": 142,
   "id": "5475831b",
   "metadata": {},
   "outputs": [
    {
     "data": {
      "text/plain": [
       "50"
      ]
     },
     "execution_count": 142,
     "metadata": {},
     "output_type": "execute_result"
    }
   ],
   "source": [
    "max(numbers)"
   ]
  },
  {
   "cell_type": "code",
   "execution_count": 143,
   "id": "a02b633f",
   "metadata": {},
   "outputs": [
    {
     "data": {
      "text/plain": [
       "10"
      ]
     },
     "execution_count": 143,
     "metadata": {},
     "output_type": "execute_result"
    }
   ],
   "source": [
    "min(numbers)"
   ]
  },
  {
   "cell_type": "code",
   "execution_count": 144,
   "id": "919fc8aa",
   "metadata": {},
   "outputs": [
    {
     "data": {
      "text/plain": [
       "150"
      ]
     },
     "execution_count": 144,
     "metadata": {},
     "output_type": "execute_result"
    }
   ],
   "source": [
    "sum(numbers)"
   ]
  },
  {
   "cell_type": "code",
   "execution_count": 146,
   "id": "ebf353b2",
   "metadata": {},
   "outputs": [
    {
     "data": {
      "text/plain": [
       "30.0"
      ]
     },
     "execution_count": 146,
     "metadata": {},
     "output_type": "execute_result"
    }
   ],
   "source": [
    "# 평균값은 ?\n",
    "sum(numbers)/len(numbers)"
   ]
  },
  {
   "cell_type": "code",
   "execution_count": 151,
   "id": "994543d1",
   "metadata": {},
   "outputs": [],
   "source": [
    "# 반복문을 이용해서 리스트를 간단하게 생성 -> 리스트컴프리헨션\n",
    "numbers = [i for i in range(1,10+1)]"
   ]
  },
  {
   "cell_type": "code",
   "execution_count": 152,
   "id": "2f9732e7",
   "metadata": {},
   "outputs": [
    {
     "data": {
      "text/plain": [
       "[1, 2, 3, 4, 5, 6, 7, 8, 9, 10]"
      ]
     },
     "execution_count": 152,
     "metadata": {},
     "output_type": "execute_result"
    }
   ],
   "source": [
    "numbers "
   ]
  },
  {
   "cell_type": "code",
   "execution_count": 153,
   "id": "02cdb0b5",
   "metadata": {},
   "outputs": [
    {
     "data": {
      "text/plain": [
       "[0, 1, 2, 3, 4, 5, 6, 7, 8, 9]"
      ]
     },
     "execution_count": 153,
     "metadata": {},
     "output_type": "execute_result"
    }
   ],
   "source": [
    "num_list=[]\n",
    "for i in range(10):\n",
    "    num_list.append(i)\n",
    "num_list"
   ]
  },
  {
   "cell_type": "code",
   "execution_count": 156,
   "id": "aae27b2d",
   "metadata": {},
   "outputs": [
    {
     "data": {
      "text/plain": [
       "[0, 2, 4, 6, 8]"
      ]
     },
     "execution_count": 156,
     "metadata": {},
     "output_type": "execute_result"
    }
   ],
   "source": [
    "num_list=[]\n",
    "for i in range(10):\n",
    "    if i%2 == 0:\n",
    "        num_list.append(i)\n",
    "num_list"
   ]
  },
  {
   "cell_type": "code",
   "execution_count": 157,
   "id": "7116e28c",
   "metadata": {},
   "outputs": [],
   "source": [
    "numbers = [i for i in range(1,10+1) if i % 2 == 0]"
   ]
  },
  {
   "cell_type": "code",
   "execution_count": 158,
   "id": "fcc023f0",
   "metadata": {},
   "outputs": [
    {
     "data": {
      "text/plain": [
       "[2, 4, 6, 8, 10]"
      ]
     },
     "execution_count": 158,
     "metadata": {},
     "output_type": "execute_result"
    }
   ],
   "source": [
    "numbers"
   ]
  },
  {
   "cell_type": "code",
   "execution_count": 154,
   "id": "b04be43c",
   "metadata": {},
   "outputs": [],
   "source": [
    "numbers = [i**2 for i in range(1,10+1)]"
   ]
  },
  {
   "cell_type": "code",
   "execution_count": 155,
   "id": "d6daea33",
   "metadata": {},
   "outputs": [
    {
     "data": {
      "text/plain": [
       "[1, 4, 9, 16, 25, 36, 49, 64, 81, 100]"
      ]
     },
     "execution_count": 155,
     "metadata": {},
     "output_type": "execute_result"
    }
   ],
   "source": [
    "numbers"
   ]
  },
  {
   "cell_type": "code",
   "execution_count": null,
   "id": "01eb28d2",
   "metadata": {},
   "outputs": [
    {
     "name": "stdout",
     "output_type": "stream",
     "text": [
      "1번 학생은 합격입니다.\n",
      "2번 학생은 불합격입니다.\n",
      "3번 학생은 합격입니다.\n",
      "4번 학생은 불합격입니다.\n",
      "5번 학생은 합격입니다.\n"
     ]
    }
   ],
   "source": [
    "# 실습\n",
    "\n",
    "marks = [90, 25, 67, 45, 80]\n",
    "\n",
    "for i in marks:\n",
    "    if i >= 60:\n",
    "        print(f\"{marks.index(i)+1}번 학생은 합격입니다.\")\n",
    "    else :\n",
    "        print(f\"{marks.index(i)+1}번 학생은 불합격입니다.\")\n",
    "\n",
    "### 점수가 중복되는 상황이면 이렇게 하면 안됨"
   ]
  },
  {
   "cell_type": "code",
   "execution_count": null,
   "id": "0777105b",
   "metadata": {},
   "outputs": [
    {
     "name": "stdout",
     "output_type": "stream",
     "text": [
      "1번 학생은 합격입니다.\n",
      "2번 학생은 불합격입니다.\n",
      "3번 학생은 합격입니다.\n",
      "4번 학생은 불합격입니다.\n",
      "5번 학생은 합격입니다.\n"
     ]
    }
   ],
   "source": [
    "# 답안1\n",
    "\n",
    "marks = [90, 25, 67, 45, 80]\n",
    "\n",
    "for i in range(len(marks)):\n",
    "    if marks[i] >= 60:\n",
    "        print(f\"{i+1}번 학생은 합격입니다.\")\n",
    "    else :\n",
    "        print(f\"{i+1}번 학생은 불합격입니다.\")"
   ]
  },
  {
   "cell_type": "code",
   "execution_count": null,
   "id": "c096d53c",
   "metadata": {},
   "outputs": [
    {
     "name": "stdout",
     "output_type": "stream",
     "text": [
      "1번 학생은 합격입니다.\n",
      "2번 학생은 불합격입니다.\n",
      "3번 학생은 합격입니다.\n",
      "4번 학생은 불합격입니다.\n",
      "5번 학생은 합격입니다.\n"
     ]
    }
   ],
   "source": [
    "# 답안2\n",
    "\n",
    "marks = [90, 25, 67, 45, 80]\n",
    "number = 0\n",
    "for i in marks:\n",
    "    number += 1\n",
    "    if i >= 60:\n",
    "        print(f\"{number}번 학생은 합격입니다.\")\n",
    "    else :\n",
    "        print(f\"{number}번 학생은 불합격입니다.\")"
   ]
  },
  {
   "cell_type": "code",
   "execution_count": null,
   "id": "400a7a60",
   "metadata": {},
   "outputs": [
    {
     "name": "stdout",
     "output_type": "stream",
     "text": [
      "['다', '람', '쥐']\n",
      "['쥐', '포']\n",
      "['포', '기']\n",
      "['귀', '찮', '아']\n",
      "땡\n"
     ]
    }
   ],
   "source": [
    "#끝말잇기 게임\n",
    "#실습\n",
    "\n",
    "words1 = [\"가\",\"나\",\"다\"]\n",
    "\n",
    "while True:\n",
    "    words2 = list(input(\"단어를 입력해주세요: \"))\n",
    "    if words1[-1] == words2[0] :\n",
    "        print(words2)\n",
    "        words1 = words2\n",
    "        continue\n",
    "    else : \n",
    "        print(words2)\n",
    "        print(\"땡\")\n",
    "        break"
   ]
  },
  {
   "cell_type": "code",
   "execution_count": null,
   "id": "cf0e05b5",
   "metadata": {},
   "outputs": [
    {
     "name": "stdout",
     "output_type": "stream",
     "text": [
      "가나다\n",
      "다람쥐\n",
      "쥐포\n",
      "포기\n",
      "귀찮아\n",
      "땡\n"
     ]
    }
   ],
   "source": [
    "#끝말잇기 게임\n",
    "#답안\n",
    "\n",
    "var = \"가나다\"\n",
    "\n",
    "print(var)\n",
    "while True:\n",
    "    answer = input(\"끝말잇기 단어를 입력: \")\n",
    "    #비교하는 루틴\n",
    "    if answer[0] == var[-1] :\n",
    "        print(answer)\n",
    "        var = answer\n",
    "    else :\n",
    "        print(answer)\n",
    "        print(\"땡\")\n",
    "        break\n"
   ]
  },
  {
   "cell_type": "code",
   "execution_count": null,
   "id": "38f81214",
   "metadata": {},
   "outputs": [
    {
     "data": {
      "text/plain": [
       "[1, 3, 0, 1]"
      ]
     },
     "execution_count": 192,
     "metadata": {},
     "output_type": "execute_result"
    }
   ],
   "source": [
    "#업그레이드 미션\n",
    "#리스트 numbers 각 원소는 숫자 0부터 9까지로 이루어져 있습니다. 이때, numbers에서 연속적으로 나타나는 숫자는 하나만 남기고 전부 제거하려고 합니다.\n",
    "#단, 제거된 후 남은 수들을 반환할 때는 numbers의 원소들의 순서를 유지해야 합니다.\n",
    "\n",
    "#numbers = [1, 1, 3, 3, 0, 1, 1] -> [1, 3, 0, 1]\n",
    "\n",
    "numbers = [1, 1, 3, 3, 0, 1, 1]\n",
    "\n",
    "answer = []\n",
    "comp = numbers[0]\n",
    "answer.append(comp)\n",
    "\n",
    "for i in numbers:\n",
    "    if comp != i:               #이전 숫자와 같은지 비교\n",
    "        comp = i                #비교할 숫자 갱신\n",
    "        answer.append(comp)     #새로운 숫자이므로 리스트에 삽입\n",
    "answer\n",
    "\n",
    "# 말로 해보면 정리 잘됨\n",
    "# 한번에 하려고 하지말고, 나누어서 하면 쉬움\n",
    "# 다시 해보기"
   ]
  },
  {
   "cell_type": "markdown",
   "id": "3d46d0f5",
   "metadata": {},
   "source": [
    "### 딕셔너리"
   ]
  },
  {
   "cell_type": "code",
   "execution_count": 193,
   "id": "0ff6f136",
   "metadata": {},
   "outputs": [],
   "source": [
    "student = {'name' : 'Jimin', 'age': 29, 'hobby': 'game'}"
   ]
  },
  {
   "cell_type": "code",
   "execution_count": 194,
   "id": "5e98f60f",
   "metadata": {},
   "outputs": [
    {
     "data": {
      "text/plain": [
       "dict"
      ]
     },
     "execution_count": 194,
     "metadata": {},
     "output_type": "execute_result"
    }
   ],
   "source": [
    "type(student)"
   ]
  },
  {
   "cell_type": "code",
   "execution_count": null,
   "id": "605e3d70",
   "metadata": {},
   "outputs": [],
   "source": [
    "mydict={}\n",
    "mydict= dict()"
   ]
  },
  {
   "cell_type": "code",
   "execution_count": 195,
   "id": "b1875858",
   "metadata": {},
   "outputs": [],
   "source": [
    "person = dict(name='chris', age=31)"
   ]
  },
  {
   "cell_type": "code",
   "execution_count": 196,
   "id": "e8f855fb",
   "metadata": {},
   "outputs": [
    {
     "data": {
      "text/plain": [
       "{'name': 'chris', 'age': 31}"
      ]
     },
     "execution_count": 196,
     "metadata": {},
     "output_type": "execute_result"
    }
   ],
   "source": [
    "person"
   ]
  },
  {
   "cell_type": "code",
   "execution_count": 197,
   "id": "1cbfe5e1",
   "metadata": {},
   "outputs": [
    {
     "data": {
      "text/plain": [
       "{'name': '망개', 'age': 29, 'hobby': 'game'}"
      ]
     },
     "execution_count": 197,
     "metadata": {},
     "output_type": "execute_result"
    }
   ],
   "source": [
    "student = {'name' : 'Jimin', 'age': 29, 'hobby': 'game', 'name': '망개'}\n",
    "student"
   ]
  },
  {
   "cell_type": "code",
   "execution_count": 198,
   "id": "4d909884",
   "metadata": {},
   "outputs": [
    {
     "data": {
      "text/plain": [
       "'망개'"
      ]
     },
     "execution_count": 198,
     "metadata": {},
     "output_type": "execute_result"
    }
   ],
   "source": [
    "student['name']"
   ]
  },
  {
   "cell_type": "code",
   "execution_count": 199,
   "id": "62e095fc",
   "metadata": {},
   "outputs": [
    {
     "data": {
      "text/plain": [
       "dict_keys(['name', 'age', 'hobby'])"
      ]
     },
     "execution_count": 199,
     "metadata": {},
     "output_type": "execute_result"
    }
   ],
   "source": [
    "student.keys()"
   ]
  },
  {
   "cell_type": "code",
   "execution_count": 200,
   "id": "ea032087",
   "metadata": {},
   "outputs": [
    {
     "data": {
      "text/plain": [
       "dict_values(['망개', 29, 'game'])"
      ]
     },
     "execution_count": 200,
     "metadata": {},
     "output_type": "execute_result"
    }
   ],
   "source": [
    "student.values()"
   ]
  },
  {
   "cell_type": "code",
   "execution_count": 201,
   "id": "2d5f60df",
   "metadata": {},
   "outputs": [
    {
     "data": {
      "text/plain": [
       "dict_items([('name', '망개'), ('age', 29), ('hobby', 'game')])"
      ]
     },
     "execution_count": 201,
     "metadata": {},
     "output_type": "execute_result"
    }
   ],
   "source": [
    "student.items()"
   ]
  },
  {
   "cell_type": "code",
   "execution_count": 202,
   "id": "4dffa403",
   "metadata": {},
   "outputs": [
    {
     "name": "stdout",
     "output_type": "stream",
     "text": [
      "name\n",
      "age\n",
      "hobby\n"
     ]
    }
   ],
   "source": [
    "for i in student.keys():\n",
    "    print(i)"
   ]
  },
  {
   "cell_type": "code",
   "execution_count": 203,
   "id": "d572c8a3",
   "metadata": {},
   "outputs": [
    {
     "name": "stdout",
     "output_type": "stream",
     "text": [
      "망개\n",
      "29\n",
      "game\n"
     ]
    }
   ],
   "source": [
    "for i in student.values():\n",
    "    print(i)"
   ]
  },
  {
   "cell_type": "code",
   "execution_count": 204,
   "id": "13b2fce5",
   "metadata": {},
   "outputs": [
    {
     "name": "stdout",
     "output_type": "stream",
     "text": [
      "('name', '망개')\n",
      "('age', 29)\n",
      "('hobby', 'game')\n"
     ]
    }
   ],
   "source": [
    "for i in student.items():\n",
    "    print(i)"
   ]
  },
  {
   "cell_type": "code",
   "execution_count": 206,
   "id": "8d989ec0",
   "metadata": {},
   "outputs": [],
   "source": [
    "student['name'] = '망개떡'"
   ]
  },
  {
   "cell_type": "code",
   "execution_count": 207,
   "id": "de229e81",
   "metadata": {},
   "outputs": [
    {
     "data": {
      "text/plain": [
       "{'name': '망개떡', 'age': 29, 'hobby': 'game'}"
      ]
     },
     "execution_count": 207,
     "metadata": {},
     "output_type": "execute_result"
    }
   ],
   "source": [
    "student"
   ]
  },
  {
   "cell_type": "code",
   "execution_count": 208,
   "id": "f4a83195",
   "metadata": {},
   "outputs": [],
   "source": [
    "student['addr']= '서울시 용산구'"
   ]
  },
  {
   "cell_type": "code",
   "execution_count": 209,
   "id": "ae9a3f8c",
   "metadata": {},
   "outputs": [
    {
     "data": {
      "text/plain": [
       "{'name': '망개떡', 'age': 29, 'hobby': 'game', 'addr': '서울시 용산구'}"
      ]
     },
     "execution_count": 209,
     "metadata": {},
     "output_type": "execute_result"
    }
   ],
   "source": [
    "student"
   ]
  },
  {
   "cell_type": "code",
   "execution_count": 214,
   "id": "97bf4c87",
   "metadata": {},
   "outputs": [
    {
     "data": {
      "text/plain": [
       "'값이 없음'"
      ]
     },
     "execution_count": 214,
     "metadata": {},
     "output_type": "execute_result"
    }
   ],
   "source": [
    "student.get('addr2', \"값이 없음\")"
   ]
  },
  {
   "cell_type": "code",
   "execution_count": 216,
   "id": "0143cbcf",
   "metadata": {},
   "outputs": [
    {
     "data": {
      "text/plain": [
       "29"
      ]
     },
     "execution_count": 216,
     "metadata": {},
     "output_type": "execute_result"
    }
   ],
   "source": [
    "student.pop('age')"
   ]
  },
  {
   "cell_type": "code",
   "execution_count": 217,
   "id": "f9cf454c",
   "metadata": {},
   "outputs": [
    {
     "data": {
      "text/plain": [
       "('addr', '서울시 용산구')"
      ]
     },
     "execution_count": 217,
     "metadata": {},
     "output_type": "execute_result"
    }
   ],
   "source": [
    "student.popitem()"
   ]
  },
  {
   "cell_type": "code",
   "execution_count": 218,
   "id": "d2e8df9a",
   "metadata": {},
   "outputs": [
    {
     "data": {
      "text/plain": [
       "{'name': '망개떡', 'hobby': 'game'}"
      ]
     },
     "execution_count": 218,
     "metadata": {},
     "output_type": "execute_result"
    }
   ],
   "source": [
    "student"
   ]
  },
  {
   "cell_type": "code",
   "execution_count": 219,
   "id": "d60200fb",
   "metadata": {},
   "outputs": [
    {
     "data": {
      "text/plain": [
       "True"
      ]
     },
     "execution_count": 219,
     "metadata": {},
     "output_type": "execute_result"
    }
   ],
   "source": [
    "'name' in student.keys()"
   ]
  },
  {
   "cell_type": "code",
   "execution_count": null,
   "id": "b44e123e",
   "metadata": {},
   "outputs": [
    {
     "name": "stdout",
     "output_type": "stream",
     "text": [
      "hello"
     ]
    }
   ],
   "source": [
    "morse = { \n",
    "\n",
    "    '.-':'a','-...':'b','-.-.':'c','-..':'d','.':'e','..-.':'f', \n",
    "\n",
    "    '--.':'g','....':'h','..':'i','.---':'j','-.-':'k','.-..':'l', \n",
    "\n",
    "    '--':'m','-.':'n','---':'o','.--.':'p','--.-':'q','.-.':'r', \n",
    "\n",
    "    '...':'s','-':'t','..-':'u','...-':'v','.--':'w','-..-':'x', \n",
    "\n",
    "    '-.--':'y','--..':'z' \n",
    "\n",
    "} \n",
    "'''\n",
    "입출력 예 \n",
    "\n",
    "letter  result \n",
    "\n",
    "\".... . .-.. .-.. ---\"  \"hello\" \n",
    "\n",
    "\".--. -.-- - .... --- -.\"   \"python\" \n",
    "'''\n",
    "\n",
    "morse_input = input(\"모스 부호를 입력하세요: \").split(' ')\n",
    "\n",
    "for i in morse_input:\n",
    "    print(morse[i], end=\"\")"
   ]
  },
  {
   "cell_type": "code",
   "execution_count": 225,
   "id": "e8dc62f9",
   "metadata": {},
   "outputs": [
    {
     "name": "stdout",
     "output_type": "stream",
     "text": [
      "hello\n"
     ]
    }
   ],
   "source": [
    "letter = \".... . .-.. .-.. ---\"\n",
    "\n",
    "a = letter.split()\n",
    "\n",
    "answer = ''\n",
    "for i in a:\n",
    "    answer += morse[i]\n",
    "\n",
    "print(answer)"
   ]
  },
  {
   "cell_type": "markdown",
   "id": "936cf7d8",
   "metadata": {},
   "source": [
    "#### set 자료형"
   ]
  },
  {
   "cell_type": "markdown",
   "id": "2b17934b",
   "metadata": {},
   "source": [
    "중복을 허용하지 않고, 순서가 없는 데이터"
   ]
  },
  {
   "cell_type": "code",
   "execution_count": 226,
   "id": "62332748",
   "metadata": {},
   "outputs": [],
   "source": [
    "s = {1, 2, 3, 4, 2, 3}"
   ]
  },
  {
   "cell_type": "code",
   "execution_count": 230,
   "id": "baeaa467",
   "metadata": {},
   "outputs": [],
   "source": [
    "s.add(5)"
   ]
  },
  {
   "cell_type": "code",
   "execution_count": 231,
   "id": "1c97530b",
   "metadata": {},
   "outputs": [
    {
     "data": {
      "text/plain": [
       "{1, 2, 3, 4, 5}"
      ]
     },
     "execution_count": 231,
     "metadata": {},
     "output_type": "execute_result"
    }
   ],
   "source": [
    "s"
   ]
  },
  {
   "cell_type": "code",
   "execution_count": 232,
   "id": "8fe8c4cf",
   "metadata": {},
   "outputs": [
    {
     "data": {
      "text/plain": [
       "1"
      ]
     },
     "execution_count": 232,
     "metadata": {},
     "output_type": "execute_result"
    }
   ],
   "source": [
    "s.pop()"
   ]
  },
  {
   "cell_type": "code",
   "execution_count": 233,
   "id": "73f9197e",
   "metadata": {},
   "outputs": [],
   "source": [
    "s.remove(3)"
   ]
  },
  {
   "cell_type": "code",
   "execution_count": 234,
   "id": "91fd0c41",
   "metadata": {},
   "outputs": [
    {
     "data": {
      "text/plain": [
       "{2, 4, 5}"
      ]
     },
     "execution_count": 234,
     "metadata": {},
     "output_type": "execute_result"
    }
   ],
   "source": [
    "s"
   ]
  },
  {
   "cell_type": "code",
   "execution_count": 227,
   "id": "6dd44fd9",
   "metadata": {},
   "outputs": [
    {
     "data": {
      "text/plain": [
       "set"
      ]
     },
     "execution_count": 227,
     "metadata": {},
     "output_type": "execute_result"
    }
   ],
   "source": [
    "type(s)"
   ]
  },
  {
   "cell_type": "code",
   "execution_count": 228,
   "id": "2aba4161",
   "metadata": {},
   "outputs": [
    {
     "data": {
      "text/plain": [
       "{1, 2, 3, 4}"
      ]
     },
     "execution_count": 228,
     "metadata": {},
     "output_type": "execute_result"
    }
   ],
   "source": [
    "s"
   ]
  },
  {
   "cell_type": "code",
   "execution_count": 229,
   "id": "24198591",
   "metadata": {},
   "outputs": [
    {
     "ename": "TypeError",
     "evalue": "'set' object is not subscriptable",
     "output_type": "error",
     "traceback": [
      "\u001b[1;31m---------------------------------------------------------------------------\u001b[0m",
      "\u001b[1;31mTypeError\u001b[0m                                 Traceback (most recent call last)",
      "Cell \u001b[1;32mIn[229], line 1\u001b[0m\n\u001b[1;32m----> 1\u001b[0m \u001b[43ms\u001b[49m\u001b[43m[\u001b[49m\u001b[38;5;241;43m0\u001b[39;49m\u001b[43m]\u001b[49m\n",
      "\u001b[1;31mTypeError\u001b[0m: 'set' object is not subscriptable"
     ]
    }
   ],
   "source": [
    "s[0]"
   ]
  },
  {
   "cell_type": "code",
   "execution_count": 235,
   "id": "65e34dee",
   "metadata": {},
   "outputs": [],
   "source": [
    "my_list = [1, 2, 3, 5, 1, 2, 3]"
   ]
  },
  {
   "cell_type": "code",
   "execution_count": 237,
   "id": "efe593b8",
   "metadata": {},
   "outputs": [
    {
     "data": {
      "text/plain": [
       "[1, 2, 3, 5]"
      ]
     },
     "execution_count": 237,
     "metadata": {},
     "output_type": "execute_result"
    }
   ],
   "source": [
    "list(set(my_list))"
   ]
  },
  {
   "cell_type": "code",
   "execution_count": 238,
   "id": "b9d5f2dd",
   "metadata": {},
   "outputs": [],
   "source": [
    "a = {1,2,3,4}\n",
    "b = {3,4,5,6}"
   ]
  },
  {
   "cell_type": "code",
   "execution_count": 239,
   "id": "8c1eea2f",
   "metadata": {},
   "outputs": [
    {
     "data": {
      "text/plain": [
       "{1, 2, 3, 4, 5, 6}"
      ]
     },
     "execution_count": 239,
     "metadata": {},
     "output_type": "execute_result"
    }
   ],
   "source": [
    "a | b"
   ]
  },
  {
   "cell_type": "code",
   "execution_count": 240,
   "id": "ee4710a7",
   "metadata": {},
   "outputs": [
    {
     "data": {
      "text/plain": [
       "{1, 2, 3, 4, 5, 6}"
      ]
     },
     "execution_count": 240,
     "metadata": {},
     "output_type": "execute_result"
    }
   ],
   "source": [
    "a.union(b)"
   ]
  },
  {
   "cell_type": "code",
   "execution_count": 241,
   "id": "197761ae",
   "metadata": {},
   "outputs": [
    {
     "data": {
      "text/plain": [
       "{3, 4}"
      ]
     },
     "execution_count": 241,
     "metadata": {},
     "output_type": "execute_result"
    }
   ],
   "source": [
    "a&b"
   ]
  },
  {
   "cell_type": "code",
   "execution_count": 242,
   "id": "70816fea",
   "metadata": {},
   "outputs": [
    {
     "data": {
      "text/plain": [
       "{3, 4}"
      ]
     },
     "execution_count": 242,
     "metadata": {},
     "output_type": "execute_result"
    }
   ],
   "source": [
    "a.intersection(b)"
   ]
  },
  {
   "cell_type": "code",
   "execution_count": 243,
   "id": "dab55c73",
   "metadata": {},
   "outputs": [
    {
     "data": {
      "text/plain": [
       "{1, 2}"
      ]
     },
     "execution_count": 243,
     "metadata": {},
     "output_type": "execute_result"
    }
   ],
   "source": [
    "a-b"
   ]
  },
  {
   "cell_type": "code",
   "execution_count": 244,
   "id": "cdc93271",
   "metadata": {},
   "outputs": [
    {
     "data": {
      "text/plain": [
       "{1, 2}"
      ]
     },
     "execution_count": 244,
     "metadata": {},
     "output_type": "execute_result"
    }
   ],
   "source": [
    "a.difference(b)"
   ]
  },
  {
   "cell_type": "markdown",
   "id": "c5f40da7",
   "metadata": {},
   "source": [
    "#### 튜플"
   ]
  },
  {
   "cell_type": "markdown",
   "id": "1026e001",
   "metadata": {},
   "source": [
    "immutable"
   ]
  },
  {
   "cell_type": "code",
   "execution_count": 245,
   "id": "f7c0deea",
   "metadata": {},
   "outputs": [],
   "source": [
    "t1 = ()"
   ]
  },
  {
   "cell_type": "code",
   "execution_count": 246,
   "id": "d111a44b",
   "metadata": {},
   "outputs": [],
   "source": [
    "t2 = (1,2,3)"
   ]
  },
  {
   "cell_type": "code",
   "execution_count": 247,
   "id": "508f5d65",
   "metadata": {},
   "outputs": [
    {
     "data": {
      "text/plain": [
       "tuple"
      ]
     },
     "execution_count": 247,
     "metadata": {},
     "output_type": "execute_result"
    }
   ],
   "source": [
    "type(t2)"
   ]
  },
  {
   "cell_type": "code",
   "execution_count": 248,
   "id": "e3fc16aa",
   "metadata": {},
   "outputs": [
    {
     "data": {
      "text/plain": [
       "1"
      ]
     },
     "execution_count": 248,
     "metadata": {},
     "output_type": "execute_result"
    }
   ],
   "source": [
    "t2[0]"
   ]
  },
  {
   "cell_type": "code",
   "execution_count": 249,
   "id": "4f388c41",
   "metadata": {},
   "outputs": [],
   "source": [
    "t3= ('a', 4, ('ab'))"
   ]
  },
  {
   "cell_type": "code",
   "execution_count": 250,
   "id": "eed76be7",
   "metadata": {},
   "outputs": [],
   "source": [
    "rawdata = ()"
   ]
  },
  {
   "cell_type": "code",
   "execution_count": 251,
   "id": "5a78126c",
   "metadata": {},
   "outputs": [],
   "source": [
    "t4 = 1, 2, 3, 4"
   ]
  },
  {
   "cell_type": "code",
   "execution_count": 252,
   "id": "a38db98f",
   "metadata": {},
   "outputs": [
    {
     "data": {
      "text/plain": [
       "tuple"
      ]
     },
     "execution_count": 252,
     "metadata": {},
     "output_type": "execute_result"
    }
   ],
   "source": [
    "type(t4)"
   ]
  },
  {
   "cell_type": "code",
   "execution_count": 256,
   "id": "46247db1",
   "metadata": {},
   "outputs": [
    {
     "data": {
      "text/plain": [
       "['누드초코', '아몬드', '초코', '크런키', '화이트쿠키']"
      ]
     },
     "execution_count": 256,
     "metadata": {},
     "output_type": "execute_result"
    }
   ],
   "source": [
    "'''\n",
    "빼빼로데이\n",
    "\n",
    "빼빼로의 종류는 6가지 맛('누드초코', '아몬드', '초코', '크런키', '크림치즈', '화이트쿠키')이 있었습니다.\n",
    "이벤트 빼빼로는 한가지 맛에 하나만 구매할 수 있습니다.\n",
    "구매한 빼빼로를 오름차순으로 정렬하여 결과를 나타내 주세요.\n",
    "\n",
    "입력1\n",
    "[\"초코\", \"누드초코\", \"크런키\", \"아몬드\", \"초코\", \"누드초코\", \"아몬드\", \"화이트쿠키\", \"초코\", \"초코\"]\n",
    "\n",
    "출력1\n",
    "['누드초코', '아몬드', '초코', '크런키', '화이트쿠키']\n",
    "'''\n",
    "\n",
    "a = [\"초코\", \"누드초코\", \"크런키\", \"아몬드\", \"초코\", \"누드초코\", \"아몬드\", \"화이트쿠키\", \"초코\", \"초코\"]\n",
    "\n",
    "answer = list(set(a))\n",
    "answer.sort()\n",
    "answer"
   ]
  },
  {
   "cell_type": "code",
   "execution_count": 261,
   "id": "7d3a5bfe",
   "metadata": {},
   "outputs": [
    {
     "data": {
      "text/plain": [
       "7"
      ]
     },
     "execution_count": 261,
     "metadata": {},
     "output_type": "execute_result"
    }
   ],
   "source": [
    "'''\n",
    "영단어갯수세기\n",
    "\n",
    "내가 외운 단어의 개수는 몇개일까요?\n",
    "\n",
    "입력1\n",
    "\"culture experience symbol symbol education symbol effect education affair liberty liberty affair\"\n",
    "\n",
    "출력1\n",
    "7\n",
    "'''\n",
    "\n",
    "a = \"culture experience symbol symbol education symbol effect education affair liberty liberty affair\"\n",
    "b = a.split()\n",
    "\n",
    "answer = list(set(b))\n",
    "\n",
    "len(answer)"
   ]
  },
  {
   "cell_type": "code",
   "execution_count": 262,
   "id": "c3374d92",
   "metadata": {},
   "outputs": [
    {
     "data": {
      "text/plain": [
       "['ArithmeticError',\n",
       " 'AssertionError',\n",
       " 'AttributeError',\n",
       " 'BaseException',\n",
       " 'BlockingIOError',\n",
       " 'BrokenPipeError',\n",
       " 'BufferError',\n",
       " 'BytesWarning',\n",
       " 'ChildProcessError',\n",
       " 'ConnectionAbortedError',\n",
       " 'ConnectionError',\n",
       " 'ConnectionRefusedError',\n",
       " 'ConnectionResetError',\n",
       " 'DeprecationWarning',\n",
       " 'EOFError',\n",
       " 'Ellipsis',\n",
       " 'EncodingWarning',\n",
       " 'EnvironmentError',\n",
       " 'Exception',\n",
       " 'False',\n",
       " 'FileExistsError',\n",
       " 'FileNotFoundError',\n",
       " 'FloatingPointError',\n",
       " 'FutureWarning',\n",
       " 'GeneratorExit',\n",
       " 'IOError',\n",
       " 'ImportError',\n",
       " 'ImportWarning',\n",
       " 'IndentationError',\n",
       " 'IndexError',\n",
       " 'InterruptedError',\n",
       " 'IsADirectoryError',\n",
       " 'KeyError',\n",
       " 'KeyboardInterrupt',\n",
       " 'LookupError',\n",
       " 'MemoryError',\n",
       " 'ModuleNotFoundError',\n",
       " 'NameError',\n",
       " 'None',\n",
       " 'NotADirectoryError',\n",
       " 'NotImplemented',\n",
       " 'NotImplementedError',\n",
       " 'OSError',\n",
       " 'OverflowError',\n",
       " 'PendingDeprecationWarning',\n",
       " 'PermissionError',\n",
       " 'ProcessLookupError',\n",
       " 'RecursionError',\n",
       " 'ReferenceError',\n",
       " 'ResourceWarning',\n",
       " 'RuntimeError',\n",
       " 'RuntimeWarning',\n",
       " 'StopAsyncIteration',\n",
       " 'StopIteration',\n",
       " 'SyntaxError',\n",
       " 'SyntaxWarning',\n",
       " 'SystemError',\n",
       " 'SystemExit',\n",
       " 'TabError',\n",
       " 'TimeoutError',\n",
       " 'True',\n",
       " 'TypeError',\n",
       " 'UnboundLocalError',\n",
       " 'UnicodeDecodeError',\n",
       " 'UnicodeEncodeError',\n",
       " 'UnicodeError',\n",
       " 'UnicodeTranslateError',\n",
       " 'UnicodeWarning',\n",
       " 'UserWarning',\n",
       " 'ValueError',\n",
       " 'Warning',\n",
       " 'WindowsError',\n",
       " 'ZeroDivisionError',\n",
       " '__IPYTHON__',\n",
       " '__build_class__',\n",
       " '__debug__',\n",
       " '__doc__',\n",
       " '__import__',\n",
       " '__loader__',\n",
       " '__name__',\n",
       " '__package__',\n",
       " '__spec__',\n",
       " 'abs',\n",
       " 'aiter',\n",
       " 'all',\n",
       " 'anext',\n",
       " 'any',\n",
       " 'ascii',\n",
       " 'bin',\n",
       " 'bool',\n",
       " 'breakpoint',\n",
       " 'bytearray',\n",
       " 'bytes',\n",
       " 'callable',\n",
       " 'chr',\n",
       " 'classmethod',\n",
       " 'compile',\n",
       " 'complex',\n",
       " 'copyright',\n",
       " 'credits',\n",
       " 'delattr',\n",
       " 'dict',\n",
       " 'dir',\n",
       " 'display',\n",
       " 'divmod',\n",
       " 'enumerate',\n",
       " 'eval',\n",
       " 'exec',\n",
       " 'execfile',\n",
       " 'filter',\n",
       " 'float',\n",
       " 'format',\n",
       " 'frozenset',\n",
       " 'get_ipython',\n",
       " 'getattr',\n",
       " 'globals',\n",
       " 'hasattr',\n",
       " 'hash',\n",
       " 'help',\n",
       " 'hex',\n",
       " 'id',\n",
       " 'input',\n",
       " 'int',\n",
       " 'isinstance',\n",
       " 'issubclass',\n",
       " 'iter',\n",
       " 'len',\n",
       " 'license',\n",
       " 'list',\n",
       " 'locals',\n",
       " 'map',\n",
       " 'max',\n",
       " 'memoryview',\n",
       " 'min',\n",
       " 'next',\n",
       " 'object',\n",
       " 'oct',\n",
       " 'open',\n",
       " 'ord',\n",
       " 'pow',\n",
       " 'print',\n",
       " 'property',\n",
       " 'range',\n",
       " 'repr',\n",
       " 'reversed',\n",
       " 'round',\n",
       " 'runfile',\n",
       " 'set',\n",
       " 'setattr',\n",
       " 'slice',\n",
       " 'sorted',\n",
       " 'staticmethod',\n",
       " 'str',\n",
       " 'sum',\n",
       " 'super',\n",
       " 'tuple',\n",
       " 'type',\n",
       " 'vars',\n",
       " 'zip']"
      ]
     },
     "execution_count": 262,
     "metadata": {},
     "output_type": "execute_result"
    }
   ],
   "source": [
    "dir(__builtins__)"
   ]
  },
  {
   "cell_type": "markdown",
   "id": "492316c5",
   "metadata": {},
   "source": [
    "#### 함수"
   ]
  },
  {
   "cell_type": "code",
   "execution_count": null,
   "id": "286edcc0",
   "metadata": {},
   "outputs": [],
   "source": [
    "def my_func():\n",
    "    print('내가 만든 함수입니다')"
   ]
  },
  {
   "cell_type": "code",
   "execution_count": 269,
   "id": "98a1ffbc",
   "metadata": {},
   "outputs": [],
   "source": [
    "def my_func(a):\n",
    "    print(f'{a}내가 만든 함수입니다')"
   ]
  },
  {
   "cell_type": "code",
   "execution_count": 270,
   "id": "49127f47",
   "metadata": {},
   "outputs": [
    {
     "name": "stdout",
     "output_type": "stream",
     "text": [
      "Hey내가 만든 함수입니다\n",
      "Hello내가 만든 함수입니다\n",
      "Hi내가 만든 함수입니다\n"
     ]
    }
   ],
   "source": [
    "my_func('Hey')\n",
    "my_func('Hello')\n",
    "my_func('Hi')"
   ]
  },
  {
   "cell_type": "code",
   "execution_count": 267,
   "id": "d6284190",
   "metadata": {},
   "outputs": [],
   "source": [
    "def my_sum(a, b):\n",
    "    result = a + b\n",
    "    return result"
   ]
  },
  {
   "cell_type": "code",
   "execution_count": 272,
   "id": "4025a55e",
   "metadata": {},
   "outputs": [
    {
     "name": "stdout",
     "output_type": "stream",
     "text": [
      "7 11\n"
     ]
    }
   ],
   "source": [
    "num1 = my_sum(3, 4)\n",
    "num2 = my_sum(7,4)\n",
    "\n",
    "print(num1,num2)"
   ]
  },
  {
   "cell_type": "code",
   "execution_count": 278,
   "id": "049b782b",
   "metadata": {},
   "outputs": [
    {
     "name": "stdout",
     "output_type": "stream",
     "text": [
      "12\n"
     ]
    }
   ],
   "source": [
    "def num_max(a, b, c,):\n",
    "    if a>b and a>c:\n",
    "        print(a)\n",
    "    elif b>a and b>c:\n",
    "        print(b)\n",
    "    elif c>a and c>a:\n",
    "        print(c)\n",
    "\n",
    "num = num_max(10, 12, 7)\n",
    "num"
   ]
  },
  {
   "cell_type": "code",
   "execution_count": null,
   "id": "9713cbe5",
   "metadata": {},
   "outputs": [
    {
     "data": {
      "text/plain": [
       "12"
      ]
     },
     "execution_count": 276,
     "metadata": {},
     "output_type": "execute_result"
    }
   ],
   "source": [
    "#답안\n",
    "\n",
    "def max_num(a, b, c):\n",
    "    max_val = a\n",
    "    if b > max_val:\n",
    "        max_val=b\n",
    "    if c> max_val:\n",
    "        max_val = c\n",
    "    return max_val\n",
    "\n",
    "num = max_num(10, 12, 7)\n",
    "num"
   ]
  },
  {
   "cell_type": "code",
   "execution_count": 283,
   "id": "be5c0fc3",
   "metadata": {},
   "outputs": [
    {
     "ename": "TypeError",
     "evalue": "num_min() takes 0 positional arguments but 1 was given",
     "output_type": "error",
     "traceback": [
      "\u001b[1;31m---------------------------------------------------------------------------\u001b[0m",
      "\u001b[1;31mTypeError\u001b[0m                                 Traceback (most recent call last)",
      "Cell \u001b[1;32mIn[283], line 12\u001b[0m\n\u001b[0;32m      8\u001b[0m             answer[i] \u001b[38;5;241m=\u001b[39m testArray[i]\n\u001b[0;32m     10\u001b[0m     \u001b[38;5;28;01mreturn\u001b[39;00m answer\n\u001b[1;32m---> 12\u001b[0m \u001b[43mnum_min\u001b[49m\u001b[43m(\u001b[49m\u001b[43mtestArray\u001b[49m\u001b[43m)\u001b[49m\n",
      "\u001b[1;31mTypeError\u001b[0m: num_min() takes 0 positional arguments but 1 was given"
     ]
    }
   ],
   "source": [
    "testArray = [52, 273, 32, 103, 275, 24, 57]\n",
    "answer = []\n",
    "\n",
    "def num_min():\n",
    "    for i in testArray:\n",
    "        i+=1\n",
    "        if testArray[i] < testArray[i+1]:\n",
    "            answer[i] = testArray[i]\n",
    "        \n",
    "    return answer\n",
    "    \n",
    "num_min(testArray)"
   ]
  },
  {
   "cell_type": "code",
   "execution_count": null,
   "id": "ad889a8f",
   "metadata": {},
   "outputs": [
    {
     "data": {
      "text/plain": [
       "24"
      ]
     },
     "execution_count": 285,
     "metadata": {},
     "output_type": "execute_result"
    }
   ],
   "source": [
    "#답안\n",
    "\n",
    "testArray = [52, 273, 32, 103, 275, 24, 57]\n",
    "\n",
    "def num_min(arr):\n",
    "    answer = arr[0]\n",
    "    for i in arr:\n",
    "        if answer > i:\n",
    "            answer = i\n",
    "    return answer\n",
    "\n",
    "num_min(testArray)"
   ]
  },
  {
   "cell_type": "code",
   "execution_count": 292,
   "id": "f1c59033",
   "metadata": {},
   "outputs": [],
   "source": [
    "def add_many(*args):   # 매개변수앞에 * 붙이면 여러 인자를 튜플로 하나로 받아서 처리해줌\n",
    "    print(args)\n",
    "    sum = 0\n",
    "    for i in args:\n",
    "        sum += i\n",
    "    return sum"
   ]
  },
  {
   "cell_type": "code",
   "execution_count": 293,
   "id": "748c26de",
   "metadata": {},
   "outputs": [
    {
     "name": "stdout",
     "output_type": "stream",
     "text": [
      "(1, 2)\n"
     ]
    },
    {
     "data": {
      "text/plain": [
       "3"
      ]
     },
     "execution_count": 293,
     "metadata": {},
     "output_type": "execute_result"
    }
   ],
   "source": [
    "add_many(1, 2)"
   ]
  },
  {
   "cell_type": "code",
   "execution_count": 294,
   "id": "aebf345b",
   "metadata": {},
   "outputs": [
    {
     "name": "stdout",
     "output_type": "stream",
     "text": [
      "(1, 2, 3, 4, 5, 6, 7)\n"
     ]
    },
    {
     "data": {
      "text/plain": [
       "28"
      ]
     },
     "execution_count": 294,
     "metadata": {},
     "output_type": "execute_result"
    }
   ],
   "source": [
    "add_many(1, 2, 3, 4, 5, 6, 7)"
   ]
  },
  {
   "cell_type": "code",
   "execution_count": null,
   "id": "212570cd",
   "metadata": {},
   "outputs": [],
   "source": [
    "#답안\n",
    "\n",
    "def add_mul(choice, *args):   \n",
    "    print(choice, args)\n",
    "    if choice == 'add':\n",
    "        result = 0\n",
    "        for i in args:\n",
    "            result += i\n",
    "        pass\n",
    "    elif choice == 'mul':\n",
    "        result = 1\n",
    "        for i in args:\n",
    "            result *= i\n",
    "        pass\n",
    "    else :\n",
    "        print(\"연산자 종류 확인 요망!\")\n",
    "        result = None\n",
    "    return result\n",
    "    "
   ]
  },
  {
   "cell_type": "code",
   "execution_count": 302,
   "id": "76e1b786",
   "metadata": {},
   "outputs": [
    {
     "name": "stdout",
     "output_type": "stream",
     "text": [
      "add (1, 2, 3, 4, 5)\n"
     ]
    },
    {
     "data": {
      "text/plain": [
       "15"
      ]
     },
     "execution_count": 302,
     "metadata": {},
     "output_type": "execute_result"
    }
   ],
   "source": [
    "add_mul('add', 1, 2, 3, 4, 5)"
   ]
  },
  {
   "cell_type": "code",
   "execution_count": 303,
   "id": "5ee0723a",
   "metadata": {},
   "outputs": [
    {
     "name": "stdout",
     "output_type": "stream",
     "text": [
      "mul (1, 2, 3, 4, 5)\n"
     ]
    },
    {
     "data": {
      "text/plain": [
       "120"
      ]
     },
     "execution_count": 303,
     "metadata": {},
     "output_type": "execute_result"
    }
   ],
   "source": [
    "add_mul('mul', 1, 2, 3, 4, 5)"
   ]
  },
  {
   "cell_type": "code",
   "execution_count": 304,
   "id": "34fb532d",
   "metadata": {},
   "outputs": [],
   "source": [
    "def add_and_mul(a, b):\n",
    "    return a+b, a*b"
   ]
  },
  {
   "cell_type": "code",
   "execution_count": 306,
   "id": "a59b94cf",
   "metadata": {},
   "outputs": [],
   "source": [
    "result1, result2 = add_and_mul(3, 4)"
   ]
  },
  {
   "cell_type": "code",
   "execution_count": 307,
   "id": "09b319e2",
   "metadata": {},
   "outputs": [
    {
     "data": {
      "text/plain": [
       "7"
      ]
     },
     "execution_count": 307,
     "metadata": {},
     "output_type": "execute_result"
    }
   ],
   "source": [
    "result1"
   ]
  },
  {
   "cell_type": "code",
   "execution_count": 309,
   "id": "787dcda8",
   "metadata": {},
   "outputs": [
    {
     "data": {
      "text/plain": [
       "12"
      ]
     },
     "execution_count": 309,
     "metadata": {},
     "output_type": "execute_result"
    }
   ],
   "source": [
    "result2"
   ]
  },
  {
   "cell_type": "code",
   "execution_count": 313,
   "id": "65349c00",
   "metadata": {},
   "outputs": [],
   "source": [
    "def say_myself(name, age=30, man=True):\n",
    "    print(f'{name}, {age}')\n",
    "    if man :\n",
    "        print('남자')\n",
    "    else :\n",
    "        print('여자')\n"
   ]
  },
  {
   "cell_type": "code",
   "execution_count": 314,
   "id": "b6126630",
   "metadata": {},
   "outputs": [
    {
     "name": "stdout",
     "output_type": "stream",
     "text": [
      "박지민, 30\n",
      "남자\n"
     ]
    }
   ],
   "source": [
    "say_myself('박지민')"
   ]
  },
  {
   "cell_type": "code",
   "execution_count": 312,
   "id": "c8d0dc6a",
   "metadata": {},
   "outputs": [
    {
     "name": "stdout",
     "output_type": "stream",
     "text": [
      "chris, 31\n",
      "여자\n"
     ]
    }
   ],
   "source": [
    "say_myself('chris', 31, False)"
   ]
  },
  {
   "cell_type": "code",
   "execution_count": 316,
   "id": "e7b8356b",
   "metadata": {},
   "outputs": [
    {
     "name": "stdout",
     "output_type": "stream",
     "text": [
      "chris, 24\n",
      "여자\n"
     ]
    }
   ],
   "source": [
    "say_myself('chris', man = False, age = 24)"
   ]
  },
  {
   "cell_type": "code",
   "execution_count": null,
   "id": "b2fee4ca",
   "metadata": {},
   "outputs": [],
   "source": []
  }
 ],
 "metadata": {
  "kernelspec": {
   "display_name": "Python 3",
   "language": "python",
   "name": "python3"
  },
  "language_info": {
   "codemirror_mode": {
    "name": "ipython",
    "version": 3
   },
   "file_extension": ".py",
   "mimetype": "text/x-python",
   "name": "python",
   "nbconvert_exporter": "python",
   "pygments_lexer": "ipython3",
   "version": "3.10.11"
  }
 },
 "nbformat": 4,
 "nbformat_minor": 5
}
